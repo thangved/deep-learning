{
 "cells": [
  {
   "cell_type": "code",
   "execution_count": 2,
   "id": "initial_id",
   "metadata": {
    "collapsed": true,
    "ExecuteTime": {
     "end_time": "2023-08-14T03:41:19.253896766Z",
     "start_time": "2023-08-14T03:41:18.606003781Z"
    }
   },
   "outputs": [],
   "source": [
    "from sklearn import datasets"
   ]
  },
  {
   "cell_type": "code",
   "execution_count": 3,
   "outputs": [
    {
     "data": {
      "text/plain": "{'data': array([[5.1, 3.5, 1.4, 0.2],\n        [4.9, 3. , 1.4, 0.2],\n        [4.7, 3.2, 1.3, 0.2],\n        [4.6, 3.1, 1.5, 0.2],\n        [5. , 3.6, 1.4, 0.2],\n        [5.4, 3.9, 1.7, 0.4],\n        [4.6, 3.4, 1.4, 0.3],\n        [5. , 3.4, 1.5, 0.2],\n        [4.4, 2.9, 1.4, 0.2],\n        [4.9, 3.1, 1.5, 0.1],\n        [5.4, 3.7, 1.5, 0.2],\n        [4.8, 3.4, 1.6, 0.2],\n        [4.8, 3. , 1.4, 0.1],\n        [4.3, 3. , 1.1, 0.1],\n        [5.8, 4. , 1.2, 0.2],\n        [5.7, 4.4, 1.5, 0.4],\n        [5.4, 3.9, 1.3, 0.4],\n        [5.1, 3.5, 1.4, 0.3],\n        [5.7, 3.8, 1.7, 0.3],\n        [5.1, 3.8, 1.5, 0.3],\n        [5.4, 3.4, 1.7, 0.2],\n        [5.1, 3.7, 1.5, 0.4],\n        [4.6, 3.6, 1. , 0.2],\n        [5.1, 3.3, 1.7, 0.5],\n        [4.8, 3.4, 1.9, 0.2],\n        [5. , 3. , 1.6, 0.2],\n        [5. , 3.4, 1.6, 0.4],\n        [5.2, 3.5, 1.5, 0.2],\n        [5.2, 3.4, 1.4, 0.2],\n        [4.7, 3.2, 1.6, 0.2],\n        [4.8, 3.1, 1.6, 0.2],\n        [5.4, 3.4, 1.5, 0.4],\n        [5.2, 4.1, 1.5, 0.1],\n        [5.5, 4.2, 1.4, 0.2],\n        [4.9, 3.1, 1.5, 0.2],\n        [5. , 3.2, 1.2, 0.2],\n        [5.5, 3.5, 1.3, 0.2],\n        [4.9, 3.6, 1.4, 0.1],\n        [4.4, 3. , 1.3, 0.2],\n        [5.1, 3.4, 1.5, 0.2],\n        [5. , 3.5, 1.3, 0.3],\n        [4.5, 2.3, 1.3, 0.3],\n        [4.4, 3.2, 1.3, 0.2],\n        [5. , 3.5, 1.6, 0.6],\n        [5.1, 3.8, 1.9, 0.4],\n        [4.8, 3. , 1.4, 0.3],\n        [5.1, 3.8, 1.6, 0.2],\n        [4.6, 3.2, 1.4, 0.2],\n        [5.3, 3.7, 1.5, 0.2],\n        [5. , 3.3, 1.4, 0.2],\n        [7. , 3.2, 4.7, 1.4],\n        [6.4, 3.2, 4.5, 1.5],\n        [6.9, 3.1, 4.9, 1.5],\n        [5.5, 2.3, 4. , 1.3],\n        [6.5, 2.8, 4.6, 1.5],\n        [5.7, 2.8, 4.5, 1.3],\n        [6.3, 3.3, 4.7, 1.6],\n        [4.9, 2.4, 3.3, 1. ],\n        [6.6, 2.9, 4.6, 1.3],\n        [5.2, 2.7, 3.9, 1.4],\n        [5. , 2. , 3.5, 1. ],\n        [5.9, 3. , 4.2, 1.5],\n        [6. , 2.2, 4. , 1. ],\n        [6.1, 2.9, 4.7, 1.4],\n        [5.6, 2.9, 3.6, 1.3],\n        [6.7, 3.1, 4.4, 1.4],\n        [5.6, 3. , 4.5, 1.5],\n        [5.8, 2.7, 4.1, 1. ],\n        [6.2, 2.2, 4.5, 1.5],\n        [5.6, 2.5, 3.9, 1.1],\n        [5.9, 3.2, 4.8, 1.8],\n        [6.1, 2.8, 4. , 1.3],\n        [6.3, 2.5, 4.9, 1.5],\n        [6.1, 2.8, 4.7, 1.2],\n        [6.4, 2.9, 4.3, 1.3],\n        [6.6, 3. , 4.4, 1.4],\n        [6.8, 2.8, 4.8, 1.4],\n        [6.7, 3. , 5. , 1.7],\n        [6. , 2.9, 4.5, 1.5],\n        [5.7, 2.6, 3.5, 1. ],\n        [5.5, 2.4, 3.8, 1.1],\n        [5.5, 2.4, 3.7, 1. ],\n        [5.8, 2.7, 3.9, 1.2],\n        [6. , 2.7, 5.1, 1.6],\n        [5.4, 3. , 4.5, 1.5],\n        [6. , 3.4, 4.5, 1.6],\n        [6.7, 3.1, 4.7, 1.5],\n        [6.3, 2.3, 4.4, 1.3],\n        [5.6, 3. , 4.1, 1.3],\n        [5.5, 2.5, 4. , 1.3],\n        [5.5, 2.6, 4.4, 1.2],\n        [6.1, 3. , 4.6, 1.4],\n        [5.8, 2.6, 4. , 1.2],\n        [5. , 2.3, 3.3, 1. ],\n        [5.6, 2.7, 4.2, 1.3],\n        [5.7, 3. , 4.2, 1.2],\n        [5.7, 2.9, 4.2, 1.3],\n        [6.2, 2.9, 4.3, 1.3],\n        [5.1, 2.5, 3. , 1.1],\n        [5.7, 2.8, 4.1, 1.3],\n        [6.3, 3.3, 6. , 2.5],\n        [5.8, 2.7, 5.1, 1.9],\n        [7.1, 3. , 5.9, 2.1],\n        [6.3, 2.9, 5.6, 1.8],\n        [6.5, 3. , 5.8, 2.2],\n        [7.6, 3. , 6.6, 2.1],\n        [4.9, 2.5, 4.5, 1.7],\n        [7.3, 2.9, 6.3, 1.8],\n        [6.7, 2.5, 5.8, 1.8],\n        [7.2, 3.6, 6.1, 2.5],\n        [6.5, 3.2, 5.1, 2. ],\n        [6.4, 2.7, 5.3, 1.9],\n        [6.8, 3. , 5.5, 2.1],\n        [5.7, 2.5, 5. , 2. ],\n        [5.8, 2.8, 5.1, 2.4],\n        [6.4, 3.2, 5.3, 2.3],\n        [6.5, 3. , 5.5, 1.8],\n        [7.7, 3.8, 6.7, 2.2],\n        [7.7, 2.6, 6.9, 2.3],\n        [6. , 2.2, 5. , 1.5],\n        [6.9, 3.2, 5.7, 2.3],\n        [5.6, 2.8, 4.9, 2. ],\n        [7.7, 2.8, 6.7, 2. ],\n        [6.3, 2.7, 4.9, 1.8],\n        [6.7, 3.3, 5.7, 2.1],\n        [7.2, 3.2, 6. , 1.8],\n        [6.2, 2.8, 4.8, 1.8],\n        [6.1, 3. , 4.9, 1.8],\n        [6.4, 2.8, 5.6, 2.1],\n        [7.2, 3. , 5.8, 1.6],\n        [7.4, 2.8, 6.1, 1.9],\n        [7.9, 3.8, 6.4, 2. ],\n        [6.4, 2.8, 5.6, 2.2],\n        [6.3, 2.8, 5.1, 1.5],\n        [6.1, 2.6, 5.6, 1.4],\n        [7.7, 3. , 6.1, 2.3],\n        [6.3, 3.4, 5.6, 2.4],\n        [6.4, 3.1, 5.5, 1.8],\n        [6. , 3. , 4.8, 1.8],\n        [6.9, 3.1, 5.4, 2.1],\n        [6.7, 3.1, 5.6, 2.4],\n        [6.9, 3.1, 5.1, 2.3],\n        [5.8, 2.7, 5.1, 1.9],\n        [6.8, 3.2, 5.9, 2.3],\n        [6.7, 3.3, 5.7, 2.5],\n        [6.7, 3. , 5.2, 2.3],\n        [6.3, 2.5, 5. , 1.9],\n        [6.5, 3. , 5.2, 2. ],\n        [6.2, 3.4, 5.4, 2.3],\n        [5.9, 3. , 5.1, 1.8]]),\n 'target': array([0, 0, 0, 0, 0, 0, 0, 0, 0, 0, 0, 0, 0, 0, 0, 0, 0, 0, 0, 0, 0, 0,\n        0, 0, 0, 0, 0, 0, 0, 0, 0, 0, 0, 0, 0, 0, 0, 0, 0, 0, 0, 0, 0, 0,\n        0, 0, 0, 0, 0, 0, 1, 1, 1, 1, 1, 1, 1, 1, 1, 1, 1, 1, 1, 1, 1, 1,\n        1, 1, 1, 1, 1, 1, 1, 1, 1, 1, 1, 1, 1, 1, 1, 1, 1, 1, 1, 1, 1, 1,\n        1, 1, 1, 1, 1, 1, 1, 1, 1, 1, 1, 1, 2, 2, 2, 2, 2, 2, 2, 2, 2, 2,\n        2, 2, 2, 2, 2, 2, 2, 2, 2, 2, 2, 2, 2, 2, 2, 2, 2, 2, 2, 2, 2, 2,\n        2, 2, 2, 2, 2, 2, 2, 2, 2, 2, 2, 2, 2, 2, 2, 2, 2, 2]),\n 'frame': None,\n 'target_names': array(['setosa', 'versicolor', 'virginica'], dtype='<U10'),\n 'DESCR': '.. _iris_dataset:\\n\\nIris plants dataset\\n--------------------\\n\\n**Data Set Characteristics:**\\n\\n    :Number of Instances: 150 (50 in each of three classes)\\n    :Number of Attributes: 4 numeric, predictive attributes and the class\\n    :Attribute Information:\\n        - sepal length in cm\\n        - sepal width in cm\\n        - petal length in cm\\n        - petal width in cm\\n        - class:\\n                - Iris-Setosa\\n                - Iris-Versicolour\\n                - Iris-Virginica\\n                \\n    :Summary Statistics:\\n\\n    ============== ==== ==== ======= ===== ====================\\n                    Min  Max   Mean    SD   Class Correlation\\n    ============== ==== ==== ======= ===== ====================\\n    sepal length:   4.3  7.9   5.84   0.83    0.7826\\n    sepal width:    2.0  4.4   3.05   0.43   -0.4194\\n    petal length:   1.0  6.9   3.76   1.76    0.9490  (high!)\\n    petal width:    0.1  2.5   1.20   0.76    0.9565  (high!)\\n    ============== ==== ==== ======= ===== ====================\\n\\n    :Missing Attribute Values: None\\n    :Class Distribution: 33.3% for each of 3 classes.\\n    :Creator: R.A. Fisher\\n    :Donor: Michael Marshall (MARSHALL%PLU@io.arc.nasa.gov)\\n    :Date: July, 1988\\n\\nThe famous Iris database, first used by Sir R.A. Fisher. The dataset is taken\\nfrom Fisher\\'s paper. Note that it\\'s the same as in R, but not as in the UCI\\nMachine Learning Repository, which has two wrong data points.\\n\\nThis is perhaps the best known database to be found in the\\npattern recognition literature.  Fisher\\'s paper is a classic in the field and\\nis referenced frequently to this day.  (See Duda & Hart, for example.)  The\\ndata set contains 3 classes of 50 instances each, where each class refers to a\\ntype of iris plant.  One class is linearly separable from the other 2; the\\nlatter are NOT linearly separable from each other.\\n\\n.. topic:: References\\n\\n   - Fisher, R.A. \"The use of multiple measurements in taxonomic problems\"\\n     Annual Eugenics, 7, Part II, 179-188 (1936); also in \"Contributions to\\n     Mathematical Statistics\" (John Wiley, NY, 1950).\\n   - Duda, R.O., & Hart, P.E. (1973) Pattern Classification and Scene Analysis.\\n     (Q327.D83) John Wiley & Sons.  ISBN 0-471-22361-1.  See page 218.\\n   - Dasarathy, B.V. (1980) \"Nosing Around the Neighborhood: A New System\\n     Structure and Classification Rule for Recognition in Partially Exposed\\n     Environments\".  IEEE Transactions on Pattern Analysis and Machine\\n     Intelligence, Vol. PAMI-2, No. 1, 67-71.\\n   - Gates, G.W. (1972) \"The Reduced Nearest Neighbor Rule\".  IEEE Transactions\\n     on Information Theory, May 1972, 431-433.\\n   - See also: 1988 MLC Proceedings, 54-64.  Cheeseman et al\"s AUTOCLASS II\\n     conceptual clustering system finds 3 classes in the data.\\n   - Many, many more ...',\n 'feature_names': ['sepal length (cm)',\n  'sepal width (cm)',\n  'petal length (cm)',\n  'petal width (cm)'],\n 'filename': 'iris.csv',\n 'data_module': 'sklearn.datasets.data'}"
     },
     "execution_count": 3,
     "metadata": {},
     "output_type": "execute_result"
    }
   ],
   "source": [
    "iris = datasets.load_iris()\n",
    "iris"
   ],
   "metadata": {
    "collapsed": false,
    "ExecuteTime": {
     "end_time": "2023-08-14T03:41:19.258652742Z",
     "start_time": "2023-08-14T03:41:19.239522190Z"
    }
   },
   "id": "b8d589ba0e9bf513"
  },
  {
   "cell_type": "code",
   "execution_count": 4,
   "outputs": [
    {
     "data": {
      "text/plain": "array([[5.1, 3.5, 1.4, 0.2],\n       [4.9, 3. , 1.4, 0.2],\n       [4.7, 3.2, 1.3, 0.2],\n       [4.6, 3.1, 1.5, 0.2],\n       [5. , 3.6, 1.4, 0.2],\n       [5.4, 3.9, 1.7, 0.4],\n       [4.6, 3.4, 1.4, 0.3],\n       [5. , 3.4, 1.5, 0.2],\n       [4.4, 2.9, 1.4, 0.2],\n       [4.9, 3.1, 1.5, 0.1],\n       [5.4, 3.7, 1.5, 0.2],\n       [4.8, 3.4, 1.6, 0.2],\n       [4.8, 3. , 1.4, 0.1],\n       [4.3, 3. , 1.1, 0.1],\n       [5.8, 4. , 1.2, 0.2],\n       [5.7, 4.4, 1.5, 0.4],\n       [5.4, 3.9, 1.3, 0.4],\n       [5.1, 3.5, 1.4, 0.3],\n       [5.7, 3.8, 1.7, 0.3],\n       [5.1, 3.8, 1.5, 0.3],\n       [5.4, 3.4, 1.7, 0.2],\n       [5.1, 3.7, 1.5, 0.4],\n       [4.6, 3.6, 1. , 0.2],\n       [5.1, 3.3, 1.7, 0.5],\n       [4.8, 3.4, 1.9, 0.2],\n       [5. , 3. , 1.6, 0.2],\n       [5. , 3.4, 1.6, 0.4],\n       [5.2, 3.5, 1.5, 0.2],\n       [5.2, 3.4, 1.4, 0.2],\n       [4.7, 3.2, 1.6, 0.2],\n       [4.8, 3.1, 1.6, 0.2],\n       [5.4, 3.4, 1.5, 0.4],\n       [5.2, 4.1, 1.5, 0.1],\n       [5.5, 4.2, 1.4, 0.2],\n       [4.9, 3.1, 1.5, 0.2],\n       [5. , 3.2, 1.2, 0.2],\n       [5.5, 3.5, 1.3, 0.2],\n       [4.9, 3.6, 1.4, 0.1],\n       [4.4, 3. , 1.3, 0.2],\n       [5.1, 3.4, 1.5, 0.2],\n       [5. , 3.5, 1.3, 0.3],\n       [4.5, 2.3, 1.3, 0.3],\n       [4.4, 3.2, 1.3, 0.2],\n       [5. , 3.5, 1.6, 0.6],\n       [5.1, 3.8, 1.9, 0.4],\n       [4.8, 3. , 1.4, 0.3],\n       [5.1, 3.8, 1.6, 0.2],\n       [4.6, 3.2, 1.4, 0.2],\n       [5.3, 3.7, 1.5, 0.2],\n       [5. , 3.3, 1.4, 0.2],\n       [7. , 3.2, 4.7, 1.4],\n       [6.4, 3.2, 4.5, 1.5],\n       [6.9, 3.1, 4.9, 1.5],\n       [5.5, 2.3, 4. , 1.3],\n       [6.5, 2.8, 4.6, 1.5],\n       [5.7, 2.8, 4.5, 1.3],\n       [6.3, 3.3, 4.7, 1.6],\n       [4.9, 2.4, 3.3, 1. ],\n       [6.6, 2.9, 4.6, 1.3],\n       [5.2, 2.7, 3.9, 1.4],\n       [5. , 2. , 3.5, 1. ],\n       [5.9, 3. , 4.2, 1.5],\n       [6. , 2.2, 4. , 1. ],\n       [6.1, 2.9, 4.7, 1.4],\n       [5.6, 2.9, 3.6, 1.3],\n       [6.7, 3.1, 4.4, 1.4],\n       [5.6, 3. , 4.5, 1.5],\n       [5.8, 2.7, 4.1, 1. ],\n       [6.2, 2.2, 4.5, 1.5],\n       [5.6, 2.5, 3.9, 1.1],\n       [5.9, 3.2, 4.8, 1.8],\n       [6.1, 2.8, 4. , 1.3],\n       [6.3, 2.5, 4.9, 1.5],\n       [6.1, 2.8, 4.7, 1.2],\n       [6.4, 2.9, 4.3, 1.3],\n       [6.6, 3. , 4.4, 1.4],\n       [6.8, 2.8, 4.8, 1.4],\n       [6.7, 3. , 5. , 1.7],\n       [6. , 2.9, 4.5, 1.5],\n       [5.7, 2.6, 3.5, 1. ],\n       [5.5, 2.4, 3.8, 1.1],\n       [5.5, 2.4, 3.7, 1. ],\n       [5.8, 2.7, 3.9, 1.2],\n       [6. , 2.7, 5.1, 1.6],\n       [5.4, 3. , 4.5, 1.5],\n       [6. , 3.4, 4.5, 1.6],\n       [6.7, 3.1, 4.7, 1.5],\n       [6.3, 2.3, 4.4, 1.3],\n       [5.6, 3. , 4.1, 1.3],\n       [5.5, 2.5, 4. , 1.3],\n       [5.5, 2.6, 4.4, 1.2],\n       [6.1, 3. , 4.6, 1.4],\n       [5.8, 2.6, 4. , 1.2],\n       [5. , 2.3, 3.3, 1. ],\n       [5.6, 2.7, 4.2, 1.3],\n       [5.7, 3. , 4.2, 1.2],\n       [5.7, 2.9, 4.2, 1.3],\n       [6.2, 2.9, 4.3, 1.3],\n       [5.1, 2.5, 3. , 1.1],\n       [5.7, 2.8, 4.1, 1.3]])"
     },
     "execution_count": 4,
     "metadata": {},
     "output_type": "execute_result"
    }
   ],
   "source": [
    "X = iris.data[:100]\n",
    "X"
   ],
   "metadata": {
    "collapsed": false,
    "ExecuteTime": {
     "end_time": "2023-08-14T03:41:19.260807335Z",
     "start_time": "2023-08-14T03:41:19.240089357Z"
    }
   },
   "id": "5728610926bfd60f"
  },
  {
   "cell_type": "code",
   "execution_count": 5,
   "outputs": [
    {
     "data": {
      "text/plain": "array([0, 0, 0, 0, 0, 0, 0, 0, 0, 0, 0, 0, 0, 0, 0, 0, 0, 0, 0, 0, 0, 0,\n       0, 0, 0, 0, 0, 0, 0, 0, 0, 0, 0, 0, 0, 0, 0, 0, 0, 0, 0, 0, 0, 0,\n       0, 0, 0, 0, 0, 0, 1, 1, 1, 1, 1, 1, 1, 1, 1, 1, 1, 1, 1, 1, 1, 1,\n       1, 1, 1, 1, 1, 1, 1, 1, 1, 1, 1, 1, 1, 1, 1, 1, 1, 1, 1, 1, 1, 1,\n       1, 1, 1, 1, 1, 1, 1, 1, 1, 1, 1, 1])"
     },
     "execution_count": 5,
     "metadata": {},
     "output_type": "execute_result"
    }
   ],
   "source": [
    "Y = iris.target[:100]\n",
    "Y"
   ],
   "metadata": {
    "collapsed": false,
    "ExecuteTime": {
     "end_time": "2023-08-14T03:41:19.261463436Z",
     "start_time": "2023-08-14T03:41:19.241192357Z"
    }
   },
   "id": "d05ffe80c775180b"
  },
  {
   "cell_type": "code",
   "execution_count": 6,
   "outputs": [],
   "source": [
    "from sklearn.model_selection import train_test_split"
   ],
   "metadata": {
    "collapsed": false,
    "ExecuteTime": {
     "end_time": "2023-08-14T03:41:19.286024445Z",
     "start_time": "2023-08-14T03:41:19.241609372Z"
    }
   },
   "id": "9fecbc93bdfb1c78"
  },
  {
   "cell_type": "code",
   "execution_count": 7,
   "outputs": [],
   "source": [
    "X_train, X_test, Y_train, Y_test = train_test_split(X, Y, test_size=0.2)"
   ],
   "metadata": {
    "collapsed": false,
    "ExecuteTime": {
     "end_time": "2023-08-14T03:41:19.286663936Z",
     "start_time": "2023-08-14T03:41:19.270369086Z"
    }
   },
   "id": "e27159d47094a4d0"
  },
  {
   "cell_type": "code",
   "execution_count": 8,
   "outputs": [
    {
     "name": "stderr",
     "output_type": "stream",
     "text": [
      "2023-08-14 10:41:19.513270: I tensorflow/core/util/port.cc:110] oneDNN custom operations are on. You may see slightly different numerical results due to floating-point round-off errors from different computation orders. To turn them off, set the environment variable `TF_ENABLE_ONEDNN_OPTS=0`.\n",
      "2023-08-14 10:41:19.514858: I tensorflow/tsl/cuda/cudart_stub.cc:28] Could not find cuda drivers on your machine, GPU will not be used.\n",
      "2023-08-14 10:41:19.548573: I tensorflow/tsl/cuda/cudart_stub.cc:28] Could not find cuda drivers on your machine, GPU will not be used.\n",
      "2023-08-14 10:41:19.549094: I tensorflow/core/platform/cpu_feature_guard.cc:182] This TensorFlow binary is optimized to use available CPU instructions in performance-critical operations.\n",
      "To enable the following instructions: AVX2 AVX512F AVX512_VNNI FMA, in other operations, rebuild TensorFlow with the appropriate compiler flags.\n",
      "2023-08-14 10:41:20.181893: W tensorflow/compiler/tf2tensorrt/utils/py_utils.cc:38] TF-TRT Warning: Could not find TensorRT\n"
     ]
    }
   ],
   "source": [
    "from keras.models import  Sequential\n",
    "from keras.layers import Dense"
   ],
   "metadata": {
    "collapsed": false,
    "ExecuteTime": {
     "end_time": "2023-08-14T03:41:20.843597303Z",
     "start_time": "2023-08-14T03:41:19.274514434Z"
    }
   },
   "id": "732de220106acee8"
  },
  {
   "cell_type": "code",
   "execution_count": 9,
   "outputs": [
    {
     "name": "stdout",
     "output_type": "stream",
     "text": [
      "Model: \"sequential\"\n",
      "_________________________________________________________________\n",
      " Layer (type)                Output Shape              Param #   \n",
      "=================================================================\n",
      " dense (Dense)               (None, 1)                 5         \n",
      "                                                                 \n",
      "=================================================================\n",
      "Total params: 5 (20.00 Byte)\n",
      "Trainable params: 5 (20.00 Byte)\n",
      "Non-trainable params: 0 (0.00 Byte)\n",
      "_________________________________________________________________\n"
     ]
    },
    {
     "name": "stderr",
     "output_type": "stream",
     "text": [
      "2023-08-14 10:41:21.613916: E tensorflow/compiler/xla/stream_executor/cuda/cuda_driver.cc:268] failed call to cuInit: CUDA_ERROR_NO_DEVICE: no CUDA-capable device is detected\n"
     ]
    }
   ],
   "source": [
    "model = Sequential()\n",
    "model.add(Dense(1, input_shape=(4,), use_bias=True, activation='sigmoid'))\n",
    "model.compile(optimizer='adam', loss='binary_crossentropy', metrics=['accuracy'])\n",
    "model.summary()"
   ],
   "metadata": {
    "collapsed": false,
    "ExecuteTime": {
     "end_time": "2023-08-14T03:41:21.699108224Z",
     "start_time": "2023-08-14T03:41:20.847588657Z"
    }
   },
   "id": "ee47a85d2cd636cd"
  },
  {
   "cell_type": "code",
   "execution_count": 10,
   "outputs": [
    {
     "name": "stdout",
     "output_type": "stream",
     "text": [
      "Epoch 1/150\n",
      "80/80 [==============================] - 0s 922us/step - loss: 1.5544 - accuracy: 0.4875\n",
      "Epoch 2/150\n",
      "80/80 [==============================] - 0s 675us/step - loss: 1.3511 - accuracy: 0.4875\n",
      "Epoch 3/150\n",
      "80/80 [==============================] - 0s 595us/step - loss: 1.2079 - accuracy: 0.4875\n",
      "Epoch 4/150\n",
      "80/80 [==============================] - 0s 765us/step - loss: 1.1017 - accuracy: 0.4875\n",
      "Epoch 5/150\n",
      "80/80 [==============================] - 0s 818us/step - loss: 1.0254 - accuracy: 0.4875\n",
      "Epoch 6/150\n",
      "80/80 [==============================] - 0s 871us/step - loss: 0.9665 - accuracy: 0.4250\n",
      "Epoch 7/150\n",
      "80/80 [==============================] - 0s 770us/step - loss: 0.9181 - accuracy: 0.4000\n",
      "Epoch 8/150\n",
      "80/80 [==============================] - 0s 709us/step - loss: 0.8717 - accuracy: 0.4125\n",
      "Epoch 9/150\n",
      "80/80 [==============================] - 0s 639us/step - loss: 0.8326 - accuracy: 0.4125\n",
      "Epoch 10/150\n",
      "80/80 [==============================] - 0s 619us/step - loss: 0.7931 - accuracy: 0.4125\n",
      "Epoch 11/150\n",
      "80/80 [==============================] - 0s 811us/step - loss: 0.7576 - accuracy: 0.4375\n",
      "Epoch 12/150\n",
      "80/80 [==============================] - 0s 728us/step - loss: 0.7265 - accuracy: 0.4375\n",
      "Epoch 13/150\n",
      "80/80 [==============================] - 0s 740us/step - loss: 0.6952 - accuracy: 0.5000\n",
      "Epoch 14/150\n",
      "80/80 [==============================] - 0s 709us/step - loss: 0.6648 - accuracy: 0.5500\n",
      "Epoch 15/150\n",
      "80/80 [==============================] - 0s 733us/step - loss: 0.6373 - accuracy: 0.6250\n",
      "Epoch 16/150\n",
      "80/80 [==============================] - 0s 586us/step - loss: 0.6123 - accuracy: 0.6250\n",
      "Epoch 17/150\n",
      "80/80 [==============================] - 0s 711us/step - loss: 0.5856 - accuracy: 0.7625\n",
      "Epoch 18/150\n",
      "80/80 [==============================] - 0s 780us/step - loss: 0.5631 - accuracy: 0.8500\n",
      "Epoch 19/150\n",
      "80/80 [==============================] - 0s 625us/step - loss: 0.5415 - accuracy: 0.8750\n",
      "Epoch 20/150\n",
      "80/80 [==============================] - 0s 682us/step - loss: 0.5177 - accuracy: 0.8875\n",
      "Epoch 21/150\n",
      "80/80 [==============================] - 0s 845us/step - loss: 0.4970 - accuracy: 0.9000\n",
      "Epoch 22/150\n",
      "80/80 [==============================] - 0s 851us/step - loss: 0.4777 - accuracy: 0.9375\n",
      "Epoch 23/150\n",
      "80/80 [==============================] - 0s 722us/step - loss: 0.4593 - accuracy: 0.9750\n",
      "Epoch 24/150\n",
      "80/80 [==============================] - 0s 637us/step - loss: 0.4418 - accuracy: 0.9750\n",
      "Epoch 25/150\n",
      "80/80 [==============================] - 0s 669us/step - loss: 0.4248 - accuracy: 0.9750\n",
      "Epoch 26/150\n",
      "80/80 [==============================] - 0s 678us/step - loss: 0.4084 - accuracy: 0.9750\n",
      "Epoch 27/150\n",
      "80/80 [==============================] - 0s 759us/step - loss: 0.3939 - accuracy: 0.9875\n",
      "Epoch 28/150\n",
      "80/80 [==============================] - 0s 618us/step - loss: 0.3790 - accuracy: 0.9875\n",
      "Epoch 29/150\n",
      "80/80 [==============================] - 0s 716us/step - loss: 0.3643 - accuracy: 0.9875\n",
      "Epoch 30/150\n",
      "80/80 [==============================] - 0s 701us/step - loss: 0.3516 - accuracy: 0.9875\n",
      "Epoch 31/150\n",
      "80/80 [==============================] - 0s 645us/step - loss: 0.3385 - accuracy: 0.9875\n",
      "Epoch 32/150\n",
      "80/80 [==============================] - 0s 691us/step - loss: 0.3265 - accuracy: 0.9875\n",
      "Epoch 33/150\n",
      "80/80 [==============================] - 0s 788us/step - loss: 0.3142 - accuracy: 0.9875\n",
      "Epoch 34/150\n",
      "80/80 [==============================] - 0s 716us/step - loss: 0.3024 - accuracy: 0.9875\n",
      "Epoch 35/150\n",
      "80/80 [==============================] - 0s 698us/step - loss: 0.2923 - accuracy: 0.9875\n",
      "Epoch 36/150\n",
      "80/80 [==============================] - 0s 667us/step - loss: 0.2814 - accuracy: 0.9875\n",
      "Epoch 37/150\n",
      "80/80 [==============================] - 0s 718us/step - loss: 0.2725 - accuracy: 1.0000\n",
      "Epoch 38/150\n",
      "80/80 [==============================] - 0s 590us/step - loss: 0.2628 - accuracy: 0.9875\n",
      "Epoch 39/150\n",
      "80/80 [==============================] - 0s 750us/step - loss: 0.2530 - accuracy: 1.0000\n",
      "Epoch 40/150\n",
      "80/80 [==============================] - 0s 752us/step - loss: 0.2449 - accuracy: 1.0000\n",
      "Epoch 41/150\n",
      "80/80 [==============================] - 0s 630us/step - loss: 0.2364 - accuracy: 1.0000\n",
      "Epoch 42/150\n",
      "80/80 [==============================] - 0s 880us/step - loss: 0.2283 - accuracy: 1.0000\n",
      "Epoch 43/150\n",
      "80/80 [==============================] - 0s 849us/step - loss: 0.2204 - accuracy: 1.0000\n",
      "Epoch 44/150\n",
      "80/80 [==============================] - 0s 683us/step - loss: 0.2137 - accuracy: 1.0000\n",
      "Epoch 45/150\n",
      "80/80 [==============================] - 0s 739us/step - loss: 0.2060 - accuracy: 1.0000\n",
      "Epoch 46/150\n",
      "80/80 [==============================] - 0s 713us/step - loss: 0.1991 - accuracy: 1.0000\n",
      "Epoch 47/150\n",
      "80/80 [==============================] - 0s 691us/step - loss: 0.1928 - accuracy: 1.0000\n",
      "Epoch 48/150\n",
      "80/80 [==============================] - 0s 778us/step - loss: 0.1865 - accuracy: 1.0000\n",
      "Epoch 49/150\n",
      "80/80 [==============================] - 0s 740us/step - loss: 0.1806 - accuracy: 1.0000\n",
      "Epoch 50/150\n",
      "80/80 [==============================] - 0s 733us/step - loss: 0.1745 - accuracy: 1.0000\n",
      "Epoch 51/150\n",
      "80/80 [==============================] - 0s 808us/step - loss: 0.1693 - accuracy: 1.0000\n",
      "Epoch 52/150\n",
      "80/80 [==============================] - 0s 696us/step - loss: 0.1639 - accuracy: 1.0000\n",
      "Epoch 53/150\n",
      "80/80 [==============================] - 0s 836us/step - loss: 0.1586 - accuracy: 1.0000\n",
      "Epoch 54/150\n",
      "80/80 [==============================] - 0s 563us/step - loss: 0.1533 - accuracy: 1.0000\n",
      "Epoch 55/150\n",
      "80/80 [==============================] - 0s 655us/step - loss: 0.1488 - accuracy: 1.0000\n",
      "Epoch 56/150\n",
      "80/80 [==============================] - 0s 681us/step - loss: 0.1439 - accuracy: 1.0000\n",
      "Epoch 57/150\n",
      "80/80 [==============================] - 0s 613us/step - loss: 0.1394 - accuracy: 1.0000\n",
      "Epoch 58/150\n",
      "80/80 [==============================] - 0s 698us/step - loss: 0.1359 - accuracy: 1.0000\n",
      "Epoch 59/150\n",
      "80/80 [==============================] - 0s 769us/step - loss: 0.1313 - accuracy: 1.0000\n",
      "Epoch 60/150\n",
      "80/80 [==============================] - 0s 778us/step - loss: 0.1271 - accuracy: 1.0000\n",
      "Epoch 61/150\n",
      "80/80 [==============================] - 0s 753us/step - loss: 0.1233 - accuracy: 1.0000\n",
      "Epoch 62/150\n",
      "80/80 [==============================] - 0s 627us/step - loss: 0.1194 - accuracy: 1.0000\n",
      "Epoch 63/150\n",
      "80/80 [==============================] - 0s 718us/step - loss: 0.1157 - accuracy: 1.0000\n",
      "Epoch 64/150\n",
      "80/80 [==============================] - 0s 758us/step - loss: 0.1125 - accuracy: 1.0000\n",
      "Epoch 65/150\n",
      "80/80 [==============================] - 0s 641us/step - loss: 0.1089 - accuracy: 1.0000\n",
      "Epoch 66/150\n",
      "80/80 [==============================] - 0s 788us/step - loss: 0.1058 - accuracy: 1.0000\n",
      "Epoch 67/150\n",
      "80/80 [==============================] - 0s 729us/step - loss: 0.1027 - accuracy: 1.0000\n",
      "Epoch 68/150\n",
      "80/80 [==============================] - 0s 647us/step - loss: 0.0996 - accuracy: 1.0000\n",
      "Epoch 69/150\n",
      "80/80 [==============================] - 0s 599us/step - loss: 0.0968 - accuracy: 1.0000\n",
      "Epoch 70/150\n",
      "80/80 [==============================] - 0s 705us/step - loss: 0.0939 - accuracy: 1.0000\n",
      "Epoch 71/150\n",
      "80/80 [==============================] - 0s 629us/step - loss: 0.0911 - accuracy: 1.0000\n",
      "Epoch 72/150\n",
      "80/80 [==============================] - 0s 807us/step - loss: 0.0885 - accuracy: 1.0000\n",
      "Epoch 73/150\n",
      "80/80 [==============================] - 0s 636us/step - loss: 0.0859 - accuracy: 1.0000\n",
      "Epoch 74/150\n",
      "80/80 [==============================] - 0s 576us/step - loss: 0.0833 - accuracy: 1.0000\n",
      "Epoch 75/150\n",
      "80/80 [==============================] - 0s 619us/step - loss: 0.0810 - accuracy: 1.0000\n",
      "Epoch 76/150\n",
      "80/80 [==============================] - 0s 657us/step - loss: 0.0787 - accuracy: 1.0000\n",
      "Epoch 77/150\n",
      "80/80 [==============================] - 0s 719us/step - loss: 0.0764 - accuracy: 1.0000\n",
      "Epoch 78/150\n",
      "80/80 [==============================] - 0s 784us/step - loss: 0.0743 - accuracy: 1.0000\n",
      "Epoch 79/150\n",
      "80/80 [==============================] - 0s 772us/step - loss: 0.0723 - accuracy: 1.0000\n",
      "Epoch 80/150\n",
      "80/80 [==============================] - 0s 639us/step - loss: 0.0703 - accuracy: 1.0000\n",
      "Epoch 81/150\n",
      "80/80 [==============================] - 0s 742us/step - loss: 0.0683 - accuracy: 1.0000\n",
      "Epoch 82/150\n",
      "80/80 [==============================] - 0s 741us/step - loss: 0.0664 - accuracy: 1.0000\n",
      "Epoch 83/150\n",
      "80/80 [==============================] - 0s 579us/step - loss: 0.0644 - accuracy: 1.0000\n",
      "Epoch 84/150\n",
      "80/80 [==============================] - 0s 723us/step - loss: 0.0627 - accuracy: 1.0000\n",
      "Epoch 85/150\n",
      "80/80 [==============================] - 0s 636us/step - loss: 0.0609 - accuracy: 1.0000\n",
      "Epoch 86/150\n",
      "80/80 [==============================] - 0s 613us/step - loss: 0.0592 - accuracy: 1.0000\n",
      "Epoch 87/150\n",
      "80/80 [==============================] - 0s 670us/step - loss: 0.0576 - accuracy: 1.0000\n",
      "Epoch 88/150\n",
      "80/80 [==============================] - 0s 757us/step - loss: 0.0560 - accuracy: 1.0000\n",
      "Epoch 89/150\n",
      "80/80 [==============================] - 0s 614us/step - loss: 0.0545 - accuracy: 1.0000\n",
      "Epoch 90/150\n",
      "80/80 [==============================] - 0s 643us/step - loss: 0.0529 - accuracy: 1.0000\n",
      "Epoch 91/150\n",
      "80/80 [==============================] - 0s 672us/step - loss: 0.0515 - accuracy: 1.0000\n",
      "Epoch 92/150\n",
      "80/80 [==============================] - 0s 870us/step - loss: 0.0501 - accuracy: 1.0000\n",
      "Epoch 93/150\n",
      "80/80 [==============================] - 0s 639us/step - loss: 0.0488 - accuracy: 1.0000\n",
      "Epoch 94/150\n",
      "80/80 [==============================] - 0s 611us/step - loss: 0.0474 - accuracy: 1.0000\n",
      "Epoch 95/150\n",
      "80/80 [==============================] - 0s 575us/step - loss: 0.0462 - accuracy: 1.0000\n",
      "Epoch 96/150\n",
      "80/80 [==============================] - 0s 635us/step - loss: 0.0450 - accuracy: 1.0000\n",
      "Epoch 97/150\n",
      "80/80 [==============================] - 0s 536us/step - loss: 0.0438 - accuracy: 1.0000\n",
      "Epoch 98/150\n",
      "80/80 [==============================] - 0s 628us/step - loss: 0.0426 - accuracy: 1.0000\n",
      "Epoch 99/150\n",
      "80/80 [==============================] - 0s 757us/step - loss: 0.0414 - accuracy: 1.0000\n",
      "Epoch 100/150\n",
      "80/80 [==============================] - 0s 620us/step - loss: 0.0403 - accuracy: 1.0000\n",
      "Epoch 101/150\n",
      "80/80 [==============================] - 0s 625us/step - loss: 0.0395 - accuracy: 1.0000\n",
      "Epoch 102/150\n",
      "80/80 [==============================] - 0s 695us/step - loss: 0.0383 - accuracy: 1.0000\n",
      "Epoch 103/150\n",
      "80/80 [==============================] - 0s 601us/step - loss: 0.0373 - accuracy: 1.0000\n",
      "Epoch 104/150\n",
      "80/80 [==============================] - 0s 762us/step - loss: 0.0363 - accuracy: 1.0000\n",
      "Epoch 105/150\n",
      "80/80 [==============================] - 0s 794us/step - loss: 0.0354 - accuracy: 1.0000\n",
      "Epoch 106/150\n",
      "80/80 [==============================] - 0s 688us/step - loss: 0.0345 - accuracy: 1.0000\n",
      "Epoch 107/150\n",
      "80/80 [==============================] - 0s 592us/step - loss: 0.0335 - accuracy: 1.0000\n",
      "Epoch 108/150\n",
      "80/80 [==============================] - 0s 583us/step - loss: 0.0327 - accuracy: 1.0000\n",
      "Epoch 109/150\n",
      "80/80 [==============================] - 0s 590us/step - loss: 0.0319 - accuracy: 1.0000\n",
      "Epoch 110/150\n",
      "80/80 [==============================] - 0s 611us/step - loss: 0.0310 - accuracy: 1.0000\n",
      "Epoch 111/150\n",
      "80/80 [==============================] - 0s 631us/step - loss: 0.0302 - accuracy: 1.0000\n",
      "Epoch 112/150\n",
      "80/80 [==============================] - 0s 563us/step - loss: 0.0295 - accuracy: 1.0000\n",
      "Epoch 113/150\n",
      "80/80 [==============================] - 0s 581us/step - loss: 0.0288 - accuracy: 1.0000\n",
      "Epoch 114/150\n",
      "80/80 [==============================] - 0s 604us/step - loss: 0.0282 - accuracy: 1.0000\n",
      "Epoch 115/150\n",
      "80/80 [==============================] - 0s 557us/step - loss: 0.0274 - accuracy: 1.0000\n",
      "Epoch 116/150\n",
      "80/80 [==============================] - 0s 593us/step - loss: 0.0267 - accuracy: 1.0000\n",
      "Epoch 117/150\n",
      "80/80 [==============================] - 0s 581us/step - loss: 0.0259 - accuracy: 1.0000\n",
      "Epoch 118/150\n",
      "80/80 [==============================] - 0s 619us/step - loss: 0.0253 - accuracy: 1.0000\n",
      "Epoch 119/150\n",
      "80/80 [==============================] - 0s 673us/step - loss: 0.0248 - accuracy: 1.0000\n",
      "Epoch 120/150\n",
      "80/80 [==============================] - 0s 638us/step - loss: 0.0240 - accuracy: 1.0000\n",
      "Epoch 121/150\n",
      "80/80 [==============================] - 0s 610us/step - loss: 0.0234 - accuracy: 1.0000\n",
      "Epoch 122/150\n",
      "80/80 [==============================] - 0s 615us/step - loss: 0.0229 - accuracy: 1.0000\n",
      "Epoch 123/150\n",
      "80/80 [==============================] - 0s 600us/step - loss: 0.0224 - accuracy: 1.0000\n",
      "Epoch 124/150\n",
      "80/80 [==============================] - 0s 654us/step - loss: 0.0218 - accuracy: 1.0000\n",
      "Epoch 125/150\n",
      "80/80 [==============================] - 0s 789us/step - loss: 0.0212 - accuracy: 1.0000\n",
      "Epoch 126/150\n",
      "80/80 [==============================] - 0s 899us/step - loss: 0.0207 - accuracy: 1.0000\n",
      "Epoch 127/150\n",
      "80/80 [==============================] - 0s 825us/step - loss: 0.0202 - accuracy: 1.0000\n",
      "Epoch 128/150\n",
      "80/80 [==============================] - 0s 608us/step - loss: 0.0198 - accuracy: 1.0000\n",
      "Epoch 129/150\n",
      "80/80 [==============================] - 0s 685us/step - loss: 0.0192 - accuracy: 1.0000\n",
      "Epoch 130/150\n",
      "80/80 [==============================] - 0s 779us/step - loss: 0.0188 - accuracy: 1.0000\n",
      "Epoch 131/150\n",
      "80/80 [==============================] - 0s 728us/step - loss: 0.0184 - accuracy: 1.0000\n",
      "Epoch 132/150\n",
      "80/80 [==============================] - 0s 710us/step - loss: 0.0179 - accuracy: 1.0000\n",
      "Epoch 133/150\n",
      "80/80 [==============================] - 0s 629us/step - loss: 0.0174 - accuracy: 1.0000\n",
      "Epoch 134/150\n",
      "80/80 [==============================] - 0s 772us/step - loss: 0.0171 - accuracy: 1.0000\n",
      "Epoch 135/150\n",
      "80/80 [==============================] - 0s 695us/step - loss: 0.0166 - accuracy: 1.0000\n",
      "Epoch 136/150\n",
      "80/80 [==============================] - 0s 536us/step - loss: 0.0163 - accuracy: 1.0000\n",
      "Epoch 137/150\n",
      "80/80 [==============================] - 0s 746us/step - loss: 0.0159 - accuracy: 1.0000\n",
      "Epoch 138/150\n",
      "80/80 [==============================] - 0s 761us/step - loss: 0.0155 - accuracy: 1.0000\n",
      "Epoch 139/150\n",
      "80/80 [==============================] - 0s 749us/step - loss: 0.0152 - accuracy: 1.0000\n",
      "Epoch 140/150\n",
      "80/80 [==============================] - 0s 738us/step - loss: 0.0148 - accuracy: 1.0000\n",
      "Epoch 141/150\n",
      "80/80 [==============================] - 0s 553us/step - loss: 0.0145 - accuracy: 1.0000\n",
      "Epoch 142/150\n",
      "80/80 [==============================] - 0s 604us/step - loss: 0.0141 - accuracy: 1.0000\n",
      "Epoch 143/150\n",
      "80/80 [==============================] - 0s 780us/step - loss: 0.0138 - accuracy: 1.0000\n",
      "Epoch 144/150\n",
      "80/80 [==============================] - 0s 818us/step - loss: 0.0134 - accuracy: 1.0000\n",
      "Epoch 145/150\n",
      "80/80 [==============================] - 0s 608us/step - loss: 0.0131 - accuracy: 1.0000\n",
      "Epoch 146/150\n",
      "80/80 [==============================] - 0s 624us/step - loss: 0.0129 - accuracy: 1.0000\n",
      "Epoch 147/150\n",
      "80/80 [==============================] - 0s 631us/step - loss: 0.0125 - accuracy: 1.0000\n",
      "Epoch 148/150\n",
      "80/80 [==============================] - 0s 618us/step - loss: 0.0122 - accuracy: 1.0000\n",
      "Epoch 149/150\n",
      "80/80 [==============================] - 0s 584us/step - loss: 0.0120 - accuracy: 1.0000\n",
      "Epoch 150/150\n",
      "80/80 [==============================] - 0s 612us/step - loss: 0.0117 - accuracy: 1.0000\n"
     ]
    }
   ],
   "source": [
    "his = model.fit(X_train, Y_train, epochs=150, batch_size=1)"
   ],
   "metadata": {
    "collapsed": false,
    "ExecuteTime": {
     "end_time": "2023-08-14T03:41:30.700385315Z",
     "start_time": "2023-08-14T03:41:21.701290852Z"
    }
   },
   "id": "618c6533524a7b3f"
  },
  {
   "cell_type": "code",
   "execution_count": 11,
   "outputs": [],
   "source": [
    "import matplotlib.pyplot as plt"
   ],
   "metadata": {
    "collapsed": false,
    "ExecuteTime": {
     "end_time": "2023-08-14T03:41:30.987525946Z",
     "start_time": "2023-08-14T03:41:30.676142658Z"
    }
   },
   "id": "24918e3887a8ca3c"
  },
  {
   "cell_type": "code",
   "execution_count": 12,
   "outputs": [
    {
     "data": {
      "text/plain": "[<matplotlib.lines.Line2D at 0x7f20b8de1e70>]"
     },
     "execution_count": 12,
     "metadata": {},
     "output_type": "execute_result"
    },
    {
     "data": {
      "text/plain": "<Figure size 640x480 with 1 Axes>",
      "image/png": "[encoded data removed]"
     },
     "metadata": {},
     "output_type": "display_data"
    }
   ],
   "source": [
    "plt.plot(his.history['loss'])"
   ],
   "metadata": {
    "collapsed": false,
    "ExecuteTime": {
     "end_time": "2023-08-14T03:41:31.163438759Z",
     "start_time": "2023-08-14T03:41:30.988684959Z"
    }
   },
   "id": "15f787e2f7930dc8"
  },
  {
   "cell_type": "code",
   "execution_count": 13,
   "outputs": [
    {
     "data": {
      "text/plain": "[<matplotlib.lines.Line2D at 0x7f20b8cabcd0>]"
     },
     "execution_count": 13,
     "metadata": {},
     "output_type": "execute_result"
    },
    {
     "data": {
      "text/plain": "<Figure size 640x480 with 1 Axes>",
      "image/png": "[encoded data removed]"
     },
     "metadata": {},
     "output_type": "display_data"
    }
   ],
   "source": [
    "plt.plot(his.history['accuracy'])"
   ],
   "metadata": {
    "collapsed": false,
    "ExecuteTime": {
     "end_time": "2023-08-14T03:41:31.341160431Z",
     "start_time": "2023-08-14T03:41:31.176736043Z"
    }
   },
   "id": "debff180c840cbb9"
  },
  {
   "cell_type": "code",
   "execution_count": 13,
   "outputs": [],
   "source": [],
   "metadata": {
    "collapsed": false,
    "ExecuteTime": {
     "end_time": "2023-08-14T03:41:31.341499986Z",
     "start_time": "2023-08-14T03:41:31.338558704Z"
    }
   },
   "id": "c817df94cd43df77"
  }
 ],
 "metadata": {
  "kernelspec": {
   "display_name": "Python 3",
   "language": "python",
   "name": "python3"
  },
  "language_info": {
   "codemirror_mode": {
    "name": "ipython",
    "version": 2
   },
   "file_extension": ".py",
   "mimetype": "text/x-python",
   "name": "python",
   "nbconvert_exporter": "python",
   "pygments_lexer": "ipython2",
   "version": "2.7.6"
  }
 },
 "nbformat": 4,
 "nbformat_minor": 5
}
