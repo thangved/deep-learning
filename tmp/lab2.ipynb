{
 "cells": [
  {
   "cell_type": "code",
   "execution_count": 1,
   "id": "initial_id",
   "metadata": {
    "collapsed": true,
    "ExecuteTime": {
     "end_time": "2023-08-14T03:42:05.744730663Z",
     "start_time": "2023-08-14T03:42:05.430505160Z"
    }
   },
   "outputs": [],
   "source": [
    "from sklearn.datasets import load_iris"
   ]
  },
  {
   "cell_type": "code",
   "execution_count": 2,
   "outputs": [],
   "source": [
    "iris = load_iris()"
   ],
   "metadata": {
    "collapsed": false,
    "ExecuteTime": {
     "end_time": "2023-08-14T03:42:07.955119037Z",
     "start_time": "2023-08-14T03:42:07.943495615Z"
    }
   },
   "id": "3f810491344b692c"
  },
  {
   "cell_type": "code",
   "execution_count": 3,
   "outputs": [
    {
     "data": {
      "text/plain": "array([[5.1, 3.5, 1.4, 0.2],\n       [4.9, 3. , 1.4, 0.2],\n       [4.7, 3.2, 1.3, 0.2],\n       [4.6, 3.1, 1.5, 0.2],\n       [5. , 3.6, 1.4, 0.2],\n       [5.4, 3.9, 1.7, 0.4],\n       [4.6, 3.4, 1.4, 0.3],\n       [5. , 3.4, 1.5, 0.2],\n       [4.4, 2.9, 1.4, 0.2],\n       [4.9, 3.1, 1.5, 0.1],\n       [5.4, 3.7, 1.5, 0.2],\n       [4.8, 3.4, 1.6, 0.2],\n       [4.8, 3. , 1.4, 0.1],\n       [4.3, 3. , 1.1, 0.1],\n       [5.8, 4. , 1.2, 0.2],\n       [5.7, 4.4, 1.5, 0.4],\n       [5.4, 3.9, 1.3, 0.4],\n       [5.1, 3.5, 1.4, 0.3],\n       [5.7, 3.8, 1.7, 0.3],\n       [5.1, 3.8, 1.5, 0.3],\n       [5.4, 3.4, 1.7, 0.2],\n       [5.1, 3.7, 1.5, 0.4],\n       [4.6, 3.6, 1. , 0.2],\n       [5.1, 3.3, 1.7, 0.5],\n       [4.8, 3.4, 1.9, 0.2],\n       [5. , 3. , 1.6, 0.2],\n       [5. , 3.4, 1.6, 0.4],\n       [5.2, 3.5, 1.5, 0.2],\n       [5.2, 3.4, 1.4, 0.2],\n       [4.7, 3.2, 1.6, 0.2],\n       [4.8, 3.1, 1.6, 0.2],\n       [5.4, 3.4, 1.5, 0.4],\n       [5.2, 4.1, 1.5, 0.1],\n       [5.5, 4.2, 1.4, 0.2],\n       [4.9, 3.1, 1.5, 0.2],\n       [5. , 3.2, 1.2, 0.2],\n       [5.5, 3.5, 1.3, 0.2],\n       [4.9, 3.6, 1.4, 0.1],\n       [4.4, 3. , 1.3, 0.2],\n       [5.1, 3.4, 1.5, 0.2],\n       [5. , 3.5, 1.3, 0.3],\n       [4.5, 2.3, 1.3, 0.3],\n       [4.4, 3.2, 1.3, 0.2],\n       [5. , 3.5, 1.6, 0.6],\n       [5.1, 3.8, 1.9, 0.4],\n       [4.8, 3. , 1.4, 0.3],\n       [5.1, 3.8, 1.6, 0.2],\n       [4.6, 3.2, 1.4, 0.2],\n       [5.3, 3.7, 1.5, 0.2],\n       [5. , 3.3, 1.4, 0.2],\n       [7. , 3.2, 4.7, 1.4],\n       [6.4, 3.2, 4.5, 1.5],\n       [6.9, 3.1, 4.9, 1.5],\n       [5.5, 2.3, 4. , 1.3],\n       [6.5, 2.8, 4.6, 1.5],\n       [5.7, 2.8, 4.5, 1.3],\n       [6.3, 3.3, 4.7, 1.6],\n       [4.9, 2.4, 3.3, 1. ],\n       [6.6, 2.9, 4.6, 1.3],\n       [5.2, 2.7, 3.9, 1.4],\n       [5. , 2. , 3.5, 1. ],\n       [5.9, 3. , 4.2, 1.5],\n       [6. , 2.2, 4. , 1. ],\n       [6.1, 2.9, 4.7, 1.4],\n       [5.6, 2.9, 3.6, 1.3],\n       [6.7, 3.1, 4.4, 1.4],\n       [5.6, 3. , 4.5, 1.5],\n       [5.8, 2.7, 4.1, 1. ],\n       [6.2, 2.2, 4.5, 1.5],\n       [5.6, 2.5, 3.9, 1.1],\n       [5.9, 3.2, 4.8, 1.8],\n       [6.1, 2.8, 4. , 1.3],\n       [6.3, 2.5, 4.9, 1.5],\n       [6.1, 2.8, 4.7, 1.2],\n       [6.4, 2.9, 4.3, 1.3],\n       [6.6, 3. , 4.4, 1.4],\n       [6.8, 2.8, 4.8, 1.4],\n       [6.7, 3. , 5. , 1.7],\n       [6. , 2.9, 4.5, 1.5],\n       [5.7, 2.6, 3.5, 1. ],\n       [5.5, 2.4, 3.8, 1.1],\n       [5.5, 2.4, 3.7, 1. ],\n       [5.8, 2.7, 3.9, 1.2],\n       [6. , 2.7, 5.1, 1.6],\n       [5.4, 3. , 4.5, 1.5],\n       [6. , 3.4, 4.5, 1.6],\n       [6.7, 3.1, 4.7, 1.5],\n       [6.3, 2.3, 4.4, 1.3],\n       [5.6, 3. , 4.1, 1.3],\n       [5.5, 2.5, 4. , 1.3],\n       [5.5, 2.6, 4.4, 1.2],\n       [6.1, 3. , 4.6, 1.4],\n       [5.8, 2.6, 4. , 1.2],\n       [5. , 2.3, 3.3, 1. ],\n       [5.6, 2.7, 4.2, 1.3],\n       [5.7, 3. , 4.2, 1.2],\n       [5.7, 2.9, 4.2, 1.3],\n       [6.2, 2.9, 4.3, 1.3],\n       [5.1, 2.5, 3. , 1.1],\n       [5.7, 2.8, 4.1, 1.3],\n       [6.3, 3.3, 6. , 2.5],\n       [5.8, 2.7, 5.1, 1.9],\n       [7.1, 3. , 5.9, 2.1],\n       [6.3, 2.9, 5.6, 1.8],\n       [6.5, 3. , 5.8, 2.2],\n       [7.6, 3. , 6.6, 2.1],\n       [4.9, 2.5, 4.5, 1.7],\n       [7.3, 2.9, 6.3, 1.8],\n       [6.7, 2.5, 5.8, 1.8],\n       [7.2, 3.6, 6.1, 2.5],\n       [6.5, 3.2, 5.1, 2. ],\n       [6.4, 2.7, 5.3, 1.9],\n       [6.8, 3. , 5.5, 2.1],\n       [5.7, 2.5, 5. , 2. ],\n       [5.8, 2.8, 5.1, 2.4],\n       [6.4, 3.2, 5.3, 2.3],\n       [6.5, 3. , 5.5, 1.8],\n       [7.7, 3.8, 6.7, 2.2],\n       [7.7, 2.6, 6.9, 2.3],\n       [6. , 2.2, 5. , 1.5],\n       [6.9, 3.2, 5.7, 2.3],\n       [5.6, 2.8, 4.9, 2. ],\n       [7.7, 2.8, 6.7, 2. ],\n       [6.3, 2.7, 4.9, 1.8],\n       [6.7, 3.3, 5.7, 2.1],\n       [7.2, 3.2, 6. , 1.8],\n       [6.2, 2.8, 4.8, 1.8],\n       [6.1, 3. , 4.9, 1.8],\n       [6.4, 2.8, 5.6, 2.1],\n       [7.2, 3. , 5.8, 1.6],\n       [7.4, 2.8, 6.1, 1.9],\n       [7.9, 3.8, 6.4, 2. ],\n       [6.4, 2.8, 5.6, 2.2],\n       [6.3, 2.8, 5.1, 1.5],\n       [6.1, 2.6, 5.6, 1.4],\n       [7.7, 3. , 6.1, 2.3],\n       [6.3, 3.4, 5.6, 2.4],\n       [6.4, 3.1, 5.5, 1.8],\n       [6. , 3. , 4.8, 1.8],\n       [6.9, 3.1, 5.4, 2.1],\n       [6.7, 3.1, 5.6, 2.4],\n       [6.9, 3.1, 5.1, 2.3],\n       [5.8, 2.7, 5.1, 1.9],\n       [6.8, 3.2, 5.9, 2.3],\n       [6.7, 3.3, 5.7, 2.5],\n       [6.7, 3. , 5.2, 2.3],\n       [6.3, 2.5, 5. , 1.9],\n       [6.5, 3. , 5.2, 2. ],\n       [6.2, 3.4, 5.4, 2.3],\n       [5.9, 3. , 5.1, 1.8]])"
     },
     "execution_count": 3,
     "metadata": {},
     "output_type": "execute_result"
    }
   ],
   "source": [
    "X = iris.data\n",
    "X"
   ],
   "metadata": {
    "collapsed": false,
    "ExecuteTime": {
     "end_time": "2023-08-14T03:42:16.523962050Z",
     "start_time": "2023-08-14T03:42:16.509116023Z"
    }
   },
   "id": "35ff674951a99711"
  },
  {
   "cell_type": "code",
   "execution_count": 4,
   "outputs": [
    {
     "data": {
      "text/plain": "array([0, 0, 0, 0, 0, 0, 0, 0, 0, 0, 0, 0, 0, 0, 0, 0, 0, 0, 0, 0, 0, 0,\n       0, 0, 0, 0, 0, 0, 0, 0, 0, 0, 0, 0, 0, 0, 0, 0, 0, 0, 0, 0, 0, 0,\n       0, 0, 0, 0, 0, 0, 1, 1, 1, 1, 1, 1, 1, 1, 1, 1, 1, 1, 1, 1, 1, 1,\n       1, 1, 1, 1, 1, 1, 1, 1, 1, 1, 1, 1, 1, 1, 1, 1, 1, 1, 1, 1, 1, 1,\n       1, 1, 1, 1, 1, 1, 1, 1, 1, 1, 1, 1, 2, 2, 2, 2, 2, 2, 2, 2, 2, 2,\n       2, 2, 2, 2, 2, 2, 2, 2, 2, 2, 2, 2, 2, 2, 2, 2, 2, 2, 2, 2, 2, 2,\n       2, 2, 2, 2, 2, 2, 2, 2, 2, 2, 2, 2, 2, 2, 2, 2, 2, 2])"
     },
     "execution_count": 4,
     "metadata": {},
     "output_type": "execute_result"
    }
   ],
   "source": [
    "y = iris.target\n",
    "y"
   ],
   "metadata": {
    "collapsed": false,
    "ExecuteTime": {
     "end_time": "2023-08-14T03:42:21.468555872Z",
     "start_time": "2023-08-14T03:42:21.459147676Z"
    }
   },
   "id": "c50dd4e2e0a1be4"
  },
  {
   "cell_type": "code",
   "execution_count": 5,
   "outputs": [],
   "source": [
    "from sklearn.model_selection import train_test_split"
   ],
   "metadata": {
    "collapsed": false,
    "ExecuteTime": {
     "end_time": "2023-08-14T03:42:41.833393034Z",
     "start_time": "2023-08-14T03:42:41.782776745Z"
    }
   },
   "id": "7d708a3642ffa1b4"
  },
  {
   "cell_type": "code",
   "execution_count": 6,
   "outputs": [],
   "source": [
    "X_train, X_test, y_train, y_test = train_test_split(X, y, test_size=0.2)"
   ],
   "metadata": {
    "collapsed": false,
    "ExecuteTime": {
     "end_time": "2023-08-14T03:42:44.038756576Z",
     "start_time": "2023-08-14T03:42:44.031155862Z"
    }
   },
   "id": "3a353ea2ee2f8f6e"
  },
  {
   "cell_type": "code",
   "execution_count": 8,
   "outputs": [],
   "source": [
    "from keras.models import Sequential\n",
    "from keras.layers import Dense"
   ],
   "metadata": {
    "collapsed": false,
    "ExecuteTime": {
     "end_time": "2023-08-14T03:42:58.478002760Z",
     "start_time": "2023-08-14T03:42:58.465823945Z"
    }
   },
   "id": "564278cb715af7d8"
  },
  {
   "cell_type": "code",
   "execution_count": 25,
   "outputs": [
    {
     "name": "stdout",
     "output_type": "stream",
     "text": [
      "Model: \"sequential_2\"\n",
      "_________________________________________________________________\n",
      " Layer (type)                Output Shape              Param #   \n",
      "=================================================================\n",
      " dense_2 (Dense)             (None, 3)                 15        \n",
      "                                                                 \n",
      "=================================================================\n",
      "Total params: 15 (60.00 Byte)\n",
      "Trainable params: 15 (60.00 Byte)\n",
      "Non-trainable params: 0 (0.00 Byte)\n",
      "_________________________________________________________________\n"
     ]
    }
   ],
   "source": [
    "model = Sequential()\n",
    "model.add(Dense(3, input_shape=(4,), activation='softmax'))\n",
    "model.compile(optimizer='adam', loss='sparse_categorical_crossentropy', metrics=['accuracy'])\n",
    "model.summary()"
   ],
   "metadata": {
    "collapsed": false,
    "ExecuteTime": {
     "end_time": "2023-08-14T03:46:41.333120787Z",
     "start_time": "2023-08-14T03:46:41.245490851Z"
    }
   },
   "id": "a7fa5faaf9544490"
  },
  {
   "cell_type": "code",
   "execution_count": 36,
   "outputs": [
    {
     "name": "stdout",
     "output_type": "stream",
     "text": [
      "Epoch 1/150\n",
      "6/6 [==============================] - 0s 1ms/step - loss: 0.3670 - accuracy: 0.9417\n",
      "Epoch 2/150\n",
      "6/6 [==============================] - 0s 1ms/step - loss: 0.3666 - accuracy: 0.9417\n",
      "Epoch 3/150\n",
      "6/6 [==============================] - 0s 1ms/step - loss: 0.3663 - accuracy: 0.9417\n",
      "Epoch 4/150\n",
      "6/6 [==============================] - 0s 1ms/step - loss: 0.3659 - accuracy: 0.9417\n",
      "Epoch 5/150\n",
      "6/6 [==============================] - 0s 2ms/step - loss: 0.3655 - accuracy: 0.9417\n",
      "Epoch 6/150\n",
      "6/6 [==============================] - 0s 1ms/step - loss: 0.3651 - accuracy: 0.9417\n",
      "Epoch 7/150\n",
      "6/6 [==============================] - 0s 984us/step - loss: 0.3647 - accuracy: 0.9417\n",
      "Epoch 8/150\n",
      "6/6 [==============================] - 0s 1ms/step - loss: 0.3645 - accuracy: 0.9417\n",
      "Epoch 9/150\n",
      "6/6 [==============================] - 0s 1ms/step - loss: 0.3642 - accuracy: 0.9417\n",
      "Epoch 10/150\n",
      "6/6 [==============================] - 0s 1ms/step - loss: 0.3636 - accuracy: 0.9417\n",
      "Epoch 11/150\n",
      "6/6 [==============================] - 0s 1ms/step - loss: 0.3633 - accuracy: 0.9417\n",
      "Epoch 12/150\n",
      "6/6 [==============================] - 0s 1ms/step - loss: 0.3628 - accuracy: 0.9417\n",
      "Epoch 13/150\n",
      "6/6 [==============================] - 0s 1ms/step - loss: 0.3624 - accuracy: 0.9417\n",
      "Epoch 14/150\n",
      "6/6 [==============================] - 0s 1ms/step - loss: 0.3621 - accuracy: 0.9417\n",
      "Epoch 15/150\n",
      "6/6 [==============================] - 0s 995us/step - loss: 0.3617 - accuracy: 0.9417\n",
      "Epoch 16/150\n",
      "6/6 [==============================] - 0s 2ms/step - loss: 0.3613 - accuracy: 0.9417\n",
      "Epoch 17/150\n",
      "6/6 [==============================] - 0s 1ms/step - loss: 0.3609 - accuracy: 0.9417\n",
      "Epoch 18/150\n",
      "6/6 [==============================] - 0s 1ms/step - loss: 0.3606 - accuracy: 0.9417\n",
      "Epoch 19/150\n",
      "6/6 [==============================] - 0s 1ms/step - loss: 0.3601 - accuracy: 0.9417\n",
      "Epoch 20/150\n",
      "6/6 [==============================] - 0s 1ms/step - loss: 0.3597 - accuracy: 0.9417\n",
      "Epoch 21/150\n",
      "6/6 [==============================] - 0s 1ms/step - loss: 0.3595 - accuracy: 0.9417\n",
      "Epoch 22/150\n",
      "6/6 [==============================] - 0s 1ms/step - loss: 0.3590 - accuracy: 0.9417\n",
      "Epoch 23/150\n",
      "6/6 [==============================] - 0s 1ms/step - loss: 0.3587 - accuracy: 0.9417\n",
      "Epoch 24/150\n",
      "6/6 [==============================] - 0s 1ms/step - loss: 0.3583 - accuracy: 0.9417\n",
      "Epoch 25/150\n",
      "6/6 [==============================] - 0s 1ms/step - loss: 0.3579 - accuracy: 0.9417\n",
      "Epoch 26/150\n",
      "6/6 [==============================] - 0s 1ms/step - loss: 0.3575 - accuracy: 0.9417\n",
      "Epoch 27/150\n",
      "6/6 [==============================] - 0s 1ms/step - loss: 0.3573 - accuracy: 0.9417\n",
      "Epoch 28/150\n",
      "6/6 [==============================] - 0s 1ms/step - loss: 0.3567 - accuracy: 0.9417\n",
      "Epoch 29/150\n",
      "6/6 [==============================] - 0s 1ms/step - loss: 0.3564 - accuracy: 0.9417\n",
      "Epoch 30/150\n",
      "6/6 [==============================] - 0s 1ms/step - loss: 0.3560 - accuracy: 0.9417\n",
      "Epoch 31/150\n",
      "6/6 [==============================] - 0s 1ms/step - loss: 0.3557 - accuracy: 0.9417\n",
      "Epoch 32/150\n",
      "6/6 [==============================] - 0s 892us/step - loss: 0.3553 - accuracy: 0.9417\n",
      "Epoch 33/150\n",
      "6/6 [==============================] - 0s 1ms/step - loss: 0.3549 - accuracy: 0.9417\n",
      "Epoch 34/150\n",
      "6/6 [==============================] - 0s 1ms/step - loss: 0.3545 - accuracy: 0.9417\n",
      "Epoch 35/150\n",
      "6/6 [==============================] - 0s 1ms/step - loss: 0.3541 - accuracy: 0.9417\n",
      "Epoch 36/150\n",
      "6/6 [==============================] - 0s 1ms/step - loss: 0.3537 - accuracy: 0.9417\n",
      "Epoch 37/150\n",
      "6/6 [==============================] - 0s 1ms/step - loss: 0.3534 - accuracy: 0.9417\n",
      "Epoch 38/150\n",
      "6/6 [==============================] - 0s 1ms/step - loss: 0.3532 - accuracy: 0.9417\n",
      "Epoch 39/150\n",
      "6/6 [==============================] - 0s 1ms/step - loss: 0.3526 - accuracy: 0.9417\n",
      "Epoch 40/150\n",
      "6/6 [==============================] - 0s 2ms/step - loss: 0.3523 - accuracy: 0.9417\n",
      "Epoch 41/150\n",
      "6/6 [==============================] - 0s 1ms/step - loss: 0.3522 - accuracy: 0.9417\n",
      "Epoch 42/150\n",
      "6/6 [==============================] - 0s 1ms/step - loss: 0.3516 - accuracy: 0.9500\n",
      "Epoch 43/150\n",
      "6/6 [==============================] - 0s 1ms/step - loss: 0.3512 - accuracy: 0.9417\n",
      "Epoch 44/150\n",
      "6/6 [==============================] - 0s 1ms/step - loss: 0.3508 - accuracy: 0.9500\n",
      "Epoch 45/150\n",
      "6/6 [==============================] - 0s 1ms/step - loss: 0.3506 - accuracy: 0.9417\n",
      "Epoch 46/150\n",
      "6/6 [==============================] - 0s 1ms/step - loss: 0.3508 - accuracy: 0.9417\n",
      "Epoch 47/150\n",
      "6/6 [==============================] - 0s 1ms/step - loss: 0.3497 - accuracy: 0.9417\n",
      "Epoch 48/150\n",
      "6/6 [==============================] - 0s 1ms/step - loss: 0.3493 - accuracy: 0.9500\n",
      "Epoch 49/150\n",
      "6/6 [==============================] - 0s 1ms/step - loss: 0.3490 - accuracy: 0.9500\n",
      "Epoch 50/150\n",
      "6/6 [==============================] - 0s 1ms/step - loss: 0.3487 - accuracy: 0.9500\n",
      "Epoch 51/150\n",
      "6/6 [==============================] - 0s 1ms/step - loss: 0.3482 - accuracy: 0.9500\n",
      "Epoch 52/150\n",
      "6/6 [==============================] - 0s 1ms/step - loss: 0.3480 - accuracy: 0.9500\n",
      "Epoch 53/150\n",
      "6/6 [==============================] - 0s 982us/step - loss: 0.3475 - accuracy: 0.9500\n",
      "Epoch 54/150\n",
      "6/6 [==============================] - 0s 1ms/step - loss: 0.3472 - accuracy: 0.9500\n",
      "Epoch 55/150\n",
      "6/6 [==============================] - 0s 1ms/step - loss: 0.3468 - accuracy: 0.9500\n",
      "Epoch 56/150\n",
      "6/6 [==============================] - 0s 1ms/step - loss: 0.3465 - accuracy: 0.9500\n",
      "Epoch 57/150\n",
      "6/6 [==============================] - 0s 1ms/step - loss: 0.3461 - accuracy: 0.9500\n",
      "Epoch 58/150\n",
      "6/6 [==============================] - 0s 1ms/step - loss: 0.3457 - accuracy: 0.9500\n",
      "Epoch 59/150\n",
      "6/6 [==============================] - 0s 1ms/step - loss: 0.3453 - accuracy: 0.9500\n",
      "Epoch 60/150\n",
      "6/6 [==============================] - 0s 1ms/step - loss: 0.3452 - accuracy: 0.9500\n",
      "Epoch 61/150\n",
      "6/6 [==============================] - 0s 1ms/step - loss: 0.3446 - accuracy: 0.9500\n",
      "Epoch 62/150\n",
      "6/6 [==============================] - 0s 964us/step - loss: 0.3442 - accuracy: 0.9500\n",
      "Epoch 63/150\n",
      "6/6 [==============================] - 0s 995us/step - loss: 0.3439 - accuracy: 0.9500\n",
      "Epoch 64/150\n",
      "6/6 [==============================] - 0s 997us/step - loss: 0.3443 - accuracy: 0.9500\n",
      "Epoch 65/150\n",
      "6/6 [==============================] - 0s 1ms/step - loss: 0.3434 - accuracy: 0.9500\n",
      "Epoch 66/150\n",
      "6/6 [==============================] - 0s 1ms/step - loss: 0.3430 - accuracy: 0.9500\n",
      "Epoch 67/150\n",
      "6/6 [==============================] - 0s 1ms/step - loss: 0.3425 - accuracy: 0.9500\n",
      "Epoch 68/150\n",
      "6/6 [==============================] - 0s 1ms/step - loss: 0.3423 - accuracy: 0.9500\n",
      "Epoch 69/150\n",
      "6/6 [==============================] - 0s 1ms/step - loss: 0.3417 - accuracy: 0.9500\n",
      "Epoch 70/150\n",
      "6/6 [==============================] - 0s 1ms/step - loss: 0.3414 - accuracy: 0.9500\n",
      "Epoch 71/150\n",
      "6/6 [==============================] - 0s 1ms/step - loss: 0.3411 - accuracy: 0.9500\n",
      "Epoch 72/150\n",
      "6/6 [==============================] - 0s 1ms/step - loss: 0.3407 - accuracy: 0.9500\n",
      "Epoch 73/150\n",
      "6/6 [==============================] - 0s 1ms/step - loss: 0.3407 - accuracy: 0.9500\n",
      "Epoch 74/150\n",
      "6/6 [==============================] - 0s 1ms/step - loss: 0.3399 - accuracy: 0.9500\n",
      "Epoch 75/150\n",
      "6/6 [==============================] - 0s 1ms/step - loss: 0.3396 - accuracy: 0.9500\n",
      "Epoch 76/150\n",
      "6/6 [==============================] - 0s 1ms/step - loss: 0.3397 - accuracy: 0.9500\n",
      "Epoch 77/150\n",
      "6/6 [==============================] - 0s 1ms/step - loss: 0.3389 - accuracy: 0.9500\n",
      "Epoch 78/150\n",
      "6/6 [==============================] - 0s 1ms/step - loss: 0.3390 - accuracy: 0.9500\n",
      "Epoch 79/150\n",
      "6/6 [==============================] - 0s 1ms/step - loss: 0.3384 - accuracy: 0.9500\n",
      "Epoch 80/150\n",
      "6/6 [==============================] - 0s 982us/step - loss: 0.3380 - accuracy: 0.9500\n",
      "Epoch 81/150\n",
      "6/6 [==============================] - 0s 1ms/step - loss: 0.3375 - accuracy: 0.9500\n",
      "Epoch 82/150\n",
      "6/6 [==============================] - 0s 983us/step - loss: 0.3371 - accuracy: 0.9500\n",
      "Epoch 83/150\n",
      "6/6 [==============================] - 0s 883us/step - loss: 0.3368 - accuracy: 0.9500\n",
      "Epoch 84/150\n",
      "6/6 [==============================] - 0s 1ms/step - loss: 0.3369 - accuracy: 0.9500\n",
      "Epoch 85/150\n",
      "6/6 [==============================] - 0s 1ms/step - loss: 0.3362 - accuracy: 0.9500\n",
      "Epoch 86/150\n",
      "6/6 [==============================] - 0s 1ms/step - loss: 0.3361 - accuracy: 0.9500\n",
      "Epoch 87/150\n",
      "6/6 [==============================] - 0s 1ms/step - loss: 0.3354 - accuracy: 0.9500\n",
      "Epoch 88/150\n",
      "6/6 [==============================] - 0s 1ms/step - loss: 0.3352 - accuracy: 0.9500\n",
      "Epoch 89/150\n",
      "6/6 [==============================] - 0s 2ms/step - loss: 0.3350 - accuracy: 0.9500\n",
      "Epoch 90/150\n",
      "6/6 [==============================] - 0s 1ms/step - loss: 0.3344 - accuracy: 0.9500\n",
      "Epoch 91/150\n",
      "6/6 [==============================] - 0s 966us/step - loss: 0.3341 - accuracy: 0.9500\n",
      "Epoch 92/150\n",
      "6/6 [==============================] - 0s 1ms/step - loss: 0.3339 - accuracy: 0.9500\n",
      "Epoch 93/150\n",
      "6/6 [==============================] - 0s 1ms/step - loss: 0.3333 - accuracy: 0.9500\n",
      "Epoch 94/150\n",
      "6/6 [==============================] - 0s 1ms/step - loss: 0.3337 - accuracy: 0.9583\n",
      "Epoch 95/150\n",
      "6/6 [==============================] - 0s 1ms/step - loss: 0.3328 - accuracy: 0.9583\n",
      "Epoch 96/150\n",
      "6/6 [==============================] - 0s 1ms/step - loss: 0.3322 - accuracy: 0.9500\n",
      "Epoch 97/150\n",
      "6/6 [==============================] - 0s 1ms/step - loss: 0.3319 - accuracy: 0.9500\n",
      "Epoch 98/150\n",
      "6/6 [==============================] - 0s 1ms/step - loss: 0.3317 - accuracy: 0.9500\n",
      "Epoch 99/150\n",
      "6/6 [==============================] - 0s 1ms/step - loss: 0.3313 - accuracy: 0.9500\n",
      "Epoch 100/150\n",
      "6/6 [==============================] - 0s 910us/step - loss: 0.3309 - accuracy: 0.9500\n",
      "Epoch 101/150\n",
      "6/6 [==============================] - 0s 1ms/step - loss: 0.3308 - accuracy: 0.9500\n",
      "Epoch 102/150\n",
      "6/6 [==============================] - 0s 1ms/step - loss: 0.3302 - accuracy: 0.9500\n",
      "Epoch 103/150\n",
      "6/6 [==============================] - 0s 866us/step - loss: 0.3299 - accuracy: 0.9500\n",
      "Epoch 104/150\n",
      "6/6 [==============================] - 0s 972us/step - loss: 0.3296 - accuracy: 0.9500\n",
      "Epoch 105/150\n",
      "6/6 [==============================] - 0s 1ms/step - loss: 0.3292 - accuracy: 0.9500\n",
      "Epoch 106/150\n",
      "6/6 [==============================] - 0s 858us/step - loss: 0.3292 - accuracy: 0.9583\n",
      "Epoch 107/150\n",
      "6/6 [==============================] - 0s 999us/step - loss: 0.3285 - accuracy: 0.9583\n",
      "Epoch 108/150\n",
      "6/6 [==============================] - 0s 925us/step - loss: 0.3282 - accuracy: 0.9500\n",
      "Epoch 109/150\n",
      "6/6 [==============================] - 0s 985us/step - loss: 0.3280 - accuracy: 0.9500\n",
      "Epoch 110/150\n",
      "6/6 [==============================] - 0s 932us/step - loss: 0.3275 - accuracy: 0.9500\n",
      "Epoch 111/150\n",
      "6/6 [==============================] - 0s 1ms/step - loss: 0.3271 - accuracy: 0.9500\n",
      "Epoch 112/150\n",
      "6/6 [==============================] - 0s 1ms/step - loss: 0.3270 - accuracy: 0.9500\n",
      "Epoch 113/150\n",
      "6/6 [==============================] - 0s 1ms/step - loss: 0.3264 - accuracy: 0.9583\n",
      "Epoch 114/150\n",
      "6/6 [==============================] - 0s 1ms/step - loss: 0.3262 - accuracy: 0.9583\n",
      "Epoch 115/150\n",
      "6/6 [==============================] - 0s 1ms/step - loss: 0.3259 - accuracy: 0.9583\n",
      "Epoch 116/150\n",
      "6/6 [==============================] - 0s 1ms/step - loss: 0.3255 - accuracy: 0.9500\n",
      "Epoch 117/150\n",
      "6/6 [==============================] - 0s 1ms/step - loss: 0.3251 - accuracy: 0.9500\n",
      "Epoch 118/150\n",
      "6/6 [==============================] - 0s 1ms/step - loss: 0.3248 - accuracy: 0.9500\n",
      "Epoch 119/150\n",
      "6/6 [==============================] - 0s 1ms/step - loss: 0.3245 - accuracy: 0.9500\n",
      "Epoch 120/150\n",
      "6/6 [==============================] - 0s 1ms/step - loss: 0.3245 - accuracy: 0.9500\n",
      "Epoch 121/150\n",
      "6/6 [==============================] - 0s 1ms/step - loss: 0.3239 - accuracy: 0.9500\n",
      "Epoch 122/150\n",
      "6/6 [==============================] - 0s 1ms/step - loss: 0.3235 - accuracy: 0.9500\n",
      "Epoch 123/150\n",
      "6/6 [==============================] - 0s 1ms/step - loss: 0.3231 - accuracy: 0.9500\n",
      "Epoch 124/150\n",
      "6/6 [==============================] - 0s 1ms/step - loss: 0.3232 - accuracy: 0.9583\n",
      "Epoch 125/150\n",
      "6/6 [==============================] - 0s 1ms/step - loss: 0.3226 - accuracy: 0.9583\n",
      "Epoch 126/150\n",
      "6/6 [==============================] - 0s 1ms/step - loss: 0.3221 - accuracy: 0.9583\n",
      "Epoch 127/150\n",
      "6/6 [==============================] - 0s 1ms/step - loss: 0.3219 - accuracy: 0.9583\n",
      "Epoch 128/150\n",
      "6/6 [==============================] - 0s 1ms/step - loss: 0.3215 - accuracy: 0.9583\n",
      "Epoch 129/150\n",
      "6/6 [==============================] - 0s 1ms/step - loss: 0.3211 - accuracy: 0.9583\n",
      "Epoch 130/150\n",
      "6/6 [==============================] - 0s 991us/step - loss: 0.3208 - accuracy: 0.9583\n",
      "Epoch 131/150\n",
      "6/6 [==============================] - 0s 1ms/step - loss: 0.3208 - accuracy: 0.9583\n",
      "Epoch 132/150\n",
      "6/6 [==============================] - 0s 1ms/step - loss: 0.3202 - accuracy: 0.9500\n",
      "Epoch 133/150\n",
      "6/6 [==============================] - 0s 1ms/step - loss: 0.3200 - accuracy: 0.9500\n",
      "Epoch 134/150\n",
      "6/6 [==============================] - 0s 1ms/step - loss: 0.3194 - accuracy: 0.9500\n",
      "Epoch 135/150\n",
      "6/6 [==============================] - 0s 1ms/step - loss: 0.3191 - accuracy: 0.9583\n",
      "Epoch 136/150\n",
      "6/6 [==============================] - 0s 2ms/step - loss: 0.3189 - accuracy: 0.9583\n",
      "Epoch 137/150\n",
      "6/6 [==============================] - 0s 1ms/step - loss: 0.3184 - accuracy: 0.9583\n",
      "Epoch 138/150\n",
      "6/6 [==============================] - 0s 1ms/step - loss: 0.3183 - accuracy: 0.9583\n",
      "Epoch 139/150\n",
      "6/6 [==============================] - 0s 1ms/step - loss: 0.3179 - accuracy: 0.9583\n",
      "Epoch 140/150\n",
      "6/6 [==============================] - 0s 1ms/step - loss: 0.3176 - accuracy: 0.9583\n",
      "Epoch 141/150\n",
      "6/6 [==============================] - 0s 1ms/step - loss: 0.3171 - accuracy: 0.9583\n",
      "Epoch 142/150\n",
      "6/6 [==============================] - 0s 1ms/step - loss: 0.3172 - accuracy: 0.9583\n",
      "Epoch 143/150\n",
      "6/6 [==============================] - 0s 1ms/step - loss: 0.3164 - accuracy: 0.9583\n",
      "Epoch 144/150\n",
      "6/6 [==============================] - 0s 1ms/step - loss: 0.3162 - accuracy: 0.9583\n",
      "Epoch 145/150\n",
      "6/6 [==============================] - 0s 1ms/step - loss: 0.3163 - accuracy: 0.9583\n",
      "Epoch 146/150\n",
      "6/6 [==============================] - 0s 1ms/step - loss: 0.3156 - accuracy: 0.9583\n",
      "Epoch 147/150\n",
      "6/6 [==============================] - 0s 1ms/step - loss: 0.3152 - accuracy: 0.9583\n",
      "Epoch 148/150\n",
      "6/6 [==============================] - 0s 1ms/step - loss: 0.3152 - accuracy: 0.9583\n",
      "Epoch 149/150\n",
      "6/6 [==============================] - 0s 1ms/step - loss: 0.3145 - accuracy: 0.9583\n",
      "Epoch 150/150\n",
      "6/6 [==============================] - 0s 1ms/step - loss: 0.3142 - accuracy: 0.9583\n"
     ]
    }
   ],
   "source": [
    "his = model.fit(X_train, y_train, epochs=150, batch_size=20)"
   ],
   "metadata": {
    "collapsed": false,
    "ExecuteTime": {
     "end_time": "2023-08-14T03:47:26.400202967Z",
     "start_time": "2023-08-14T03:47:25.016185392Z"
    }
   },
   "id": "991501f432c77ec8"
  },
  {
   "cell_type": "code",
   "execution_count": 37,
   "outputs": [],
   "source": [
    "import matplotlib.pyplot as plt"
   ],
   "metadata": {
    "collapsed": false,
    "ExecuteTime": {
     "end_time": "2023-08-14T03:47:27.195101761Z",
     "start_time": "2023-08-14T03:47:27.185371425Z"
    }
   },
   "id": "b3aaeb90c362b1e0"
  },
  {
   "cell_type": "code",
   "execution_count": 38,
   "outputs": [
    {
     "data": {
      "text/plain": "[<matplotlib.lines.Line2D at 0x7fedf35dfb50>]"
     },
     "execution_count": 38,
     "metadata": {},
     "output_type": "execute_result"
    },
    {
     "data": {
      "text/plain": "<Figure size 640x480 with 1 Axes>",
      "image/png": "[encoded data removed]"
     },
     "metadata": {},
     "output_type": "display_data"
    }
   ],
   "source": [
    "plt.plot(his.history['loss'])"
   ],
   "metadata": {
    "collapsed": false,
    "ExecuteTime": {
     "end_time": "2023-08-14T03:47:27.923565442Z",
     "start_time": "2023-08-14T03:47:27.732702655Z"
    }
   },
   "id": "f3a0d24b83d7432a"
  },
  {
   "cell_type": "code",
   "execution_count": 39,
   "outputs": [
    {
     "data": {
      "text/plain": "[<matplotlib.lines.Line2D at 0x7fedf344f0a0>]"
     },
     "execution_count": 39,
     "metadata": {},
     "output_type": "execute_result"
    },
    {
     "data": {
      "text/plain": "<Figure size 640x480 with 1 Axes>",
      "image/png": "[encoded data removed]"
     },
     "metadata": {},
     "output_type": "display_data"
    }
   ],
   "source": [
    "plt.plot(his.history['accuracy'])"
   ],
   "metadata": {
    "collapsed": false,
    "ExecuteTime": {
     "end_time": "2023-08-14T03:47:30.252175912Z",
     "start_time": "2023-08-14T03:47:30.092167021Z"
    }
   },
   "id": "c21ec8b87c4a2c20"
  },
  {
   "cell_type": "code",
   "execution_count": 40,
   "outputs": [
    {
     "name": "stdout",
     "output_type": "stream",
     "text": [
      "1/1 [==============================] - 0s 81ms/step - loss: 0.2509 - accuracy: 1.0000\n"
     ]
    }
   ],
   "source": [
    "score = model.evaluate(X_test, y_test)"
   ],
   "metadata": {
    "collapsed": false,
    "ExecuteTime": {
     "end_time": "2023-08-14T03:47:40.892112624Z",
     "start_time": "2023-08-14T03:47:40.779943522Z"
    }
   },
   "id": "b5d3edfeaecae32c"
  }
 ],
 "metadata": {
  "kernelspec": {
   "display_name": "Python 3",
   "language": "python",
   "name": "python3"
  },
  "language_info": {
   "codemirror_mode": {
    "name": "ipython",
    "version": 2
   },
   "file_extension": ".py",
   "mimetype": "text/x-python",
   "name": "python",
   "nbconvert_exporter": "python",
   "pygments_lexer": "ipython2",
   "version": "2.7.6"
  }
 },
 "nbformat": 4,
 "nbformat_minor": 5
}
