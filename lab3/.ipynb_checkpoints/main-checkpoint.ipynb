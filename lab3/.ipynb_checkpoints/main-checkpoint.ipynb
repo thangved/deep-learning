{
 "cells": [
  {
   "cell_type": "markdown",
   "source": [
    "# Mạng nơ ron đơn tầng, đa lớp\n",
    "\n",
    "- Họ và tên: Kim Minh Thắng\n",
    "- Mã số sinh viên: B2007210\n"
   ],
   "metadata": {
    "collapsed": false
   },
   "id": "c8acc986a3f3826a"
  },
  {
   "cell_type": "markdown",
   "source": [
    "## 1. Thực hành 1\n",
    "\n",
    "Tổng hợp các mã lệnh được trình bày để xây dựng một mạng neuron đơn tầng, 3 lớp với dữ liệu huấn luyện như bên dưới.\n",
    "\n",
    "```python\n",
    "X = tf.constant([[0.0, 0],\n",
    "                [0, 1],\n",
    "                [1, 0],\n",
    "                [1, 1]])\n",
    "\n",
    "y = tf.constant([[1.0, 0, 0],\n",
    "                [0, 1, 0],\n",
    "                [0, 1, 0],\n",
    "                [1, 0, 1]])\n",
    "```"
   ],
   "metadata": {
    "collapsed": false
   },
   "id": "18c069192a46738f"
  },
  {
   "cell_type": "markdown",
   "source": [
    "### 1.1. Import các gói cần thiết"
   ],
   "metadata": {
    "collapsed": false
   },
   "id": "4deaf081b4dbd438"
  },
  {
   "cell_type": "code",
   "execution_count": 235,
   "outputs": [],
   "source": [
    "import tensorflow as tf"
   ],
   "metadata": {
    "collapsed": false,
    "ExecuteTime": {
     "end_time": "2023-08-23T10:44:18.774734909Z",
     "start_time": "2023-08-23T10:44:18.710173134Z"
    }
   },
   "id": "db368b10d73f30a3"
  },
  {
   "cell_type": "markdown",
   "source": [
    "### 1.2. Hàm predict"
   ],
   "metadata": {
    "collapsed": false
   },
   "id": "674ed1e98d32588"
  },
  {
   "cell_type": "code",
   "execution_count": 236,
   "outputs": [],
   "source": [
    "@tf.function\n",
    "def predict(X, W, b):\n",
    "    return tf.nn.softmax(tf.matmul(X, W) + b)"
   ],
   "metadata": {
    "collapsed": false,
    "ExecuteTime": {
     "end_time": "2023-08-23T10:44:18.786842616Z",
     "start_time": "2023-08-23T10:44:18.716286360Z"
    }
   },
   "id": "342cce9ac0428503"
  },
  {
   "cell_type": "markdown",
   "source": [
    "### 1.3. Hàm loss"
   ],
   "metadata": {
    "collapsed": false
   },
   "id": "191c6367e38faaaa"
  },
  {
   "cell_type": "code",
   "execution_count": 237,
   "outputs": [],
   "source": [
    "@tf.function\n",
    "def loss(y, yhat):\n",
    "    return -tf.reduce_mean(tf.reduce_sum(y * tf.math.log(yhat), axis=1))"
   ],
   "metadata": {
    "collapsed": false,
    "ExecuteTime": {
     "end_time": "2023-08-23T10:44:18.794307362Z",
     "start_time": "2023-08-23T10:44:18.720802953Z"
    }
   },
   "id": "8cdd75db5e81b27a"
  },
  {
   "cell_type": "markdown",
   "source": [
    "### 1.4. Khởi tạo các tham số"
   ],
   "metadata": {
    "collapsed": false
   },
   "id": "a50a08a864d45c92"
  },
  {
   "cell_type": "code",
   "execution_count": 238,
   "outputs": [],
   "source": [
    "X = tf.constant([[0.0, 0],\n",
    "                 [0, 1],\n",
    "                 [1, 0],\n",
    "                 [1, 1]])\n",
    "\n",
    "y = tf.constant([[1.0, 0, 0],\n",
    "                 [0, 1, 0],\n",
    "                 [0, 1, 0],\n",
    "                 [1, 0, 1]])\n",
    "W = tf.Variable(tf.random.normal((2, 3)))\n",
    "b = tf.Variable(tf.random.normal((3,)))\n",
    "\n",
    "alpha=.1"
   ],
   "metadata": {
    "collapsed": false,
    "ExecuteTime": {
     "end_time": "2023-08-23T10:44:18.837877409Z",
     "start_time": "2023-08-23T10:44:18.724799241Z"
    }
   },
   "id": "ddc2827425f32e6"
  },
  {
   "cell_type": "markdown",
   "source": [
    "### 1.5. Huấn luyện mô hình"
   ],
   "metadata": {
    "collapsed": false
   },
   "id": "d0a4789c12f97c10"
  },
  {
   "cell_type": "code",
   "execution_count": 239,
   "outputs": [
    {
     "name": "stdout",
     "output_type": "stream",
     "text": [
      "0, loss = 2.9647021293640137\n",
      "50, loss = 1.3947193622589111\n",
      "100, loss = 1.2970253229141235\n",
      "150, loss = 1.2397516965866089\n",
      "200, loss = 1.203071117401123\n",
      "250, loss = 1.1778745651245117\n",
      "300, loss = 1.1595351696014404\n",
      "350, loss = 1.145565152168274\n",
      "400, loss = 1.1345425844192505\n",
      "450, loss = 1.125605583190918\n"
     ]
    }
   ],
   "source": [
    "loss_his = []\n",
    "\n",
    "for it in range(500):\n",
    "    with tf.GradientTape() as tape:\n",
    "        y_hat = predict(X, W, b)\n",
    "        loss_val = loss(y, y_hat)\n",
    "        \n",
    "    loss_his.append(loss_val)        \n",
    "    \n",
    "    if it % 50 == 0:\n",
    "        print(f'{it}, loss = {loss_val}')\n",
    "    \n",
    "    dW, db = tape.gradient(loss_val, [W, b])\n",
    "    \n",
    "    W.assign_sub(alpha * dW)\n",
    "    b.assign_sub(alpha * db)"
   ],
   "metadata": {
    "collapsed": false,
    "ExecuteTime": {
     "end_time": "2023-08-23T10:44:19.512383534Z",
     "start_time": "2023-08-23T10:44:18.733096403Z"
    }
   },
   "id": "86f7b307f0881aa9"
  },
  {
   "cell_type": "code",
   "execution_count": 240,
   "outputs": [
    {
     "data": {
      "text/plain": "[<matplotlib.lines.Line2D at 0x7fb399155450>]"
     },
     "execution_count": 240,
     "metadata": {},
     "output_type": "execute_result"
    },
    {
     "data": {
      "text/plain": "<Figure size 640x480 with 1 Axes>",
      "image/png": "[encoded data removed]"
     },
     "metadata": {},
     "output_type": "display_data"
    }
   ],
   "source": [
    "import matplotlib.pyplot as plt\n",
    "\n",
    "plt.plot(loss_his)"
   ],
   "metadata": {
    "collapsed": false,
    "ExecuteTime": {
     "end_time": "2023-08-23T10:44:19.663947658Z",
     "start_time": "2023-08-23T10:44:19.522861182Z"
    }
   },
   "id": "922293a3cd799e5e"
  },
  {
   "cell_type": "markdown",
   "source": [
    "## 2. Thực hành 2\n",
    "\n",
    "Làm lại bài phân loại hoa iris (3 lớp) với Tensorflow thay vì dùng Keras\n",
    "- Cần mã hoá đầu ra mong muốn: có thể xử lý thủ công hoặc dùng công cụ\n",
    "- Sử dụng hàm lỗi Categorical Cross-Entropy\n",
    "- Cần xử lý đầu ra để tìm nhãn chính xác (sử dụng hàm argmax để tìm cột có giá trị lớn nhất)\n",
    "- Tính độ chính xác phân lớp bằng cách so sánh nhãn dự báo và nhãn mong muốn\n",
    "- Có thể dùng hàm Tensor.numpy() để lấy giá trị của\n",
    "\n",
    "Tensor về dạng numpy để hậu xử lý."
   ],
   "metadata": {
    "collapsed": false
   },
   "id": "aec3266e39d74ab3"
  },
  {
   "cell_type": "markdown",
   "source": [
    "### 2.1. Import các gói cần thiết"
   ],
   "metadata": {
    "collapsed": false
   },
   "id": "65fa8e41a1365cba"
  },
  {
   "cell_type": "code",
   "execution_count": 241,
   "outputs": [],
   "source": [
    "import tensorflow as tf\n",
    "import pandas as pd\n",
    "from sklearn.preprocessing import LabelEncoder\n",
    "from sklearn.preprocessing import OneHotEncoder\n",
    "from sklearn.model_selection import train_test_split"
   ],
   "metadata": {
    "collapsed": false,
    "ExecuteTime": {
     "end_time": "2023-08-23T10:44:19.664237454Z",
     "start_time": "2023-08-23T10:44:19.663730868Z"
    }
   },
   "id": "aa8857228215d529"
  },
  {
   "cell_type": "markdown",
   "source": [
    "### 2.2. Đọc dữ liệu và xử lý dữ liệu"
   ],
   "metadata": {
    "collapsed": false
   },
   "id": "e01959e304a98f13"
  },
  {
   "cell_type": "markdown",
   "source": [
    "#### Đọc dữ liệu từ file `csv`"
   ],
   "metadata": {
    "collapsed": false
   },
   "id": "16d2974f3670b42f"
  },
  {
   "cell_type": "code",
   "execution_count": 242,
   "outputs": [],
   "source": [
    "df = pd.read_csv(\"./Iris.csv\")"
   ],
   "metadata": {
    "collapsed": false,
    "ExecuteTime": {
     "end_time": "2023-08-23T10:44:19.664355043Z",
     "start_time": "2023-08-23T10:44:19.663854240Z"
    }
   },
   "id": "4f3c2f89b20d6c"
  },
  {
   "cell_type": "markdown",
   "source": [
    "#### Tách các cột đặc trưng và nhãn"
   ],
   "metadata": {
    "collapsed": false
   },
   "id": "6e6947b0ce617e38"
  },
  {
   "cell_type": "code",
   "execution_count": 243,
   "outputs": [],
   "source": [
    "X = df[['PetalLengthCm', 'PetalWidthCm', 'SepalLengthCm', 'SepalWidthCm']]\n",
    "y = df['Species']"
   ],
   "metadata": {
    "collapsed": false,
    "ExecuteTime": {
     "end_time": "2023-08-23T10:44:19.664452252Z",
     "start_time": "2023-08-23T10:44:19.663895651Z"
    }
   },
   "id": "bcc18da440fda174"
  },
  {
   "cell_type": "markdown",
   "source": [
    "Sử dụng `LabelEncoder` để mã hoá nhãn"
   ],
   "metadata": {
    "collapsed": false
   },
   "id": "2745455dd34e3355"
  },
  {
   "cell_type": "code",
   "execution_count": 244,
   "outputs": [
    {
     "data": {
      "text/plain": "array([0, 0, 0, 0, 0, 0, 0, 0, 0, 0, 0, 0, 0, 0, 0, 0, 0, 0, 0, 0, 0, 0,\n       0, 0, 0, 0, 0, 0, 0, 0, 0, 0, 0, 0, 0, 0, 0, 0, 0, 0, 0, 0, 0, 0,\n       0, 0, 0, 0, 0, 0, 1, 1, 1, 1, 1, 1, 1, 1, 1, 1, 1, 1, 1, 1, 1, 1,\n       1, 1, 1, 1, 1, 1, 1, 1, 1, 1, 1, 1, 1, 1, 1, 1, 1, 1, 1, 1, 1, 1,\n       1, 1, 1, 1, 1, 1, 1, 1, 1, 1, 1, 1, 2, 2, 2, 2, 2, 2, 2, 2, 2, 2,\n       2, 2, 2, 2, 2, 2, 2, 2, 2, 2, 2, 2, 2, 2, 2, 2, 2, 2, 2, 2, 2, 2,\n       2, 2, 2, 2, 2, 2, 2, 2, 2, 2, 2, 2, 2, 2, 2, 2, 2, 2])"
     },
     "execution_count": 244,
     "metadata": {},
     "output_type": "execute_result"
    }
   ],
   "source": [
    "le = LabelEncoder()\n",
    "y = le.fit_transform(y)\n",
    "y"
   ],
   "metadata": {
    "collapsed": false,
    "ExecuteTime": {
     "end_time": "2023-08-23T10:44:19.664743172Z",
     "start_time": "2023-08-23T10:44:19.663934759Z"
    }
   },
   "id": "3a1d3e4e4ff515e5"
  },
  {
   "cell_type": "markdown",
   "source": [
    "Sử dụng `OneHotEncoder` để mã hoá nhãn"
   ],
   "metadata": {
    "collapsed": false
   },
   "id": "86ffca077bf3f877"
  },
  {
   "cell_type": "code",
   "execution_count": 245,
   "outputs": [
    {
     "data": {
      "text/plain": "array([[1., 0., 0.],\n       [1., 0., 0.],\n       [1., 0., 0.],\n       [1., 0., 0.],\n       [1., 0., 0.],\n       [1., 0., 0.],\n       [1., 0., 0.],\n       [1., 0., 0.],\n       [1., 0., 0.],\n       [1., 0., 0.],\n       [1., 0., 0.],\n       [1., 0., 0.],\n       [1., 0., 0.],\n       [1., 0., 0.],\n       [1., 0., 0.],\n       [1., 0., 0.],\n       [1., 0., 0.],\n       [1., 0., 0.],\n       [1., 0., 0.],\n       [1., 0., 0.],\n       [1., 0., 0.],\n       [1., 0., 0.],\n       [1., 0., 0.],\n       [1., 0., 0.],\n       [1., 0., 0.],\n       [1., 0., 0.],\n       [1., 0., 0.],\n       [1., 0., 0.],\n       [1., 0., 0.],\n       [1., 0., 0.],\n       [1., 0., 0.],\n       [1., 0., 0.],\n       [1., 0., 0.],\n       [1., 0., 0.],\n       [1., 0., 0.],\n       [1., 0., 0.],\n       [1., 0., 0.],\n       [1., 0., 0.],\n       [1., 0., 0.],\n       [1., 0., 0.],\n       [1., 0., 0.],\n       [1., 0., 0.],\n       [1., 0., 0.],\n       [1., 0., 0.],\n       [1., 0., 0.],\n       [1., 0., 0.],\n       [1., 0., 0.],\n       [1., 0., 0.],\n       [1., 0., 0.],\n       [1., 0., 0.],\n       [0., 1., 0.],\n       [0., 1., 0.],\n       [0., 1., 0.],\n       [0., 1., 0.],\n       [0., 1., 0.],\n       [0., 1., 0.],\n       [0., 1., 0.],\n       [0., 1., 0.],\n       [0., 1., 0.],\n       [0., 1., 0.],\n       [0., 1., 0.],\n       [0., 1., 0.],\n       [0., 1., 0.],\n       [0., 1., 0.],\n       [0., 1., 0.],\n       [0., 1., 0.],\n       [0., 1., 0.],\n       [0., 1., 0.],\n       [0., 1., 0.],\n       [0., 1., 0.],\n       [0., 1., 0.],\n       [0., 1., 0.],\n       [0., 1., 0.],\n       [0., 1., 0.],\n       [0., 1., 0.],\n       [0., 1., 0.],\n       [0., 1., 0.],\n       [0., 1., 0.],\n       [0., 1., 0.],\n       [0., 1., 0.],\n       [0., 1., 0.],\n       [0., 1., 0.],\n       [0., 1., 0.],\n       [0., 1., 0.],\n       [0., 1., 0.],\n       [0., 1., 0.],\n       [0., 1., 0.],\n       [0., 1., 0.],\n       [0., 1., 0.],\n       [0., 1., 0.],\n       [0., 1., 0.],\n       [0., 1., 0.],\n       [0., 1., 0.],\n       [0., 1., 0.],\n       [0., 1., 0.],\n       [0., 1., 0.],\n       [0., 1., 0.],\n       [0., 1., 0.],\n       [0., 1., 0.],\n       [0., 1., 0.],\n       [0., 0., 1.],\n       [0., 0., 1.],\n       [0., 0., 1.],\n       [0., 0., 1.],\n       [0., 0., 1.],\n       [0., 0., 1.],\n       [0., 0., 1.],\n       [0., 0., 1.],\n       [0., 0., 1.],\n       [0., 0., 1.],\n       [0., 0., 1.],\n       [0., 0., 1.],\n       [0., 0., 1.],\n       [0., 0., 1.],\n       [0., 0., 1.],\n       [0., 0., 1.],\n       [0., 0., 1.],\n       [0., 0., 1.],\n       [0., 0., 1.],\n       [0., 0., 1.],\n       [0., 0., 1.],\n       [0., 0., 1.],\n       [0., 0., 1.],\n       [0., 0., 1.],\n       [0., 0., 1.],\n       [0., 0., 1.],\n       [0., 0., 1.],\n       [0., 0., 1.],\n       [0., 0., 1.],\n       [0., 0., 1.],\n       [0., 0., 1.],\n       [0., 0., 1.],\n       [0., 0., 1.],\n       [0., 0., 1.],\n       [0., 0., 1.],\n       [0., 0., 1.],\n       [0., 0., 1.],\n       [0., 0., 1.],\n       [0., 0., 1.],\n       [0., 0., 1.],\n       [0., 0., 1.],\n       [0., 0., 1.],\n       [0., 0., 1.],\n       [0., 0., 1.],\n       [0., 0., 1.],\n       [0., 0., 1.],\n       [0., 0., 1.],\n       [0., 0., 1.],\n       [0., 0., 1.],\n       [0., 0., 1.]])"
     },
     "execution_count": 245,
     "metadata": {},
     "output_type": "execute_result"
    }
   ],
   "source": [
    "y = y.reshape(-1, 1)\n",
    "one = OneHotEncoder()\n",
    "\n",
    "y = one.fit_transform(y).toarray()\n",
    "\n",
    "y"
   ],
   "metadata": {
    "collapsed": false,
    "ExecuteTime": {
     "end_time": "2023-08-23T10:44:19.666066548Z",
     "start_time": "2023-08-23T10:44:19.664083106Z"
    }
   },
   "id": "f8391d0f3f83d901"
  },
  {
   "cell_type": "markdown",
   "source": [
    "#### Chia dữ liệu thành 2 tập train và test"
   ],
   "metadata": {
    "collapsed": false
   },
   "id": "e0c64bfff36d344e"
  },
  {
   "cell_type": "code",
   "execution_count": 246,
   "outputs": [],
   "source": [
    "x_train, x_test, y_train, y_test = train_test_split(X, y, test_size=0.2)\n",
    "\n",
    "x_train = tf.constant(x_train.values, dtype=tf.float32)\n",
    "x_test = tf.constant(x_test.values, dtype=tf.float32)\n",
    "y_train = tf.constant(y_train, dtype=tf.float32)\n",
    "y_test = tf.constant(y_test, dtype=tf.float32)"
   ],
   "metadata": {
    "collapsed": false,
    "ExecuteTime": {
     "end_time": "2023-08-23T10:44:19.666234300Z",
     "start_time": "2023-08-23T10:44:19.664218845Z"
    }
   },
   "id": "2dcd2a9592facea"
  },
  {
   "cell_type": "markdown",
   "source": [
    "### 2.3. Hàm predict    "
   ],
   "metadata": {
    "collapsed": false
   },
   "id": "4725a4bfd341b6c9"
  },
  {
   "cell_type": "code",
   "execution_count": 247,
   "outputs": [],
   "source": [
    "@tf.function\n",
    "def predict(X, W, b):\n",
    "    return tf.nn.softmax(tf.matmul(X, W) + b)"
   ],
   "metadata": {
    "collapsed": false,
    "ExecuteTime": {
     "end_time": "2023-08-23T10:44:19.667071984Z",
     "start_time": "2023-08-23T10:44:19.664288933Z"
    }
   },
   "id": "eb85a762b964f2a5"
  },
  {
   "cell_type": "markdown",
   "source": [
    "### 2.4. Hàm loss"
   ],
   "metadata": {
    "collapsed": false
   },
   "id": "3fb017926ca8fa01"
  },
  {
   "cell_type": "code",
   "execution_count": 248,
   "outputs": [],
   "source": [
    "@tf.function\n",
    "def loss(y, yhat):\n",
    "    return -tf.reduce_mean(tf.reduce_sum(y * tf.math.log(yhat), axis=1))"
   ],
   "metadata": {
    "collapsed": false,
    "ExecuteTime": {
     "end_time": "2023-08-23T10:44:19.667161860Z",
     "start_time": "2023-08-23T10:44:19.664329067Z"
    }
   },
   "id": "fe6becbcfb56f660"
  },
  {
   "cell_type": "markdown",
   "source": [
    "### 2.5. Huấn luyện mô hình"
   ],
   "metadata": {
    "collapsed": false
   },
   "id": "7cfad5891cf954b0"
  },
  {
   "cell_type": "code",
   "execution_count": 249,
   "outputs": [],
   "source": [
    "W = tf.Variable(tf.random.normal((4, 3)))\n",
    "b = tf.Variable(tf.random.normal((3,)))\n",
    "alpha = .1"
   ],
   "metadata": {
    "collapsed": false,
    "ExecuteTime": {
     "end_time": "2023-08-23T10:44:19.668001174Z",
     "start_time": "2023-08-23T10:44:19.664404602Z"
    }
   },
   "id": "4db84ab81e5fa73"
  },
  {
   "cell_type": "code",
   "execution_count": 250,
   "outputs": [
    {
     "name": "stdout",
     "output_type": "stream",
     "text": [
      "0, loss = 7.13410758972168\n",
      "50, loss = 0.532538115978241\n",
      "100, loss = 0.3793633282184601\n",
      "150, loss = 0.27750536799430847\n",
      "200, loss = 0.24623648822307587\n",
      "250, loss = 0.22424064576625824\n",
      "300, loss = 0.2070918083190918\n",
      "350, loss = 0.19335395097732544\n",
      "400, loss = 0.1821029633283615\n",
      "450, loss = 0.17271788418293\n"
     ]
    }
   ],
   "source": [
    "loss_his = []\n",
    "\n",
    "for it in range(500):\n",
    "    with tf.GradientTape() as tape:\n",
    "        y_hat = predict(x_train, W, b)\n",
    "        loss_val = loss(y_train, y_hat)\n",
    "        \n",
    "    loss_his.append(loss_val)        \n",
    "    \n",
    "    if it % 50 == 0:\n",
    "        print(f'{it}, loss = {loss_val}')\n",
    "    \n",
    "    dW, db = tape.gradient(loss_val, [W, b])\n",
    "    \n",
    "    W.assign_sub(alpha * dW)\n",
    "    b.assign_sub(alpha * db)"
   ],
   "metadata": {
    "collapsed": false,
    "ExecuteTime": {
     "end_time": "2023-08-23T10:44:20.430280400Z",
     "start_time": "2023-08-23T10:44:19.711646785Z"
    }
   },
   "id": "d24737c059054435"
  },
  {
   "cell_type": "markdown",
   "source": [
    "### 2.6. Đánh giá mô hình"
   ],
   "metadata": {
    "collapsed": false
   },
   "id": "494a9dacc8419fb3"
  },
  {
   "cell_type": "code",
   "execution_count": 251,
   "outputs": [
    {
     "name": "stdout",
     "output_type": "stream",
     "text": [
      "Accuracy = 0.9666666666666667\n"
     ]
    }
   ],
   "source": [
    "y_hat = predict(x_test, W, b)\n",
    "\n",
    "y_hat = y_hat.numpy().argmax(axis=1)\n",
    "\n",
    "acc = (y_hat == y_test.numpy().argmax(axis=1)).mean()\n",
    "\n",
    "print(f'Accuracy = {acc}')"
   ],
   "metadata": {
    "collapsed": false,
    "ExecuteTime": {
     "end_time": "2023-08-23T10:44:20.445722739Z",
     "start_time": "2023-08-23T10:44:20.432343525Z"
    }
   },
   "id": "48a750820fb9de29"
  },
  {
   "cell_type": "code",
   "execution_count": 252,
   "outputs": [
    {
     "data": {
      "text/plain": "[<matplotlib.lines.Line2D at 0x7fb398b48a60>]"
     },
     "execution_count": 252,
     "metadata": {},
     "output_type": "execute_result"
    },
    {
     "data": {
      "text/plain": "<Figure size 640x480 with 1 Axes>",
      "image/png": "[encoded data removed]"
     },
     "metadata": {},
     "output_type": "display_data"
    }
   ],
   "source": [
    "import matplotlib.pyplot as plt\n",
    "\n",
    "plt.plot(loss_his)"
   ],
   "metadata": {
    "collapsed": false,
    "ExecuteTime": {
     "end_time": "2023-08-23T10:44:20.554419556Z",
     "start_time": "2023-08-23T10:44:20.451487848Z"
    }
   },
   "id": "8f886518643c7502"
  }
 ],
 "metadata": {
  "kernelspec": {
   "display_name": "Python 3",
   "language": "python",
   "name": "python3"
  },
  "language_info": {
   "codemirror_mode": {
    "name": "ipython",
    "version": 2
   },
   "file_extension": ".py",
   "mimetype": "text/x-python",
   "name": "python",
   "nbconvert_exporter": "python",
   "pygments_lexer": "ipython2",
   "version": "2.7.6"
  }
 },
 "nbformat": 4,
 "nbformat_minor": 5
}
