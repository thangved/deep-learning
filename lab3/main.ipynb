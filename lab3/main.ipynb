{
 "cells": [
  {
   "cell_type": "markdown",
   "id": "c8acc986a3f3826a",
   "metadata": {
    "collapsed": false
   },
   "source": [
    "# Mạng nơ ron đơn tầng, đa lớp\n",
    "\n",
    "- Họ và tên: Kim Minh Thắng\n",
    "- Mã số sinh viên: B2007210\n"
   ]
  },
  {
   "cell_type": "markdown",
   "id": "18c069192a46738f",
   "metadata": {
    "collapsed": false
   },
   "source": [
    "## 1. Thực hành 1\n",
    "\n",
    "Tổng hợp các mã lệnh được trình bày để xây dựng một mạng neuron đơn tầng, 3 lớp với dữ liệu huấn luyện như bên dưới.\n",
    "\n",
    "```python\n",
    "X = tf.constant([[0.0, 0],\n",
    "                [0, 1],\n",
    "                [1, 0],\n",
    "                [1, 1]])\n",
    "\n",
    "y = tf.constant([[1.0, 0, 0],\n",
    "                [0, 1, 0],\n",
    "                [0, 1, 0],\n",
    "                [1, 0, 1]])\n",
    "```"
   ]
  },
  {
   "cell_type": "markdown",
   "id": "4deaf081b4dbd438",
   "metadata": {
    "collapsed": false
   },
   "source": [
    "### 1.1. Import các gói cần thiết"
   ]
  },
  {
   "cell_type": "code",
   "execution_count": 67,
   "id": "db368b10d73f30a3",
   "metadata": {
    "collapsed": false,
    "ExecuteTime": {
     "end_time": "2023-08-23T13:57:43.984229319Z",
     "start_time": "2023-08-23T13:57:43.903018280Z"
    }
   },
   "outputs": [],
   "source": [
    "import tensorflow as tf"
   ]
  },
  {
   "cell_type": "markdown",
   "id": "674ed1e98d32588",
   "metadata": {
    "collapsed": false
   },
   "source": [
    "### 1.2. Hàm predict"
   ]
  },
  {
   "cell_type": "code",
   "execution_count": 68,
   "id": "342cce9ac0428503",
   "metadata": {
    "collapsed": false,
    "ExecuteTime": {
     "end_time": "2023-08-23T13:57:43.986944875Z",
     "start_time": "2023-08-23T13:57:43.913623031Z"
    }
   },
   "outputs": [],
   "source": [
    "@tf.function\n",
    "def predict(X, W, b):\n",
    "    return tf.nn.softmax(tf.matmul(X, W) + b)"
   ]
  },
  {
   "cell_type": "markdown",
   "id": "191c6367e38faaaa",
   "metadata": {
    "collapsed": false
   },
   "source": [
    "### 1.3. Hàm loss"
   ]
  },
  {
   "cell_type": "code",
   "execution_count": 69,
   "id": "8cdd75db5e81b27a",
   "metadata": {
    "collapsed": false,
    "ExecuteTime": {
     "end_time": "2023-08-23T13:57:44.014095963Z",
     "start_time": "2023-08-23T13:57:43.913875637Z"
    }
   },
   "outputs": [],
   "source": [
    "@tf.function\n",
    "def loss(y, yhat):\n",
    "    return -tf.reduce_mean(tf.reduce_sum(y * tf.math.log(yhat), axis=1))"
   ]
  },
  {
   "cell_type": "markdown",
   "id": "a50a08a864d45c92",
   "metadata": {
    "collapsed": false
   },
   "source": [
    "### 1.4. Khởi tạo các tham số"
   ]
  },
  {
   "cell_type": "code",
   "execution_count": 70,
   "id": "ddc2827425f32e6",
   "metadata": {
    "collapsed": false,
    "ExecuteTime": {
     "end_time": "2023-08-23T13:57:44.057913020Z",
     "start_time": "2023-08-23T13:57:43.919720384Z"
    }
   },
   "outputs": [],
   "source": [
    "X = tf.constant([[0.0, 0],\n",
    "                 [0, 1],\n",
    "                 [1, 0],\n",
    "                 [1, 1]])\n",
    "\n",
    "y = tf.constant([[1.0, 0, 0],\n",
    "                 [0, 1, 0],\n",
    "                 [0, 1, 0],\n",
    "                 [1, 0, 1]])\n",
    "W = tf.Variable(tf.random.normal((2, 3)))\n",
    "b = tf.Variable(tf.random.normal((3,)))\n",
    "\n",
    "alpha=.1"
   ]
  },
  {
   "cell_type": "markdown",
   "id": "d0a4789c12f97c10",
   "metadata": {
    "collapsed": false
   },
   "source": [
    "### 1.5. Huấn luyện mô hình"
   ]
  },
  {
   "cell_type": "code",
   "execution_count": 71,
   "id": "86f7b307f0881aa9",
   "metadata": {
    "collapsed": false,
    "ExecuteTime": {
     "end_time": "2023-08-23T13:57:45.298561970Z",
     "start_time": "2023-08-23T13:57:43.930181935Z"
    }
   },
   "outputs": [
    {
     "name": "stdout",
     "output_type": "stream",
     "text": [
      "0, loss = 2.409616231918335\n",
      "50, loss = 1.167853832244873\n",
      "100, loss = 1.1376407146453857\n",
      "150, loss = 1.124657392501831\n",
      "200, loss = 1.1156460046768188\n",
      "250, loss = 1.108886957168579\n",
      "300, loss = 1.1035057306289673\n",
      "350, loss = 1.099038004875183\n",
      "400, loss = 1.095221757888794\n",
      "450, loss = 1.0918986797332764\n"
     ]
    }
   ],
   "source": [
    "loss_his = []\n",
    "\n",
    "for it in range(500):\n",
    "    with tf.GradientTape() as tape:\n",
    "        y_hat = predict(X, W, b)\n",
    "        loss_val = loss(y, y_hat)\n",
    "        \n",
    "    loss_his.append(loss_val)        \n",
    "    \n",
    "    if it % 50 == 0:\n",
    "        print(f'{it}, loss = {loss_val}')\n",
    "    \n",
    "    dW, db = tape.gradient(loss_val, [W, b])\n",
    "    \n",
    "    W.assign_sub(alpha * dW)\n",
    "    b.assign_sub(alpha * db)"
   ]
  },
  {
   "cell_type": "code",
   "execution_count": 72,
   "id": "922293a3cd799e5e",
   "metadata": {
    "collapsed": false,
    "ExecuteTime": {
     "end_time": "2023-08-23T13:57:45.431340792Z",
     "start_time": "2023-08-23T13:57:45.304788848Z"
    }
   },
   "outputs": [
    {
     "data": {
      "text/plain": "[<matplotlib.lines.Line2D at 0x7f53892a0d60>]"
     },
     "execution_count": 72,
     "metadata": {},
     "output_type": "execute_result"
    },
    {
     "data": {
      "text/plain": "<Figure size 640x480 with 1 Axes>",
      "image/png": "[encoded data removed]"
     },
     "metadata": {},
     "output_type": "display_data"
    }
   ],
   "source": [
    "import matplotlib.pyplot as plt\n",
    "\n",
    "plt.plot(loss_his)"
   ]
  },
  {
   "cell_type": "markdown",
   "id": "aec3266e39d74ab3",
   "metadata": {
    "collapsed": false
   },
   "source": [
    "## 2. Thực hành 2\n",
    "\n",
    "Làm lại bài phân loại hoa iris (3 lớp) với Tensorflow thay vì dùng Keras\n",
    "- Cần mã hoá đầu ra mong muốn: có thể xử lý thủ công hoặc dùng công cụ\n",
    "- Sử dụng hàm lỗi Categorical Cross-Entropy\n",
    "- Cần xử lý đầu ra để tìm nhãn chính xác (sử dụng hàm argmax để tìm cột có giá trị lớn nhất)\n",
    "- Tính độ chính xác phân lớp bằng cách so sánh nhãn dự báo và nhãn mong muốn\n",
    "- Có thể dùng hàm Tensor.numpy() để lấy giá trị của\n",
    "\n",
    "Tensor về dạng numpy để hậu xử lý."
   ]
  },
  {
   "cell_type": "markdown",
   "id": "65fa8e41a1365cba",
   "metadata": {
    "collapsed": false
   },
   "source": [
    "### 2.1. Import các gói cần thiết"
   ]
  },
  {
   "cell_type": "code",
   "execution_count": 73,
   "id": "aa8857228215d529",
   "metadata": {
    "collapsed": false,
    "ExecuteTime": {
     "end_time": "2023-08-23T13:57:45.435846444Z",
     "start_time": "2023-08-23T13:57:45.432880375Z"
    }
   },
   "outputs": [],
   "source": [
    "import tensorflow as tf\n",
    "import pandas as pd\n",
    "from sklearn.preprocessing import LabelEncoder\n",
    "from sklearn.preprocessing import OneHotEncoder\n",
    "from sklearn.model_selection import train_test_split"
   ]
  },
  {
   "cell_type": "markdown",
   "id": "e01959e304a98f13",
   "metadata": {
    "collapsed": false
   },
   "source": [
    "### 2.2. Đọc dữ liệu và xử lý dữ liệu"
   ]
  },
  {
   "cell_type": "markdown",
   "id": "16d2974f3670b42f",
   "metadata": {
    "collapsed": false
   },
   "source": [
    "#### Đọc dữ liệu từ file `csv`"
   ]
  },
  {
   "cell_type": "code",
   "execution_count": 74,
   "id": "4f3c2f89b20d6c",
   "metadata": {
    "collapsed": false,
    "ExecuteTime": {
     "end_time": "2023-08-23T13:57:45.441408326Z",
     "start_time": "2023-08-23T13:57:45.437057668Z"
    }
   },
   "outputs": [],
   "source": [
    "df = pd.read_csv(\"./Iris.csv\")"
   ]
  },
  {
   "cell_type": "markdown",
   "id": "6e6947b0ce617e38",
   "metadata": {
    "collapsed": false
   },
   "source": [
    "#### Tách các cột đặc trưng và nhãn"
   ]
  },
  {
   "cell_type": "code",
   "execution_count": 75,
   "id": "bcc18da440fda174",
   "metadata": {
    "collapsed": false,
    "ExecuteTime": {
     "end_time": "2023-08-23T13:57:45.485955040Z",
     "start_time": "2023-08-23T13:57:45.443765039Z"
    }
   },
   "outputs": [],
   "source": [
    "X = df[['PetalLengthCm', 'PetalWidthCm', 'SepalLengthCm', 'SepalWidthCm']]\n",
    "y = df['Species']"
   ]
  },
  {
   "cell_type": "markdown",
   "id": "2745455dd34e3355",
   "metadata": {
    "collapsed": false
   },
   "source": [
    "Sử dụng `LabelEncoder` để mã hoá nhãn"
   ]
  },
  {
   "cell_type": "code",
   "execution_count": 76,
   "id": "3a1d3e4e4ff515e5",
   "metadata": {
    "collapsed": false,
    "ExecuteTime": {
     "end_time": "2023-08-23T13:57:45.487537662Z",
     "start_time": "2023-08-23T13:57:45.485751213Z"
    }
   },
   "outputs": [
    {
     "data": {
      "text/plain": "     0\n0    0\n1    0\n2    0\n3    0\n4    0\n..  ..\n145  2\n146  2\n147  2\n148  2\n149  2\n\n[150 rows x 1 columns]",
      "text/html": "<div>\n<style scoped>\n    .dataframe tbody tr th:only-of-type {\n        vertical-align: middle;\n    }\n\n    .dataframe tbody tr th {\n        vertical-align: top;\n    }\n\n    .dataframe thead th {\n        text-align: right;\n    }\n</style>\n<table border=\"1\" class=\"dataframe\">\n  <thead>\n    <tr style=\"text-align: right;\">\n      <th></th>\n      <th>0</th>\n    </tr>\n  </thead>\n  <tbody>\n    <tr>\n      <th>0</th>\n      <td>0</td>\n    </tr>\n    <tr>\n      <th>1</th>\n      <td>0</td>\n    </tr>\n    <tr>\n      <th>2</th>\n      <td>0</td>\n    </tr>\n    <tr>\n      <th>3</th>\n      <td>0</td>\n    </tr>\n    <tr>\n      <th>4</th>\n      <td>0</td>\n    </tr>\n    <tr>\n      <th>...</th>\n      <td>...</td>\n    </tr>\n    <tr>\n      <th>145</th>\n      <td>2</td>\n    </tr>\n    <tr>\n      <th>146</th>\n      <td>2</td>\n    </tr>\n    <tr>\n      <th>147</th>\n      <td>2</td>\n    </tr>\n    <tr>\n      <th>148</th>\n      <td>2</td>\n    </tr>\n    <tr>\n      <th>149</th>\n      <td>2</td>\n    </tr>\n  </tbody>\n</table>\n<p>150 rows × 1 columns</p>\n</div>"
     },
     "execution_count": 76,
     "metadata": {},
     "output_type": "execute_result"
    }
   ],
   "source": [
    "le = LabelEncoder()\n",
    "y = le.fit_transform(y)\n",
    "\n",
    "pd.DataFrame(y)"
   ]
  },
  {
   "cell_type": "markdown",
   "id": "86ffca077bf3f877",
   "metadata": {
    "collapsed": false
   },
   "source": [
    "Sử dụng `OneHotEncoder` để mã hoá nhãn"
   ]
  },
  {
   "cell_type": "code",
   "execution_count": 77,
   "id": "f8391d0f3f83d901",
   "metadata": {
    "collapsed": false,
    "ExecuteTime": {
     "end_time": "2023-08-23T13:57:45.490730981Z",
     "start_time": "2023-08-23T13:57:45.486121278Z"
    }
   },
   "outputs": [
    {
     "data": {
      "text/plain": "       0    1    2\n0    1.0  0.0  0.0\n1    1.0  0.0  0.0\n2    1.0  0.0  0.0\n3    1.0  0.0  0.0\n4    1.0  0.0  0.0\n..   ...  ...  ...\n145  0.0  0.0  1.0\n146  0.0  0.0  1.0\n147  0.0  0.0  1.0\n148  0.0  0.0  1.0\n149  0.0  0.0  1.0\n\n[150 rows x 3 columns]",
      "text/html": "<div>\n<style scoped>\n    .dataframe tbody tr th:only-of-type {\n        vertical-align: middle;\n    }\n\n    .dataframe tbody tr th {\n        vertical-align: top;\n    }\n\n    .dataframe thead th {\n        text-align: right;\n    }\n</style>\n<table border=\"1\" class=\"dataframe\">\n  <thead>\n    <tr style=\"text-align: right;\">\n      <th></th>\n      <th>0</th>\n      <th>1</th>\n      <th>2</th>\n    </tr>\n  </thead>\n  <tbody>\n    <tr>\n      <th>0</th>\n      <td>1.0</td>\n      <td>0.0</td>\n      <td>0.0</td>\n    </tr>\n    <tr>\n      <th>1</th>\n      <td>1.0</td>\n      <td>0.0</td>\n      <td>0.0</td>\n    </tr>\n    <tr>\n      <th>2</th>\n      <td>1.0</td>\n      <td>0.0</td>\n      <td>0.0</td>\n    </tr>\n    <tr>\n      <th>3</th>\n      <td>1.0</td>\n      <td>0.0</td>\n      <td>0.0</td>\n    </tr>\n    <tr>\n      <th>4</th>\n      <td>1.0</td>\n      <td>0.0</td>\n      <td>0.0</td>\n    </tr>\n    <tr>\n      <th>...</th>\n      <td>...</td>\n      <td>...</td>\n      <td>...</td>\n    </tr>\n    <tr>\n      <th>145</th>\n      <td>0.0</td>\n      <td>0.0</td>\n      <td>1.0</td>\n    </tr>\n    <tr>\n      <th>146</th>\n      <td>0.0</td>\n      <td>0.0</td>\n      <td>1.0</td>\n    </tr>\n    <tr>\n      <th>147</th>\n      <td>0.0</td>\n      <td>0.0</td>\n      <td>1.0</td>\n    </tr>\n    <tr>\n      <th>148</th>\n      <td>0.0</td>\n      <td>0.0</td>\n      <td>1.0</td>\n    </tr>\n    <tr>\n      <th>149</th>\n      <td>0.0</td>\n      <td>0.0</td>\n      <td>1.0</td>\n    </tr>\n  </tbody>\n</table>\n<p>150 rows × 3 columns</p>\n</div>"
     },
     "execution_count": 77,
     "metadata": {},
     "output_type": "execute_result"
    }
   ],
   "source": [
    "y = y.reshape(-1, 1)\n",
    "one = OneHotEncoder()\n",
    "\n",
    "y = one.fit_transform(y).toarray()\n",
    "\n",
    "pd.DataFrame(y)"
   ]
  },
  {
   "cell_type": "markdown",
   "id": "e0c64bfff36d344e",
   "metadata": {
    "collapsed": false
   },
   "source": [
    "#### Chia dữ liệu thành 2 tập train và test"
   ]
  },
  {
   "cell_type": "code",
   "execution_count": 78,
   "id": "2dcd2a9592facea",
   "metadata": {
    "collapsed": false,
    "ExecuteTime": {
     "end_time": "2023-08-23T13:57:45.491205594Z",
     "start_time": "2023-08-23T13:57:45.486239979Z"
    }
   },
   "outputs": [],
   "source": [
    "x_train, x_test, y_train, y_test = train_test_split(X, y, test_size=0.2)\n",
    "\n",
    "x_train = tf.constant(x_train.values, dtype=tf.float32)\n",
    "x_test = tf.constant(x_test.values, dtype=tf.float32)\n",
    "y_train = tf.constant(y_train, dtype=tf.float32)\n",
    "y_test = tf.constant(y_test, dtype=tf.float32)"
   ]
  },
  {
   "cell_type": "markdown",
   "id": "4725a4bfd341b6c9",
   "metadata": {
    "collapsed": false
   },
   "source": [
    "### 2.3. Hàm predict    "
   ]
  },
  {
   "cell_type": "code",
   "execution_count": 79,
   "id": "eb85a762b964f2a5",
   "metadata": {
    "collapsed": false,
    "ExecuteTime": {
     "end_time": "2023-08-23T13:57:45.574527391Z",
     "start_time": "2023-08-23T13:57:45.486304592Z"
    }
   },
   "outputs": [],
   "source": [
    "@tf.function\n",
    "def predict(X, W, b):\n",
    "    return tf.nn.softmax(tf.matmul(X, W) + b)"
   ]
  },
  {
   "cell_type": "markdown",
   "id": "3fb017926ca8fa01",
   "metadata": {
    "collapsed": false
   },
   "source": [
    "### 2.4. Hàm loss"
   ]
  },
  {
   "cell_type": "code",
   "execution_count": 80,
   "id": "fe6becbcfb56f660",
   "metadata": {
    "collapsed": false,
    "ExecuteTime": {
     "end_time": "2023-08-23T13:57:45.574957366Z",
     "start_time": "2023-08-23T13:57:45.533893614Z"
    }
   },
   "outputs": [],
   "source": [
    "@tf.function\n",
    "def loss(y, yhat):\n",
    "    return -tf.reduce_mean(tf.reduce_sum(y * tf.math.log(yhat), axis=1))"
   ]
  },
  {
   "cell_type": "markdown",
   "id": "7cfad5891cf954b0",
   "metadata": {
    "collapsed": false
   },
   "source": [
    "### 2.5. Huấn luyện mô hình"
   ]
  },
  {
   "cell_type": "code",
   "execution_count": 81,
   "id": "4db84ab81e5fa73",
   "metadata": {
    "collapsed": false,
    "ExecuteTime": {
     "end_time": "2023-08-23T13:57:45.575273810Z",
     "start_time": "2023-08-23T13:57:45.534087517Z"
    }
   },
   "outputs": [],
   "source": [
    "W = tf.Variable(tf.random.normal((4, 3)))\n",
    "b = tf.Variable(tf.random.normal((3,)))\n",
    "alpha = .1"
   ]
  },
  {
   "cell_type": "code",
   "execution_count": 82,
   "id": "d24737c059054435",
   "metadata": {
    "collapsed": false,
    "ExecuteTime": {
     "end_time": "2023-08-23T13:57:46.701530142Z",
     "start_time": "2023-08-23T13:57:45.534181060Z"
    }
   },
   "outputs": [
    {
     "name": "stdout",
     "output_type": "stream",
     "text": [
      "0, loss = 7.582356929779053\n",
      "50, loss = 0.6580315232276917\n",
      "100, loss = 0.5113102197647095\n",
      "150, loss = 0.3898243010044098\n",
      "200, loss = 0.2828531563282013\n",
      "250, loss = 0.24543118476867676\n",
      "300, loss = 0.2250976264476776\n",
      "350, loss = 0.20894291996955872\n",
      "400, loss = 0.19576714932918549\n",
      "450, loss = 0.1847989708185196\n"
     ]
    }
   ],
   "source": [
    "loss_his = []\n",
    "\n",
    "for it in range(500):\n",
    "    with tf.GradientTape() as tape:\n",
    "        y_hat = predict(x_train, W, b)\n",
    "        loss_val = loss(y_train, y_hat)\n",
    "        \n",
    "    loss_his.append(loss_val)        \n",
    "    \n",
    "    if it % 50 == 0:\n",
    "        print(f'{it}, loss = {loss_val}')\n",
    "    \n",
    "    dW, db = tape.gradient(loss_val, [W, b])\n",
    "    \n",
    "    W.assign_sub(alpha * dW)\n",
    "    b.assign_sub(alpha * db)"
   ]
  },
  {
   "cell_type": "markdown",
   "id": "494a9dacc8419fb3",
   "metadata": {
    "collapsed": false
   },
   "source": [
    "### 2.6. Đánh giá mô hình"
   ]
  },
  {
   "cell_type": "code",
   "execution_count": 83,
   "id": "48a750820fb9de29",
   "metadata": {
    "collapsed": false,
    "ExecuteTime": {
     "end_time": "2023-08-23T13:57:46.748845286Z",
     "start_time": "2023-08-23T13:57:46.705349036Z"
    }
   },
   "outputs": [
    {
     "name": "stdout",
     "output_type": "stream",
     "text": [
      "Accuracy = 0.9666666666666667\n"
     ]
    }
   ],
   "source": [
    "y_hat = predict(x_test, W, b)\n",
    "\n",
    "y_hat = y_hat.numpy().argmax(axis=1)\n",
    "\n",
    "acc = (y_hat == y_test.numpy().argmax(axis=1)).mean()\n",
    "\n",
    "print(f'Accuracy = {acc}')"
   ]
  },
  {
   "cell_type": "code",
   "execution_count": 84,
   "id": "8f886518643c7502",
   "metadata": {
    "collapsed": false,
    "ExecuteTime": {
     "end_time": "2023-08-23T13:57:46.894116400Z",
     "start_time": "2023-08-23T13:57:46.735080191Z"
    }
   },
   "outputs": [
    {
     "data": {
      "text/plain": "[<matplotlib.lines.Line2D at 0x7f538a14c760>]"
     },
     "execution_count": 84,
     "metadata": {},
     "output_type": "execute_result"
    },
    {
     "data": {
      "text/plain": "<Figure size 640x480 with 1 Axes>",
      "image/png": "[encoded data removed]"
     },
     "metadata": {},
     "output_type": "display_data"
    }
   ],
   "source": [
    "import matplotlib.pyplot as plt\n",
    "\n",
    "plt.plot(loss_his)"
   ]
  }
 ],
 "metadata": {
  "kernelspec": {
   "display_name": "Python 3 (ipykernel)",
   "language": "python",
   "name": "python3"
  },
  "language_info": {
   "codemirror_mode": {
    "name": "ipython",
    "version": 3
   },
   "file_extension": ".py",
   "mimetype": "text/x-python",
   "name": "python",
   "nbconvert_exporter": "python",
   "pygments_lexer": "ipython3",
   "version": "3.10.12"
  }
 },
 "nbformat": 4,
 "nbformat_minor": 5
}
