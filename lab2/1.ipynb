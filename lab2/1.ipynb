{
 "cells": [
  {
   "cell_type": "markdown",
   "id": "58b0df68e575bb55",
   "metadata": {
    "collapsed": false
   },
   "source": [
    "# Mạng nơ ron đơn tầng, 2 lớp (Tensorflow): thực hành 1, 2, 3 slides 3\n",
    "\n",
    "* Họ tên: Kim Minh Thắng\n",
    "* Mã số sinh viên: B2007210"
   ]
  },
  {
   "cell_type": "markdown",
   "id": "aac9bec54b42aec",
   "metadata": {
    "collapsed": false
   },
   "source": [
    "## Thực hành 1"
   ]
  },
  {
   "cell_type": "markdown",
   "id": "520da2cf77cd03af",
   "metadata": {
    "collapsed": false
   },
   "source": [
    "### 1.1 Import tensorflow"
   ]
  },
  {
   "cell_type": "code",
   "execution_count": 65,
   "id": "133f5e4ab4e9719f",
   "metadata": {
    "collapsed": false,
    "ExecuteTime": {
     "end_time": "2023-08-19T08:08:58.816876393Z",
     "start_time": "2023-08-19T08:08:58.721964876Z"
    }
   },
   "outputs": [],
   "source": [
    "import tensorflow as tf "
   ]
  },
  {
   "cell_type": "markdown",
   "id": "5ea001ed79802185",
   "metadata": {
    "collapsed": false
   },
   "source": [
    "### 1.2 Đồ thị tính toán\n",
    "\n",
    "```mermaid\n",
    "flowchart BT\n",
    "    X((X)) --> matmul((matmul))\n",
    "    W((W)) --> matmul\n",
    "    matmul --> +((+))\n",
    "    b((b)) --> +\n",
    "    + --> sigmoid((sigmoid))\n",
    "    sigmoid --> y((y_hat))\n",
    "```"
   ]
  },
  {
   "cell_type": "code",
   "execution_count": 66,
   "id": "58cdbf5c1bc371d3",
   "metadata": {
    "collapsed": false,
    "ExecuteTime": {
     "end_time": "2023-08-19T08:08:58.832311061Z",
     "start_time": "2023-08-19T08:08:58.731439077Z"
    }
   },
   "outputs": [],
   "source": [
    "@tf.function\n",
    "def predict(X, W, b):\n",
    "    return tf.sigmoid(tf.matmul(X, W) + b)"
   ]
  },
  {
   "cell_type": "markdown",
   "id": "19a8e72c07400af5",
   "metadata": {
    "collapsed": false
   },
   "source": [
    "### 1.3 Hàm lỗi\n",
    "\n",
    "```mermaid\n",
    "flowchart BT\n",
    "    y_hat((y_hat)) --> sub\n",
    "    y((y)) --> sub((\"-\"))\n",
    "    sub --> square((^2))\n",
    "    square --> reduce_mean((reduce_mean))\n",
    "    reduce_mean --> L((L))\n",
    "```"
   ]
  },
  {
   "cell_type": "code",
   "execution_count": 67,
   "id": "95b9ab162b8cfec0",
   "metadata": {
    "collapsed": false,
    "ExecuteTime": {
     "end_time": "2023-08-19T08:08:58.837608737Z",
     "start_time": "2023-08-19T08:08:58.732955379Z"
    }
   },
   "outputs": [],
   "source": [
    "@tf.function\n",
    "def loss(y, y_hat):\n",
    "    return tf.reduce_mean((y - y_hat)**2)"
   ]
  },
  {
   "cell_type": "markdown",
   "id": "630596b47f05ea48",
   "metadata": {
    "collapsed": false
   },
   "source": [
    "### 1.4 Tính đạo hàm riêng tự động với `GradientTape`"
   ]
  },
  {
   "cell_type": "code",
   "execution_count": 68,
   "id": "9fbd195cfdba9e3a",
   "metadata": {
    "collapsed": false,
    "ExecuteTime": {
     "end_time": "2023-08-19T08:08:58.954192753Z",
     "start_time": "2023-08-19T08:08:58.736272301Z"
    }
   },
   "outputs": [],
   "source": [
    "X = tf.constant([[0.0, 0], [0, 1], [1, 0], [1, 1]])\n",
    "y = tf.constant([[0.0], [0], [0], [1]])\n",
    "W = tf.Variable(tf.random.normal((2, 1)))\n",
    "b = tf.Variable(tf.random.normal(()))\n",
    "\n",
    "alpha = 0.1"
   ]
  },
  {
   "cell_type": "code",
   "execution_count": 69,
   "id": "cfce14109da41207",
   "metadata": {
    "collapsed": false,
    "ExecuteTime": {
     "end_time": "2023-08-19T08:08:59.729198047Z",
     "start_time": "2023-08-19T08:08:58.744947779Z"
    }
   },
   "outputs": [],
   "source": [
    "loss_his = []\n",
    "\n",
    "for it in range(500):\n",
    "    with tf.GradientTape() as tape:\n",
    "        current_loss = loss(y, predict(X, W, b))\n",
    "    \n",
    "    loss_his.append(current_loss)\n",
    "    \n",
    "    dW, db = tape.gradient(current_loss, [W, b])\n",
    "    W.assign_sub(alpha * dW)\n",
    "    b.assign_sub(alpha * db)"
   ]
  },
  {
   "cell_type": "markdown",
   "id": "724173970dd098c8",
   "metadata": {
    "collapsed": false
   },
   "source": [
    "### 1.5 Dự đoán"
   ]
  },
  {
   "cell_type": "code",
   "execution_count": 70,
   "id": "fdae1b15521c867",
   "metadata": {
    "collapsed": false,
    "ExecuteTime": {
     "end_time": "2023-08-19T08:08:59.769890284Z",
     "start_time": "2023-08-19T08:08:59.769402980Z"
    }
   },
   "outputs": [
    {
     "data": {
      "text/plain": "<tf.Tensor: shape=(4, 1), dtype=float32, numpy=\narray([[0.19804282],\n       [0.02177161],\n       [0.0694706 ],\n       [0.00668346]], dtype=float32)>"
     },
     "execution_count": 70,
     "metadata": {},
     "output_type": "execute_result"
    }
   ],
   "source": [
    "y_hat = predict(X, W, b)\n",
    "y_hat"
   ]
  },
  {
   "cell_type": "code",
   "execution_count": 71,
   "id": "aaf13dd6e88aa553",
   "metadata": {
    "collapsed": false,
    "ExecuteTime": {
     "end_time": "2023-08-19T08:08:59.881756736Z",
     "start_time": "2023-08-19T08:08:59.769605253Z"
    }
   },
   "outputs": [
    {
     "data": {
      "text/plain": "[<matplotlib.lines.Line2D at 0x7f106fc3cb80>]"
     },
     "execution_count": 71,
     "metadata": {},
     "output_type": "execute_result"
    },
    {
     "data": {
      "text/plain": "<Figure size 640x480 with 1 Axes>",
      "image/png": "[encoded data removed]"
     },
     "metadata": {},
     "output_type": "display_data"
    }
   ],
   "source": [
    "import matplotlib.pyplot as plt\n",
    "\n",
    "plt.plot(loss_his)"
   ]
  },
  {
   "cell_type": "markdown",
   "id": "8cd2f68f2b7a61e0",
   "metadata": {
    "collapsed": false
   },
   "source": [
    "## Thực hành 2\n",
    "\n",
    "- Làm lại bài thực hành 1 với hàm lỗi `binary crossentropy` được định nghĩa như sau:\n",
    "\n",
    "    $\n",
    "\\begin{aligned}\n",
    "\\text{L}(y, \\hat{y}) = -\\frac{1}{m}\\sum_{i=1}^{m}y_i\\log(\\hat{y}_i) + (1-y_i)\\log(1-\\hat{y}_i)\n",
    "\\end{aligned}\n",
    "    $\n"
   ]
  },
  {
   "cell_type": "markdown",
   "id": "b9d9af13e5e3ef6a",
   "metadata": {
    "collapsed": false
   },
   "source": [
    "### 2.1 Import tensorflow"
   ]
  },
  {
   "cell_type": "code",
   "execution_count": 72,
   "id": "976ec967a8f509d5",
   "metadata": {
    "collapsed": false,
    "ExecuteTime": {
     "end_time": "2023-08-19T08:08:59.882046189Z",
     "start_time": "2023-08-19T08:08:59.881505981Z"
    }
   },
   "outputs": [],
   "source": [
    "import tensorflow as tf"
   ]
  },
  {
   "cell_type": "markdown",
   "id": "f02aabd0d68ff77e",
   "metadata": {
    "collapsed": false
   },
   "source": [
    "### 2.2 Đồ thị tính toán\n",
    "\n",
    "```mermaid\n",
    "flowchart BT\n",
    "    X((X)) --> matmul((matmul))\n",
    "    W((W)) --> matmul\n",
    "    matmul --> +((+))\n",
    "    b((b)) --> +\n",
    "    + --> sigmoid((sigmoid))\n",
    "    sigmoid --> y((y_hat))\n",
    "```"
   ]
  },
  {
   "cell_type": "code",
   "execution_count": 73,
   "id": "7027324730a9d5ab",
   "metadata": {
    "collapsed": false,
    "ExecuteTime": {
     "end_time": "2023-08-19T08:08:59.882166737Z",
     "start_time": "2023-08-19T08:08:59.881652527Z"
    }
   },
   "outputs": [],
   "source": [
    "@tf.function\n",
    "def predict(X, W, b):\n",
    "    return tf.sigmoid(tf.matmul(X, W) + b)"
   ]
  },
  {
   "cell_type": "markdown",
   "id": "c042a503ee0e502e",
   "metadata": {
    "collapsed": false
   },
   "source": [
    "### 2.3 Hàm lỗi\n",
    "\n",
    "$\n",
    "\\begin{aligned}\n",
    "\\text{L}(y, \\hat{y}) = -\\frac{1}{m}\\sum_{i=1}^{m}y_i\\log(\\hat{y}_i) + (1-y_i)\\log(1-\\hat{y}_i)\n",
    "\\end{aligned}\n",
    "$"
   ]
  },
  {
   "cell_type": "code",
   "execution_count": 74,
   "id": "120a46b7bd4ad600",
   "metadata": {
    "collapsed": false,
    "ExecuteTime": {
     "end_time": "2023-08-19T08:08:59.882272741Z",
     "start_time": "2023-08-19T08:08:59.881709065Z"
    }
   },
   "outputs": [],
   "source": [
    "@tf.function\n",
    "def loss(y, y_hat):\n",
    "    return - tf.reduce_sum(y * tf.math.log(y_hat) + (1 - y) * tf.math.log(1 - y_hat))"
   ]
  },
  {
   "cell_type": "markdown",
   "id": "65d749e737bd0016",
   "metadata": {
    "collapsed": false
   },
   "source": [
    "### 2.4 Tính đạo hàm riêng tự động với `GradientTape`"
   ]
  },
  {
   "cell_type": "code",
   "execution_count": 75,
   "id": "248c1464a0a17efa",
   "metadata": {
    "collapsed": false,
    "ExecuteTime": {
     "end_time": "2023-08-19T08:08:59.883656533Z",
     "start_time": "2023-08-19T08:08:59.881907336Z"
    }
   },
   "outputs": [],
   "source": [
    "X = tf.constant([[0.0, 0], [0, 1], [1, 0], [1, 1]])\n",
    "y = tf.constant([[0.0], [0], [0], [1]])\n",
    "W = tf.Variable(tf.random.normal((2, 1)))\n",
    "b = tf.Variable(tf.random.normal(()))\n",
    "\n",
    "alpha = 0.1"
   ]
  },
  {
   "cell_type": "code",
   "execution_count": 76,
   "id": "fb4925218ffa1df4",
   "metadata": {
    "collapsed": false,
    "ExecuteTime": {
     "end_time": "2023-08-19T08:09:00.785894943Z",
     "start_time": "2023-08-19T08:08:59.881968572Z"
    }
   },
   "outputs": [],
   "source": [
    "loss_his = []\n",
    "for it in range(500):\n",
    "    with tf.GradientTape() as tape:\n",
    "        current_loss = loss(y, predict(X, W, b))\n",
    "    \n",
    "    loss_his.append(current_loss)\n",
    "    \n",
    "    dW, db = tape.gradient(current_loss, [W, b])\n",
    "    W.assign_sub(alpha * dW)\n",
    "    b.assign_sub(alpha * db)"
   ]
  },
  {
   "cell_type": "markdown",
   "id": "d5a04290e50e9e66",
   "metadata": {
    "collapsed": false
   },
   "source": [
    "### 2.5 Dự đoán"
   ]
  },
  {
   "cell_type": "code",
   "execution_count": 77,
   "id": "1bddee9d02dfae1e",
   "metadata": {
    "collapsed": false,
    "ExecuteTime": {
     "end_time": "2023-08-19T08:09:00.797140205Z",
     "start_time": "2023-08-19T08:09:00.786998366Z"
    }
   },
   "outputs": [
    {
     "data": {
      "text/plain": "<tf.Tensor: shape=(4, 1), dtype=float32, numpy=\narray([[0.00133216],\n       [0.08831336],\n       [0.08836398],\n       [0.8756035 ]], dtype=float32)>"
     },
     "execution_count": 77,
     "metadata": {},
     "output_type": "execute_result"
    }
   ],
   "source": [
    "y_hat = predict(X, W, b)\n",
    "y_hat"
   ]
  },
  {
   "cell_type": "code",
   "execution_count": 78,
   "id": "b4469a617c5e772",
   "metadata": {
    "collapsed": false,
    "ExecuteTime": {
     "end_time": "2023-08-19T08:09:00.920805822Z",
     "start_time": "2023-08-19T08:09:00.808094991Z"
    }
   },
   "outputs": [
    {
     "data": {
      "text/plain": "[<matplotlib.lines.Line2D at 0x7f106fe33bb0>]"
     },
     "execution_count": 78,
     "metadata": {},
     "output_type": "execute_result"
    },
    {
     "data": {
      "text/plain": "<Figure size 640x480 with 1 Axes>",
      "image/png": "[encoded data removed]"
     },
     "metadata": {},
     "output_type": "display_data"
    }
   ],
   "source": [
    "import matplotlib.pyplot as plt\n",
    "\n",
    "plt.plot(loss_his)"
   ]
  },
  {
   "cell_type": "markdown",
   "id": "e54c6af6e8677755",
   "metadata": {
    "collapsed": false
   },
   "source": [
    "## Thực hành 3\n",
    "\n",
    "Làm lại bài phân loại hoa iris (2 lớp) với tensorflow thay vì dùng keras\n",
    "- Sử dụng hàm lỗi `binary crossentropy`\n",
    "- Cần phân ngưỡng kết quả đầu ra để có nhãn chính xác\n",
    "- Tính độ chính xác phân lớp bằng cách so sánh nhãn dự báo và nhãn mong muốn\n",
    "\n",
    "Có thể dùng hàm `Tensor.numpy()` để lấy giá trị của tensor về dạng numpy để hậu xử lý."
   ]
  },
  {
   "cell_type": "markdown",
   "id": "f800b41b8cccffb6",
   "metadata": {
    "collapsed": false
   },
   "source": [
    "### Import các thư viện cần thiết"
   ]
  },
  {
   "cell_type": "code",
   "execution_count": 79,
   "id": "68adf4a2e02efb55",
   "metadata": {
    "collapsed": false,
    "ExecuteTime": {
     "end_time": "2023-08-19T08:09:00.921046822Z",
     "start_time": "2023-08-19T08:09:00.917029297Z"
    }
   },
   "outputs": [],
   "source": [
    "import tensorflow as tf\n",
    "import pandas as pd\n",
    "from sklearn.model_selection import train_test_split\n",
    "import matplotlib.pyplot as plt\n",
    "from sklearn.preprocessing import LabelEncoder\n",
    "import numpy as np"
   ]
  },
  {
   "cell_type": "markdown",
   "id": "ad0cd1eed7ae63d9",
   "metadata": {
    "collapsed": false
   },
   "source": [
    "### 3.1 Đọc và dữ liệu"
   ]
  },
  {
   "cell_type": "code",
   "execution_count": 80,
   "id": "f4ea0a29d45350f8",
   "metadata": {
    "collapsed": false,
    "ExecuteTime": {
     "end_time": "2023-08-19T08:09:00.967125013Z",
     "start_time": "2023-08-19T08:09:00.919382633Z"
    }
   },
   "outputs": [],
   "source": [
    "df = pd.read_csv('./Iris.csv')\n",
    "df = df.head(100)"
   ]
  },
  {
   "cell_type": "code",
   "execution_count": 81,
   "id": "509ddbc6ddda7b5b",
   "metadata": {
    "collapsed": false,
    "ExecuteTime": {
     "end_time": "2023-08-19T08:09:00.967867689Z",
     "start_time": "2023-08-19T08:09:00.965531242Z"
    }
   },
   "outputs": [
    {
     "data": {
      "text/plain": "    SepalLengthCm  SepalWidthCm  PetalLengthCm  PetalWidthCm\n0             5.1           3.5            1.4           0.2\n1             4.9           3.0            1.4           0.2\n2             4.7           3.2            1.3           0.2\n3             4.6           3.1            1.5           0.2\n4             5.0           3.6            1.4           0.2\n..            ...           ...            ...           ...\n95            5.7           3.0            4.2           1.2\n96            5.7           2.9            4.2           1.3\n97            6.2           2.9            4.3           1.3\n98            5.1           2.5            3.0           1.1\n99            5.7           2.8            4.1           1.3\n\n[100 rows x 4 columns]",
      "text/html": "<div>\n<style scoped>\n    .dataframe tbody tr th:only-of-type {\n        vertical-align: middle;\n    }\n\n    .dataframe tbody tr th {\n        vertical-align: top;\n    }\n\n    .dataframe thead th {\n        text-align: right;\n    }\n</style>\n<table border=\"1\" class=\"dataframe\">\n  <thead>\n    <tr style=\"text-align: right;\">\n      <th></th>\n      <th>SepalLengthCm</th>\n      <th>SepalWidthCm</th>\n      <th>PetalLengthCm</th>\n      <th>PetalWidthCm</th>\n    </tr>\n  </thead>\n  <tbody>\n    <tr>\n      <th>0</th>\n      <td>5.1</td>\n      <td>3.5</td>\n      <td>1.4</td>\n      <td>0.2</td>\n    </tr>\n    <tr>\n      <th>1</th>\n      <td>4.9</td>\n      <td>3.0</td>\n      <td>1.4</td>\n      <td>0.2</td>\n    </tr>\n    <tr>\n      <th>2</th>\n      <td>4.7</td>\n      <td>3.2</td>\n      <td>1.3</td>\n      <td>0.2</td>\n    </tr>\n    <tr>\n      <th>3</th>\n      <td>4.6</td>\n      <td>3.1</td>\n      <td>1.5</td>\n      <td>0.2</td>\n    </tr>\n    <tr>\n      <th>4</th>\n      <td>5.0</td>\n      <td>3.6</td>\n      <td>1.4</td>\n      <td>0.2</td>\n    </tr>\n    <tr>\n      <th>...</th>\n      <td>...</td>\n      <td>...</td>\n      <td>...</td>\n      <td>...</td>\n    </tr>\n    <tr>\n      <th>95</th>\n      <td>5.7</td>\n      <td>3.0</td>\n      <td>4.2</td>\n      <td>1.2</td>\n    </tr>\n    <tr>\n      <th>96</th>\n      <td>5.7</td>\n      <td>2.9</td>\n      <td>4.2</td>\n      <td>1.3</td>\n    </tr>\n    <tr>\n      <th>97</th>\n      <td>6.2</td>\n      <td>2.9</td>\n      <td>4.3</td>\n      <td>1.3</td>\n    </tr>\n    <tr>\n      <th>98</th>\n      <td>5.1</td>\n      <td>2.5</td>\n      <td>3.0</td>\n      <td>1.1</td>\n    </tr>\n    <tr>\n      <th>99</th>\n      <td>5.7</td>\n      <td>2.8</td>\n      <td>4.1</td>\n      <td>1.3</td>\n    </tr>\n  </tbody>\n</table>\n<p>100 rows × 4 columns</p>\n</div>"
     },
     "execution_count": 81,
     "metadata": {},
     "output_type": "execute_result"
    }
   ],
   "source": [
    "X = df[['SepalLengthCm', 'SepalWidthCm', 'PetalLengthCm', 'PetalWidthCm']]\n",
    "X"
   ]
  },
  {
   "cell_type": "code",
   "execution_count": 82,
   "id": "71d8de920578df3",
   "metadata": {
    "collapsed": false,
    "ExecuteTime": {
     "end_time": "2023-08-19T08:09:00.968344495Z",
     "start_time": "2023-08-19T08:09:00.965674437Z"
    }
   },
   "outputs": [
    {
     "data": {
      "text/plain": "    0\n0   0\n1   0\n2   0\n3   0\n4   0\n.. ..\n95  1\n96  1\n97  1\n98  1\n99  1\n\n[100 rows x 1 columns]",
      "text/html": "<div>\n<style scoped>\n    .dataframe tbody tr th:only-of-type {\n        vertical-align: middle;\n    }\n\n    .dataframe tbody tr th {\n        vertical-align: top;\n    }\n\n    .dataframe thead th {\n        text-align: right;\n    }\n</style>\n<table border=\"1\" class=\"dataframe\">\n  <thead>\n    <tr style=\"text-align: right;\">\n      <th></th>\n      <th>0</th>\n    </tr>\n  </thead>\n  <tbody>\n    <tr>\n      <th>0</th>\n      <td>0</td>\n    </tr>\n    <tr>\n      <th>1</th>\n      <td>0</td>\n    </tr>\n    <tr>\n      <th>2</th>\n      <td>0</td>\n    </tr>\n    <tr>\n      <th>3</th>\n      <td>0</td>\n    </tr>\n    <tr>\n      <th>4</th>\n      <td>0</td>\n    </tr>\n    <tr>\n      <th>...</th>\n      <td>...</td>\n    </tr>\n    <tr>\n      <th>95</th>\n      <td>1</td>\n    </tr>\n    <tr>\n      <th>96</th>\n      <td>1</td>\n    </tr>\n    <tr>\n      <th>97</th>\n      <td>1</td>\n    </tr>\n    <tr>\n      <th>98</th>\n      <td>1</td>\n    </tr>\n    <tr>\n      <th>99</th>\n      <td>1</td>\n    </tr>\n  </tbody>\n</table>\n<p>100 rows × 1 columns</p>\n</div>"
     },
     "execution_count": 82,
     "metadata": {},
     "output_type": "execute_result"
    }
   ],
   "source": [
    "le = LabelEncoder()\n",
    "\n",
    "y = df['Species'].values\n",
    "\n",
    "le.fit(y)\n",
    "\n",
    "y = le.transform(y)\n",
    "\n",
    "pd.DataFrame(y)"
   ]
  },
  {
   "cell_type": "code",
   "execution_count": 83,
   "id": "a3818d4c06971e8a",
   "metadata": {
    "collapsed": false,
    "ExecuteTime": {
     "end_time": "2023-08-19T08:09:00.968478600Z",
     "start_time": "2023-08-19T08:09:00.965719943Z"
    }
   },
   "outputs": [],
   "source": [
    "x_train, x_test, y_train, y_test = train_test_split(X, y, test_size=0.2)"
   ]
  },
  {
   "cell_type": "code",
   "execution_count": 84,
   "id": "e2e70184517a7c16",
   "metadata": {
    "collapsed": false,
    "ExecuteTime": {
     "end_time": "2023-08-19T08:09:00.968543718Z",
     "start_time": "2023-08-19T08:09:00.965751986Z"
    }
   },
   "outputs": [],
   "source": [
    "x_train = tf.convert_to_tensor(x_train, dtype=tf.float32)\n",
    "x_test = tf.convert_to_tensor(x_test, dtype=tf.float32)\n",
    "y_train = tf.constant(y_train, dtype=tf.float32)\n",
    "y_test = tf.constant(y_test, dtype=tf.float32)"
   ]
  },
  {
   "cell_type": "markdown",
   "id": "653965442ee786f0",
   "metadata": {
    "collapsed": false
   },
   "source": [
    "### 3.2 Định nghĩa hàm dự đoán"
   ]
  },
  {
   "cell_type": "code",
   "execution_count": 85,
   "id": "9c3ebf0d14e1e4cc",
   "metadata": {
    "collapsed": false,
    "ExecuteTime": {
     "end_time": "2023-08-19T08:09:00.968602050Z",
     "start_time": "2023-08-19T08:09:00.965827177Z"
    }
   },
   "outputs": [],
   "source": [
    "@tf.function\n",
    "def predict(X, W, b):\n",
    "    return tf.sigmoid(tf.matmul(X, W) + b)"
   ]
  },
  {
   "cell_type": "markdown",
   "id": "decb67e730e15480",
   "metadata": {
    "collapsed": false
   },
   "source": [
    "### 3.3 Định nghĩa hàm lỗi (binary crossentropy)"
   ]
  },
  {
   "cell_type": "code",
   "execution_count": 86,
   "id": "fc0a45433df4f4d1",
   "metadata": {
    "collapsed": false,
    "ExecuteTime": {
     "end_time": "2023-08-19T08:09:00.968657225Z",
     "start_time": "2023-08-19T08:09:00.965860484Z"
    }
   },
   "outputs": [],
   "source": [
    "@tf.function\n",
    "def loss(y, y_hat):\n",
    "    return - tf.reduce_mean(y * tf.math.log(y_hat) + (1 - y) * tf.math.log(1 - y_hat))"
   ]
  },
  {
   "cell_type": "markdown",
   "id": "28c4e362d81d76d",
   "metadata": {
    "collapsed": false
   },
   "source": [
    "### 3.4 Train model"
   ]
  },
  {
   "cell_type": "code",
   "execution_count": 87,
   "id": "308347489ff7cb5c",
   "metadata": {
    "collapsed": false,
    "ExecuteTime": {
     "end_time": "2023-08-19T08:09:01.091885357Z",
     "start_time": "2023-08-19T08:09:00.965890663Z"
    }
   },
   "outputs": [],
   "source": [
    "W = tf.Variable(tf.random.normal((4, 1)))\n",
    "b = tf.Variable(tf.random.normal(()))\n",
    "alpha = 0.1"
   ]
  },
  {
   "cell_type": "code",
   "execution_count": 88,
   "id": "26e31dcef8404d55",
   "metadata": {
    "collapsed": false,
    "ExecuteTime": {
     "end_time": "2023-08-19T08:09:02.307598621Z",
     "start_time": "2023-08-19T08:09:01.009416515Z"
    }
   },
   "outputs": [],
   "source": [
    "loss_his = []\n",
    "\n",
    "for it in range(500):\n",
    "    with tf.GradientTape() as tape:\n",
    "        current_loss = loss(y_train, predict(x_train, W, b))\n",
    "    \n",
    "    loss_his.append(current_loss)\n",
    "    \n",
    "    dW, db = tape.gradient(current_loss, [W, b])\n",
    "    \n",
    "    W.assign_sub(alpha * dW)\n",
    "    b.assign_sub(alpha * db)"
   ]
  },
  {
   "cell_type": "markdown",
   "id": "d8fad402e68d32af",
   "metadata": {
    "collapsed": false
   },
   "source": [
    "### 3.5 Dự đoán"
   ]
  },
  {
   "cell_type": "code",
   "execution_count": 89,
   "id": "2dc3309dbcc108ea",
   "metadata": {
    "collapsed": false,
    "ExecuteTime": {
     "end_time": "2023-08-19T08:09:02.353832940Z",
     "start_time": "2023-08-19T08:09:02.310557880Z"
    }
   },
   "outputs": [
    {
     "name": "stdout",
     "output_type": "stream",
     "text": [
      "Loss: 50.0%\n"
     ]
    }
   ],
   "source": [
    "y_hat = predict(x_test, W, b)\n",
    "\n",
    "y_hat = y_hat.numpy()\n",
    "\n",
    "y_hat = [1 if i >= 0.5 else 0 for i in y_hat]\n",
    "\n",
    "y_hat = tf.convert_to_tensor(y_hat, dtype=tf.float32)\n",
    "\n",
    "print(f'Loss: {abs(y_hat - y_test).numpy().sum() / len(y_test) * 100}%')"
   ]
  },
  {
   "cell_type": "code",
   "execution_count": 90,
   "id": "d7b4b7ea329acc9c",
   "metadata": {
    "collapsed": false,
    "ExecuteTime": {
     "end_time": "2023-08-19T08:09:02.471823274Z",
     "start_time": "2023-08-19T08:09:02.353499044Z"
    }
   },
   "outputs": [
    {
     "data": {
      "text/plain": "[<matplotlib.lines.Line2D at 0x7f106fc3f100>]"
     },
     "execution_count": 90,
     "metadata": {},
     "output_type": "execute_result"
    },
    {
     "data": {
      "text/plain": "<Figure size 640x480 with 1 Axes>",
      "image/png": "[encoded data removed]"
     },
     "metadata": {},
     "output_type": "display_data"
    }
   ],
   "source": [
    "plt.plot(loss_his)"
   ]
  }
 ],
 "metadata": {
  "kernelspec": {
   "display_name": "Python 3 (ipykernel)",
   "language": "python",
   "name": "python3"
  },
  "language_info": {
   "codemirror_mode": {
    "name": "ipython",
    "version": 3
   },
   "file_extension": ".py",
   "mimetype": "text/x-python",
   "name": "python",
   "nbconvert_exporter": "python",
   "pygments_lexer": "ipython3",
   "version": "3.10.12"
  }
 },
 "nbformat": 4,
 "nbformat_minor": 5
}
