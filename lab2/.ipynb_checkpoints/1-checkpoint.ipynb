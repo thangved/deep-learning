{
 "cells": [
  {
   "cell_type": "markdown",
   "id": "58b0df68e575bb55",
   "metadata": {
    "collapsed": false
   },
   "source": [
    "# Mạng nơ ron đơn tầng, 2 lớp (Tensorflow): thực hành 1, 2, 3 slides 3\n",
    "\n",
    "* Họ tên: Kim Minh Thắng\n",
    "* Mã số sinh viên: B2007210"
   ]
  },
  {
   "cell_type": "markdown",
   "id": "aac9bec54b42aec",
   "metadata": {
    "collapsed": false
   },
   "source": [
    "## Thực hành 1"
   ]
  },
  {
   "cell_type": "markdown",
   "id": "520da2cf77cd03af",
   "metadata": {
    "collapsed": false
   },
   "source": [
    "### 1.1 Import tensorflow"
   ]
  },
  {
   "cell_type": "code",
   "execution_count": 3,
   "id": "133f5e4ab4e9719f",
   "metadata": {
    "collapsed": false,
    "ExecuteTime": {
     "end_time": "2023-08-19T07:58:36.951597799Z",
     "start_time": "2023-08-19T07:58:36.877002325Z"
    }
   },
   "outputs": [],
   "source": [
    "import tensorflow as tf "
   ]
  },
  {
   "cell_type": "markdown",
   "id": "5ea001ed79802185",
   "metadata": {
    "collapsed": false
   },
   "source": [
    "### 1.2 Đồ thị tính toán\n",
    "\n",
    "```mermaid\n",
    "flowchart BT\n",
    "    X((X)) --> matmul((matmul))\n",
    "    W((W)) --> matmul\n",
    "    matmul --> +((+))\n",
    "    b((b)) --> +\n",
    "    + --> sigmoid((sigmoid))\n",
    "    sigmoid --> y((y_hat))\n",
    "```"
   ]
  },
  {
   "cell_type": "code",
   "execution_count": 4,
   "id": "58cdbf5c1bc371d3",
   "metadata": {
    "collapsed": false,
    "ExecuteTime": {
     "end_time": "2023-08-19T07:58:36.962814252Z",
     "start_time": "2023-08-19T07:58:36.880849231Z"
    }
   },
   "outputs": [],
   "source": [
    "@tf.function\n",
    "def predict(X, W, b):\n",
    "    return tf.sigmoid(tf.matmul(X, W) + b)"
   ]
  },
  {
   "cell_type": "markdown",
   "id": "19a8e72c07400af5",
   "metadata": {
    "collapsed": false
   },
   "source": [
    "### 1.3 Hàm lỗi\n",
    "\n",
    "```mermaid\n",
    "flowchart BT\n",
    "    y_hat((y_hat)) --> sub\n",
    "    y((y)) --> sub((\"-\"))\n",
    "    sub --> square((^2))\n",
    "    square --> reduce_mean((reduce_mean))\n",
    "    reduce_mean --> L((L))\n",
    "```"
   ]
  },
  {
   "cell_type": "code",
   "execution_count": 5,
   "id": "95b9ab162b8cfec0",
   "metadata": {
    "collapsed": false,
    "ExecuteTime": {
     "end_time": "2023-08-19T07:58:36.970686660Z",
     "start_time": "2023-08-19T07:58:36.884821311Z"
    }
   },
   "outputs": [],
   "source": [
    "@tf.function\n",
    "def loss(y, y_hat):\n",
    "    return tf.reduce_mean((y - y_hat)**2)"
   ]
  },
  {
   "cell_type": "markdown",
   "id": "630596b47f05ea48",
   "metadata": {
    "collapsed": false
   },
   "source": [
    "### 1.4 Tính đạo hàm riêng tự động với `GradientTape`"
   ]
  },
  {
   "cell_type": "code",
   "execution_count": 6,
   "id": "9fbd195cfdba9e3a",
   "metadata": {
    "collapsed": false,
    "ExecuteTime": {
     "end_time": "2023-08-19T07:58:42.264465043Z",
     "start_time": "2023-08-19T07:58:36.889365661Z"
    }
   },
   "outputs": [
    {
     "name": "stderr",
     "output_type": "stream",
     "text": [
      "2023-08-19 14:58:42.219592: E tensorflow/compiler/xla/stream_executor/cuda/cuda_driver.cc:268] failed call to cuInit: CUDA_ERROR_NO_DEVICE: no CUDA-capable device is detected\n"
     ]
    }
   ],
   "source": [
    "X = tf.constant([[0.0, 0], [0, 1], [1, 0], [1, 1]])\n",
    "y = tf.constant([[0.0], [0], [0], [1]])\n",
    "W = tf.Variable(tf.random.normal((2, 1)))\n",
    "b = tf.Variable(tf.random.normal(()))\n",
    "\n",
    "alpha = 0.1"
   ]
  },
  {
   "cell_type": "code",
   "execution_count": 7,
   "id": "cfce14109da41207",
   "metadata": {
    "collapsed": false,
    "ExecuteTime": {
     "end_time": "2023-08-19T07:58:42.979998116Z",
     "start_time": "2023-08-19T07:58:42.267775366Z"
    }
   },
   "outputs": [],
   "source": [
    "loss_his = []\n",
    "\n",
    "for it in range(500):\n",
    "    with tf.GradientTape() as tape:\n",
    "        current_loss = loss(y, predict(X, W, b))\n",
    "    \n",
    "    loss_his.append(current_loss)\n",
    "    \n",
    "    dW, db = tape.gradient(current_loss, [W, b])\n",
    "    W.assign_sub(alpha * dW)\n",
    "    b.assign_sub(alpha * db)"
   ]
  },
  {
   "cell_type": "markdown",
   "id": "724173970dd098c8",
   "metadata": {
    "collapsed": false
   },
   "source": [
    "### 1.5 Dự đoán"
   ]
  },
  {
   "cell_type": "code",
   "execution_count": 8,
   "id": "fdae1b15521c867",
   "metadata": {
    "collapsed": false,
    "ExecuteTime": {
     "end_time": "2023-08-19T07:58:43.007902993Z",
     "start_time": "2023-08-19T07:58:42.982179457Z"
    }
   },
   "outputs": [
    {
     "data": {
      "text/plain": "<tf.Tensor: shape=(4, 1), dtype=float32, numpy=\narray([[0.2341937],\n       [0.2933551],\n       [0.3812251],\n       [0.4554398]], dtype=float32)>"
     },
     "execution_count": 8,
     "metadata": {},
     "output_type": "execute_result"
    }
   ],
   "source": [
    "y_hat = predict(X, W, b)\n",
    "y_hat"
   ]
  },
  {
   "cell_type": "code",
   "execution_count": 9,
   "outputs": [
    {
     "data": {
      "text/plain": "[<matplotlib.lines.Line2D at 0x7f1088ea3fd0>]"
     },
     "execution_count": 9,
     "metadata": {},
     "output_type": "execute_result"
    },
    {
     "data": {
      "text/plain": "<Figure size 640x480 with 1 Axes>",
      "image/png": "[encoded data removed]"
     },
     "metadata": {},
     "output_type": "display_data"
    }
   ],
   "source": [
    "import matplotlib.pyplot as plt\n",
    "\n",
    "plt.plot(loss_his)"
   ],
   "metadata": {
    "collapsed": false,
    "ExecuteTime": {
     "end_time": "2023-08-19T07:58:43.343806598Z",
     "start_time": "2023-08-19T07:58:42.993939159Z"
    }
   },
   "id": "aaf13dd6e88aa553"
  },
  {
   "cell_type": "markdown",
   "id": "8cd2f68f2b7a61e0",
   "metadata": {
    "collapsed": false
   },
   "source": [
    "## Thực hành 2\n",
    "\n",
    "- Làm lại bài thực hành 1 với hàm lỗi `binary crossentropy` được định nghĩa như sau:\n",
    "\n",
    "    $\n",
    "\\begin{aligned}\n",
    "\\text{L}(y, \\hat{y}) = -\\frac{1}{m}\\sum_{i=1}^{m}y_i\\log(\\hat{y}_i) + (1-y_i)\\log(1-\\hat{y}_i)\n",
    "\\end{aligned}\n",
    "    $\n"
   ]
  },
  {
   "cell_type": "markdown",
   "id": "b9d9af13e5e3ef6a",
   "metadata": {
    "collapsed": false
   },
   "source": [
    "### 2.1 Import tensorflow"
   ]
  },
  {
   "cell_type": "code",
   "execution_count": 10,
   "id": "976ec967a8f509d5",
   "metadata": {
    "collapsed": false,
    "ExecuteTime": {
     "end_time": "2023-08-19T07:58:43.373669275Z",
     "start_time": "2023-08-19T07:58:43.344719940Z"
    }
   },
   "outputs": [],
   "source": [
    "import tensorflow as tf"
   ]
  },
  {
   "cell_type": "markdown",
   "source": [
    "### 2.2 Đồ thị tính toán\n",
    "\n",
    "```mermaid\n",
    "flowchart BT\n",
    "    X((X)) --> matmul((matmul))\n",
    "    W((W)) --> matmul\n",
    "    matmul --> +((+))\n",
    "    b((b)) --> +\n",
    "    + --> sigmoid((sigmoid))\n",
    "    sigmoid --> y((y_hat))\n",
    "```"
   ],
   "metadata": {
    "collapsed": false
   },
   "id": "f02aabd0d68ff77e"
  },
  {
   "cell_type": "code",
   "execution_count": 11,
   "outputs": [],
   "source": [
    "@tf.function\n",
    "def predict(X, W, b):\n",
    "    return tf.sigmoid(tf.matmul(X, W) + b)"
   ],
   "metadata": {
    "collapsed": false,
    "ExecuteTime": {
     "end_time": "2023-08-19T07:58:43.374033294Z",
     "start_time": "2023-08-19T07:58:43.348203964Z"
    }
   },
   "id": "7027324730a9d5ab"
  },
  {
   "cell_type": "markdown",
   "source": [
    "### 2.3 Hàm lỗi\n",
    "\n",
    "$\n",
    "\\begin{aligned}\n",
    "\\text{L}(y, \\hat{y}) = -\\frac{1}{m}\\sum_{i=1}^{m}y_i\\log(\\hat{y}_i) + (1-y_i)\\log(1-\\hat{y}_i)\n",
    "\\end{aligned}\n",
    "$"
   ],
   "metadata": {
    "collapsed": false
   },
   "id": "c042a503ee0e502e"
  },
  {
   "cell_type": "code",
   "execution_count": 12,
   "outputs": [],
   "source": [
    "@tf.function\n",
    "def loss(y, y_hat):\n",
    "    return - tf.reduce_sum(y * tf.math.log(y_hat) + (1 - y) * tf.math.log(1 - y_hat))"
   ],
   "metadata": {
    "collapsed": false,
    "ExecuteTime": {
     "end_time": "2023-08-19T07:58:43.426635606Z",
     "start_time": "2023-08-19T07:58:43.356806526Z"
    }
   },
   "id": "120a46b7bd4ad600"
  },
  {
   "cell_type": "markdown",
   "source": [
    "### 2.4 Tính đạo hàm riêng tự động với `GradientTape`"
   ],
   "metadata": {
    "collapsed": false
   },
   "id": "65d749e737bd0016"
  },
  {
   "cell_type": "code",
   "execution_count": 13,
   "outputs": [],
   "source": [
    "X = tf.constant([[0.0, 0], [0, 1], [1, 0], [1, 1]])\n",
    "y = tf.constant([[0.0], [0], [0], [1]])\n",
    "W = tf.Variable(tf.random.normal((2, 1)))\n",
    "b = tf.Variable(tf.random.normal(()))\n",
    "\n",
    "alpha = 0.1"
   ],
   "metadata": {
    "collapsed": false,
    "ExecuteTime": {
     "end_time": "2023-08-19T07:58:43.426883472Z",
     "start_time": "2023-08-19T07:58:43.401422499Z"
    }
   },
   "id": "248c1464a0a17efa"
  },
  {
   "cell_type": "code",
   "execution_count": 14,
   "outputs": [],
   "source": [
    "loss_his = []\n",
    "for it in range(500):\n",
    "    with tf.GradientTape() as tape:\n",
    "        current_loss = loss(y, predict(X, W, b))\n",
    "    \n",
    "    loss_his.append(current_loss)\n",
    "    \n",
    "    dW, db = tape.gradient(current_loss, [W, b])\n",
    "    W.assign_sub(alpha * dW)\n",
    "    b.assign_sub(alpha * db)"
   ],
   "metadata": {
    "collapsed": false,
    "ExecuteTime": {
     "end_time": "2023-08-19T07:58:44.100808414Z",
     "start_time": "2023-08-19T07:58:43.401530030Z"
    }
   },
   "id": "fb4925218ffa1df4"
  },
  {
   "cell_type": "markdown",
   "source": [
    "### 2.5 Dự đoán"
   ],
   "metadata": {
    "collapsed": false
   },
   "id": "d5a04290e50e9e66"
  },
  {
   "cell_type": "code",
   "execution_count": 15,
   "outputs": [
    {
     "data": {
      "text/plain": "<tf.Tensor: shape=(4, 1), dtype=float32, numpy=\narray([[0.00152381],\n       [0.09207626],\n       [0.09182634],\n       [0.87044924]], dtype=float32)>"
     },
     "execution_count": 15,
     "metadata": {},
     "output_type": "execute_result"
    }
   ],
   "source": [
    "y_hat = predict(X, W, b)\n",
    "y_hat"
   ],
   "metadata": {
    "collapsed": false,
    "ExecuteTime": {
     "end_time": "2023-08-19T07:58:44.109652691Z",
     "start_time": "2023-08-19T07:58:44.102011522Z"
    }
   },
   "id": "1bddee9d02dfae1e"
  },
  {
   "cell_type": "code",
   "execution_count": 16,
   "outputs": [
    {
     "data": {
      "text/plain": "[<matplotlib.lines.Line2D at 0x7f1088da51b0>]"
     },
     "execution_count": 16,
     "metadata": {},
     "output_type": "execute_result"
    },
    {
     "data": {
      "text/plain": "<Figure size 640x480 with 1 Axes>",
      "image/png": "[encoded data removed]"
     },
     "metadata": {},
     "output_type": "display_data"
    }
   ],
   "source": [
    "import matplotlib.pyplot as plt\n",
    "\n",
    "plt.plot(loss_his)"
   ],
   "metadata": {
    "collapsed": false,
    "ExecuteTime": {
     "end_time": "2023-08-19T07:58:44.214073836Z",
     "start_time": "2023-08-19T07:58:44.119129810Z"
    }
   },
   "id": "b4469a617c5e772"
  },
  {
   "cell_type": "markdown",
   "id": "e54c6af6e8677755",
   "metadata": {
    "collapsed": false
   },
   "source": [
    "## Thực hành 3\n",
    "\n",
    "Làm lại bài phân loại hoa iris (2 lớp) với tensorflow thay vì dùng keras\n",
    "- Sử dụng hàm lỗi `binary crossentropy`\n",
    "- Cần phân ngưỡng kết quả đầu ra để có nhãn chính xác\n",
    "- Tính độ chính xác phân lớp bằng cách so sánh nhãn dự báo và nhãn mong muốn\n",
    "\n",
    "Có thể dùng hàm `Tensor.numpy()` để lấy giá trị của tensor về dạng numpy để hậu xử lý."
   ]
  },
  {
   "cell_type": "markdown",
   "source": [
    "### Import các thư viện cần thiết"
   ],
   "metadata": {
    "collapsed": false
   },
   "id": "f800b41b8cccffb6"
  },
  {
   "cell_type": "code",
   "execution_count": 17,
   "outputs": [],
   "source": [
    "import tensorflow as tf\n",
    "import pandas as pd\n",
    "from sklearn.model_selection import train_test_split\n",
    "import matplotlib.pyplot as plt\n",
    "from sklearn.preprocessing import LabelEncoder\n",
    "import numpy as np"
   ],
   "metadata": {
    "collapsed": false,
    "ExecuteTime": {
     "end_time": "2023-08-19T07:58:44.553021902Z",
     "start_time": "2023-08-19T07:58:44.213728974Z"
    }
   },
   "id": "68adf4a2e02efb55"
  },
  {
   "cell_type": "markdown",
   "source": [
    "### 3.1 Đọc và dữ liệu"
   ],
   "metadata": {
    "collapsed": false
   },
   "id": "ad0cd1eed7ae63d9"
  },
  {
   "cell_type": "code",
   "execution_count": 18,
   "outputs": [],
   "source": [
    "df = pd.read_csv('./Iris.csv')\n",
    "df = df.head(100)"
   ],
   "metadata": {
    "collapsed": false,
    "ExecuteTime": {
     "end_time": "2023-08-19T07:58:44.594623728Z",
     "start_time": "2023-08-19T07:58:44.544371956Z"
    }
   },
   "id": "f4ea0a29d45350f8"
  },
  {
   "cell_type": "code",
   "execution_count": 19,
   "outputs": [
    {
     "data": {
      "text/plain": "array([[5.1, 3.5, 1.4, 0.2],\n       [4.9, 3. , 1.4, 0.2],\n       [4.7, 3.2, 1.3, 0.2],\n       [4.6, 3.1, 1.5, 0.2],\n       [5. , 3.6, 1.4, 0.2],\n       [5.4, 3.9, 1.7, 0.4],\n       [4.6, 3.4, 1.4, 0.3],\n       [5. , 3.4, 1.5, 0.2],\n       [4.4, 2.9, 1.4, 0.2],\n       [4.9, 3.1, 1.5, 0.1],\n       [5.4, 3.7, 1.5, 0.2],\n       [4.8, 3.4, 1.6, 0.2],\n       [4.8, 3. , 1.4, 0.1],\n       [4.3, 3. , 1.1, 0.1],\n       [5.8, 4. , 1.2, 0.2],\n       [5.7, 4.4, 1.5, 0.4],\n       [5.4, 3.9, 1.3, 0.4],\n       [5.1, 3.5, 1.4, 0.3],\n       [5.7, 3.8, 1.7, 0.3],\n       [5.1, 3.8, 1.5, 0.3],\n       [5.4, 3.4, 1.7, 0.2],\n       [5.1, 3.7, 1.5, 0.4],\n       [4.6, 3.6, 1. , 0.2],\n       [5.1, 3.3, 1.7, 0.5],\n       [4.8, 3.4, 1.9, 0.2],\n       [5. , 3. , 1.6, 0.2],\n       [5. , 3.4, 1.6, 0.4],\n       [5.2, 3.5, 1.5, 0.2],\n       [5.2, 3.4, 1.4, 0.2],\n       [4.7, 3.2, 1.6, 0.2],\n       [4.8, 3.1, 1.6, 0.2],\n       [5.4, 3.4, 1.5, 0.4],\n       [5.2, 4.1, 1.5, 0.1],\n       [5.5, 4.2, 1.4, 0.2],\n       [4.9, 3.1, 1.5, 0.1],\n       [5. , 3.2, 1.2, 0.2],\n       [5.5, 3.5, 1.3, 0.2],\n       [4.9, 3.1, 1.5, 0.1],\n       [4.4, 3. , 1.3, 0.2],\n       [5.1, 3.4, 1.5, 0.2],\n       [5. , 3.5, 1.3, 0.3],\n       [4.5, 2.3, 1.3, 0.3],\n       [4.4, 3.2, 1.3, 0.2],\n       [5. , 3.5, 1.6, 0.6],\n       [5.1, 3.8, 1.9, 0.4],\n       [4.8, 3. , 1.4, 0.3],\n       [5.1, 3.8, 1.6, 0.2],\n       [4.6, 3.2, 1.4, 0.2],\n       [5.3, 3.7, 1.5, 0.2],\n       [5. , 3.3, 1.4, 0.2],\n       [7. , 3.2, 4.7, 1.4],\n       [6.4, 3.2, 4.5, 1.5],\n       [6.9, 3.1, 4.9, 1.5],\n       [5.5, 2.3, 4. , 1.3],\n       [6.5, 2.8, 4.6, 1.5],\n       [5.7, 2.8, 4.5, 1.3],\n       [6.3, 3.3, 4.7, 1.6],\n       [4.9, 2.4, 3.3, 1. ],\n       [6.6, 2.9, 4.6, 1.3],\n       [5.2, 2.7, 3.9, 1.4],\n       [5. , 2. , 3.5, 1. ],\n       [5.9, 3. , 4.2, 1.5],\n       [6. , 2.2, 4. , 1. ],\n       [6.1, 2.9, 4.7, 1.4],\n       [5.6, 2.9, 3.6, 1.3],\n       [6.7, 3.1, 4.4, 1.4],\n       [5.6, 3. , 4.5, 1.5],\n       [5.8, 2.7, 4.1, 1. ],\n       [6.2, 2.2, 4.5, 1.5],\n       [5.6, 2.5, 3.9, 1.1],\n       [5.9, 3.2, 4.8, 1.8],\n       [6.1, 2.8, 4. , 1.3],\n       [6.3, 2.5, 4.9, 1.5],\n       [6.1, 2.8, 4.7, 1.2],\n       [6.4, 2.9, 4.3, 1.3],\n       [6.6, 3. , 4.4, 1.4],\n       [6.8, 2.8, 4.8, 1.4],\n       [6.7, 3. , 5. , 1.7],\n       [6. , 2.9, 4.5, 1.5],\n       [5.7, 2.6, 3.5, 1. ],\n       [5.5, 2.4, 3.8, 1.1],\n       [5.5, 2.4, 3.7, 1. ],\n       [5.8, 2.7, 3.9, 1.2],\n       [6. , 2.7, 5.1, 1.6],\n       [5.4, 3. , 4.5, 1.5],\n       [6. , 3.4, 4.5, 1.6],\n       [6.7, 3.1, 4.7, 1.5],\n       [6.3, 2.3, 4.4, 1.3],\n       [5.6, 3. , 4.1, 1.3],\n       [5.5, 2.5, 4. , 1.3],\n       [5.5, 2.6, 4.4, 1.2],\n       [6.1, 3. , 4.6, 1.4],\n       [5.8, 2.6, 4. , 1.2],\n       [5. , 2.3, 3.3, 1. ],\n       [5.6, 2.7, 4.2, 1.3],\n       [5.7, 3. , 4.2, 1.2],\n       [5.7, 2.9, 4.2, 1.3],\n       [6.2, 2.9, 4.3, 1.3],\n       [5.1, 2.5, 3. , 1.1],\n       [5.7, 2.8, 4.1, 1.3]])"
     },
     "execution_count": 19,
     "metadata": {},
     "output_type": "execute_result"
    }
   ],
   "source": [
    "X = df[['SepalLengthCm', 'SepalWidthCm', 'PetalLengthCm', 'PetalWidthCm']].values\n",
    "X"
   ],
   "metadata": {
    "collapsed": false,
    "ExecuteTime": {
     "end_time": "2023-08-19T07:58:44.595245289Z",
     "start_time": "2023-08-19T07:58:44.585585546Z"
    }
   },
   "id": "509ddbc6ddda7b5b"
  },
  {
   "cell_type": "code",
   "execution_count": 20,
   "outputs": [
    {
     "data": {
      "text/plain": "    0\n0   0\n1   0\n2   0\n3   0\n4   0\n.. ..\n95  1\n96  1\n97  1\n98  1\n99  1\n\n[100 rows x 1 columns]",
      "text/html": "<div>\n<style scoped>\n    .dataframe tbody tr th:only-of-type {\n        vertical-align: middle;\n    }\n\n    .dataframe tbody tr th {\n        vertical-align: top;\n    }\n\n    .dataframe thead th {\n        text-align: right;\n    }\n</style>\n<table border=\"1\" class=\"dataframe\">\n  <thead>\n    <tr style=\"text-align: right;\">\n      <th></th>\n      <th>0</th>\n    </tr>\n  </thead>\n  <tbody>\n    <tr>\n      <th>0</th>\n      <td>0</td>\n    </tr>\n    <tr>\n      <th>1</th>\n      <td>0</td>\n    </tr>\n    <tr>\n      <th>2</th>\n      <td>0</td>\n    </tr>\n    <tr>\n      <th>3</th>\n      <td>0</td>\n    </tr>\n    <tr>\n      <th>4</th>\n      <td>0</td>\n    </tr>\n    <tr>\n      <th>...</th>\n      <td>...</td>\n    </tr>\n    <tr>\n      <th>95</th>\n      <td>1</td>\n    </tr>\n    <tr>\n      <th>96</th>\n      <td>1</td>\n    </tr>\n    <tr>\n      <th>97</th>\n      <td>1</td>\n    </tr>\n    <tr>\n      <th>98</th>\n      <td>1</td>\n    </tr>\n    <tr>\n      <th>99</th>\n      <td>1</td>\n    </tr>\n  </tbody>\n</table>\n<p>100 rows × 1 columns</p>\n</div>"
     },
     "execution_count": 20,
     "metadata": {},
     "output_type": "execute_result"
    }
   ],
   "source": [
    "le = LabelEncoder()\n",
    "\n",
    "y = df['Species'].values\n",
    "\n",
    "le.fit(y)\n",
    "\n",
    "y = le.transform(y)\n",
    "\n",
    "pd.DataFrame(y)"
   ],
   "metadata": {
    "collapsed": false,
    "ExecuteTime": {
     "end_time": "2023-08-19T07:58:44.595812118Z",
     "start_time": "2023-08-19T07:58:44.585741659Z"
    }
   },
   "id": "71d8de920578df3"
  },
  {
   "cell_type": "code",
   "execution_count": 21,
   "outputs": [],
   "source": [
    "x_train, x_test, y_train, y_test = train_test_split(X, y, test_size=0.2)"
   ],
   "metadata": {
    "collapsed": false,
    "ExecuteTime": {
     "end_time": "2023-08-19T07:58:44.595938783Z",
     "start_time": "2023-08-19T07:58:44.585799701Z"
    }
   },
   "id": "a3818d4c06971e8a"
  },
  {
   "cell_type": "code",
   "execution_count": 22,
   "outputs": [],
   "source": [
    "x_train = tf.convert_to_tensor(x_train, dtype=tf.float32)\n",
    "x_test = tf.convert_to_tensor(x_test, dtype=tf.float32)\n",
    "y_train = tf.constant(y_train, dtype=tf.float32)\n",
    "y_test = tf.constant(y_test, dtype=tf.float32)"
   ],
   "metadata": {
    "collapsed": false,
    "ExecuteTime": {
     "end_time": "2023-08-19T07:58:44.596009765Z",
     "start_time": "2023-08-19T07:58:44.585843624Z"
    }
   },
   "id": "e2e70184517a7c16"
  },
  {
   "cell_type": "markdown",
   "source": [
    "### 3.2 Định nghĩa hàm dự đoán"
   ],
   "metadata": {
    "collapsed": false
   },
   "id": "653965442ee786f0"
  },
  {
   "cell_type": "code",
   "execution_count": 23,
   "outputs": [],
   "source": [
    "@tf.function\n",
    "def predict(X, W, b):\n",
    "    return tf.sigmoid(tf.matmul(X, W) + b)"
   ],
   "metadata": {
    "collapsed": false,
    "ExecuteTime": {
     "end_time": "2023-08-19T07:58:44.596070124Z",
     "start_time": "2023-08-19T07:58:44.586032233Z"
    }
   },
   "id": "9c3ebf0d14e1e4cc"
  },
  {
   "cell_type": "markdown",
   "source": [
    "### 3.3 Định nghĩa hàm lỗi (binary crossentropy)"
   ],
   "metadata": {
    "collapsed": false
   },
   "id": "decb67e730e15480"
  },
  {
   "cell_type": "code",
   "execution_count": 24,
   "outputs": [],
   "source": [
    "@tf.function\n",
    "def loss(y, y_hat):\n",
    "    return - tf.reduce_mean(y * tf.math.log(y_hat) + (1 - y) * tf.math.log(1 - y_hat))"
   ],
   "metadata": {
    "collapsed": false,
    "ExecuteTime": {
     "end_time": "2023-08-19T07:58:44.596123196Z",
     "start_time": "2023-08-19T07:58:44.586118610Z"
    }
   },
   "id": "fc0a45433df4f4d1"
  },
  {
   "cell_type": "markdown",
   "source": [
    "### 3.4 Train model"
   ],
   "metadata": {
    "collapsed": false
   },
   "id": "28c4e362d81d76d"
  },
  {
   "cell_type": "code",
   "execution_count": 25,
   "outputs": [],
   "source": [
    "W = tf.Variable(tf.random.normal((4, 1)))\n",
    "b = tf.Variable(tf.random.normal(()))\n",
    "alpha = 0.1"
   ],
   "metadata": {
    "collapsed": false,
    "ExecuteTime": {
     "end_time": "2023-08-19T07:58:44.653448948Z",
     "start_time": "2023-08-19T07:58:44.586184641Z"
    }
   },
   "id": "308347489ff7cb5c"
  },
  {
   "cell_type": "code",
   "execution_count": 26,
   "outputs": [],
   "source": [
    "loss_his = []\n",
    "\n",
    "for it in range(500):\n",
    "    with tf.GradientTape() as tape:\n",
    "        current_loss = loss(y_train, predict(x_train, W, b))\n",
    "    \n",
    "    loss_his.append(current_loss)\n",
    "    \n",
    "    dW, db = tape.gradient(current_loss, [W, b])\n",
    "    \n",
    "    W.assign_sub(alpha * dW)\n",
    "    b.assign_sub(alpha * db)"
   ],
   "metadata": {
    "collapsed": false,
    "ExecuteTime": {
     "end_time": "2023-08-19T07:58:45.744322829Z",
     "start_time": "2023-08-19T07:58:44.629462125Z"
    }
   },
   "id": "26e31dcef8404d55"
  },
  {
   "cell_type": "markdown",
   "source": [
    "### 3.5 Dự đoán"
   ],
   "metadata": {
    "collapsed": false
   },
   "id": "d8fad402e68d32af"
  },
  {
   "cell_type": "code",
   "execution_count": 27,
   "outputs": [
    {
     "name": "stdout",
     "output_type": "stream",
     "text": [
      "Loss: 55.00000000000001%\n"
     ]
    }
   ],
   "source": [
    "y_hat = predict(x_test, W, b)\n",
    "\n",
    "y_hat = y_hat.numpy()\n",
    "\n",
    "y_hat = [1 if i >= 0.5 else 0 for i in y_hat]\n",
    "\n",
    "y_hat = tf.convert_to_tensor(y_hat, dtype=tf.float32)\n",
    "\n",
    "print(f'Loss: {abs(y_hat - y_test).numpy().sum() / len(y_test) * 100}%')"
   ],
   "metadata": {
    "collapsed": false,
    "ExecuteTime": {
     "end_time": "2023-08-19T07:58:45.790325092Z",
     "start_time": "2023-08-19T07:58:45.746693728Z"
    }
   },
   "id": "2dc3309dbcc108ea"
  },
  {
   "cell_type": "code",
   "execution_count": 28,
   "outputs": [
    {
     "data": {
      "text/plain": "[<matplotlib.lines.Line2D at 0x7f10709c2200>]"
     },
     "execution_count": 28,
     "metadata": {},
     "output_type": "execute_result"
    },
    {
     "data": {
      "text/plain": "<Figure size 640x480 with 1 Axes>",
      "image/png": "[encoded data removed]"
     },
     "metadata": {},
     "output_type": "display_data"
    }
   ],
   "source": [
    "plt.plot(loss_his)"
   ],
   "metadata": {
    "collapsed": false,
    "ExecuteTime": {
     "end_time": "2023-08-19T07:58:45.936554948Z",
     "start_time": "2023-08-19T07:58:45.789497315Z"
    }
   },
   "id": "d7b4b7ea329acc9c"
  }
 ],
 "metadata": {
  "kernelspec": {
   "display_name": "Python 3",
   "language": "python",
   "name": "python3"
  },
  "language_info": {
   "codemirror_mode": {
    "name": "ipython",
    "version": 2
   },
   "file_extension": ".py",
   "mimetype": "text/x-python",
   "name": "python",
   "nbconvert_exporter": "python",
   "pygments_lexer": "ipython2",
   "version": "2.7.6"
  }
 },
 "nbformat": 4,
 "nbformat_minor": 5
}
