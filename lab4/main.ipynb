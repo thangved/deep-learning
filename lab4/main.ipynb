{
 "cells": [
  {
   "cell_type": "markdown",
   "id": "c76de150f609b64e",
   "metadata": {
    "collapsed": false
   },
   "source": [
    "# Mạng nơ ron đa tầng, đơn lớp, đa lớp\n",
    "\n",
    "- Họ và tên: Kim Minh Thắng\n",
    "- Mã số sinh viên: B2007210\n",
    "\n",
    "## 1. Thực hành 3\n",
    "\n",
    "Tổng hợp các mã lệnh được trình bày trong phần trên để xây dựng một mạng nơ ron perceptron đa tầng (2 tầng), 2 lớp cho bài toán XOR với dữ liệu huấn luyện như bên dưới\n",
    "\n",
    "```python\n",
    "X = tf.constant([[0.0, 0],\n",
    "                [0, 1],\n",
    "                [1, 0],\n",
    "                [1, 1]])\n",
    "y = tf.constant([[0.0, 0],\n",
    "                [0, 1],\n",
    "                [0, 1],\n",
    "                [0, 0]])\n",
    "```\n",
    "\n",
    "### 1.1 Import thư viện"
   ]
  },
  {
   "cell_type": "code",
   "execution_count": 44,
   "id": "a984c55098a00062",
   "metadata": {
    "ExecuteTime": {
     "end_time": "2023-09-06T05:05:46.545303484Z",
     "start_time": "2023-09-06T05:05:39.167628058Z"
    },
    "collapsed": false
   },
   "outputs": [],
   "source": [
    "import tensorflow as tf"
   ]
  },
  {
   "cell_type": "markdown",
   "id": "6c5aeefd794bb4e3",
   "metadata": {
    "collapsed": false
   },
   "source": [
    "### 1.2 Khai báo các layers\n",
    "\n",
    "- Layer 1: Sử dụng activation Relu\n",
    "- Layer 2: Sử dụng activation Sigmoid"
   ]
  },
  {
   "cell_type": "code",
   "execution_count": 45,
   "id": "72e1c39d971a7dce",
   "metadata": {
    "ExecuteTime": {
     "end_time": "2023-09-06T05:05:46.547296037Z",
     "start_time": "2023-09-06T05:05:46.538228689Z"
    },
    "collapsed": false
   },
   "outputs": [],
   "source": [
    "@tf.function\n",
    "def layer1(X, W, B):\n",
    "    return tf.nn.relu(tf.matmul(X, W) + B)\n",
    "\n",
    "\n",
    "@tf.function\n",
    "def layer2(X, W, B):\n",
    "    return tf.nn.sigmoid(tf.matmul(X, W) + B)"
   ]
  },
  {
   "cell_type": "markdown",
   "id": "3105add292651cf7",
   "metadata": {
    "collapsed": false
   },
   "source": [
    "### 1.3 Khai báo hàm predict"
   ]
  },
  {
   "cell_type": "code",
   "execution_count": 46,
   "id": "84ad9eaad2282e43",
   "metadata": {
    "ExecuteTime": {
     "end_time": "2023-09-06T05:05:46.564889270Z",
     "start_time": "2023-09-06T05:05:46.549557097Z"
    },
    "collapsed": false
   },
   "outputs": [],
   "source": [
    "@tf.function\n",
    "def predict(X, W1, B1, W2, B2):\n",
    "    return layer2(layer1(X, W1, B1), W2, B2)"
   ]
  },
  {
   "cell_type": "markdown",
   "id": "3ac34e8a7efa7138",
   "metadata": {
    "collapsed": false
   },
   "source": [
    "### 1.4 Khai báo hàm loss\n",
    "\n",
    "Sử dụng hàm loss là binary crossentropy"
   ]
  },
  {
   "cell_type": "code",
   "execution_count": 47,
   "id": "9702351c64da79a9",
   "metadata": {
    "ExecuteTime": {
     "end_time": "2023-09-06T05:05:46.565984535Z",
     "start_time": "2023-09-06T05:05:46.557982732Z"
    },
    "collapsed": false
   },
   "outputs": [],
   "source": [
    "@tf.function\n",
    "def loss(y_hat, y):\n",
    "    return - tf.reduce_mean(y * tf.math.log(y_hat) + (1 - y) * tf.math.log(1 - y_hat))"
   ]
  },
  {
   "cell_type": "markdown",
   "id": "710794734b3cd737",
   "metadata": {
    "collapsed": false
   },
   "source": [
    "### 1.5 Train mô hình"
   ]
  },
  {
   "cell_type": "code",
   "execution_count": 48,
   "id": "c5cd6ee81323761d",
   "metadata": {
    "ExecuteTime": {
     "end_time": "2023-09-06T05:06:52.640060529Z",
     "start_time": "2023-09-06T05:05:46.568566192Z"
    },
    "collapsed": false
   },
   "outputs": [
    {
     "name": "stdout",
     "output_type": "stream",
     "text": [
      "Epoch: 0, Loss: 1.2050633430480957\n",
      "Epoch: 100, Loss: 0.4454892873764038\n",
      "Epoch: 200, Loss: 0.33446598052978516\n",
      "Epoch: 300, Loss: 0.293564110994339\n",
      "Epoch: 400, Loss: 0.2774755656719208\n",
      "Epoch: 500, Loss: 0.26830509305000305\n",
      "Epoch: 600, Loss: 0.26249960064888\n",
      "Epoch: 700, Loss: 0.2585397958755493\n",
      "Epoch: 800, Loss: 0.2556711435317993\n",
      "Epoch: 900, Loss: 0.25351521372795105\n"
     ]
    }
   ],
   "source": [
    "x = tf.constant([[0.0, 0],\n",
    "                 [0, 1],\n",
    "                 [1, 0],\n",
    "                 [1, 1]])\n",
    "\n",
    "y = tf.constant([[0.0, 0],\n",
    "                 [0, 1],\n",
    "                 [0, 1],\n",
    "                 [0, 0]])\n",
    "\n",
    "W1 = tf.Variable(tf.random.normal((2, 2), dtype=tf.float32))\n",
    "B1 = tf.Variable(tf.random.normal((1, 2), dtype=tf.float32))\n",
    "\n",
    "W2 = tf.Variable(tf.random.normal((2, 2), dtype=tf.float32))\n",
    "B2 = tf.Variable(tf.random.normal((1, 2), dtype=tf.float32))\n",
    "\n",
    "learning_rate = 0.1\n",
    "epochs = 1000\n",
    "\n",
    "loss_history = []\n",
    "\n",
    "for epoch in range(epochs):\n",
    "    with tf.GradientTape() as tape:\n",
    "        y_hat = predict(x, W1, B1, W2, B2)\n",
    "        loss_value = loss(y_hat, y)\n",
    "        loss_history.append(loss_value)\n",
    "\n",
    "    if epoch % 100 == 0:\n",
    "        print(\"Epoch: {}, Loss: {}\".format(epoch, loss_value))\n",
    "\n",
    "    grads = tape.gradient(loss_value, [W1, B1, W2, B2])\n",
    "    W1.assign_sub(learning_rate * grads[0])\n",
    "    B1.assign_sub(learning_rate * grads[1])\n",
    "    W2.assign_sub(learning_rate * grads[2])\n",
    "    B2.assign_sub(learning_rate * grads[3])\n"
   ]
  },
  {
   "cell_type": "markdown",
   "id": "bf00220c2ffee358",
   "metadata": {
    "collapsed": false
   },
   "source": [
    "### 1.6 Vẽ đồ thị loss"
   ]
  },
  {
   "cell_type": "code",
   "execution_count": 49,
   "id": "bbdbe13e12079ce1",
   "metadata": {
    "ExecuteTime": {
     "end_time": "2023-09-06T05:06:53.459291981Z",
     "start_time": "2023-09-06T05:06:52.646300573Z"
    },
    "collapsed": false
   },
   "outputs": [
    {
     "data": {
      "text/plain": [
       "[<matplotlib.lines.Line2D at 0x7fa47cc41a50>]"
      ]
     },
     "execution_count": 49,
     "metadata": {},
     "output_type": "execute_result"
    },
    {
     "data": {
      "image/png": "[encoded data removed]",
      "text/plain": [
       "<Figure size 640x480 with 1 Axes>"
      ]
     },
     "metadata": {},
     "output_type": "display_data"
    }
   ],
   "source": [
    "import matplotlib.pyplot as plt\n",
    "\n",
    "plt.plot(loss_history)"
   ]
  },
  {
   "cell_type": "markdown",
   "id": "ea69bbae5ed11f40",
   "metadata": {
    "collapsed": false
   },
   "source": [
    "## 2. Thực hành 4\n",
    "\n",
    "Xây dựng một mạng nơ ron perceptron 2 tầng, 2 lớp. Đọc tập dữ liệu trong file data.csv, chia dữ liệu thành 2 phần 80% - 20%, dùng 80% huấn và 20% còn lại để đánh giá\n",
    "\n",
    "### 2.1 Import thư viện"
   ]
  },
  {
   "cell_type": "code",
   "execution_count": 50,
   "id": "e4e143e301ce40d2",
   "metadata": {
    "ExecuteTime": {
     "end_time": "2023-09-06T05:06:54.202205584Z",
     "start_time": "2023-09-06T05:06:53.461145568Z"
    },
    "collapsed": false
   },
   "outputs": [],
   "source": [
    "import tensorflow as tf\n",
    "import pandas as pd\n",
    "import numpy as np\n",
    "\n",
    "from sklearn.preprocessing import OneHotEncoder\n",
    "from sklearn.model_selection import train_test_split"
   ]
  },
  {
   "cell_type": "markdown",
   "id": "40874f108c342c22",
   "metadata": {
    "collapsed": false
   },
   "source": [
    "### 2.2 Đọc dữ liệu và xử lý dữ liệu"
   ]
  },
  {
   "cell_type": "code",
   "execution_count": 51,
   "id": "ca1a473b7fd50ef",
   "metadata": {
    "ExecuteTime": {
     "end_time": "2023-09-06T05:06:54.245386049Z",
     "start_time": "2023-09-06T05:06:54.204912543Z"
    },
    "collapsed": false
   },
   "outputs": [
    {
     "data": {
      "text/html": [
       "<div>\n",
       "<style scoped>\n",
       "    .dataframe tbody tr th:only-of-type {\n",
       "        vertical-align: middle;\n",
       "    }\n",
       "\n",
       "    .dataframe tbody tr th {\n",
       "        vertical-align: top;\n",
       "    }\n",
       "\n",
       "    .dataframe thead th {\n",
       "        text-align: right;\n",
       "    }\n",
       "</style>\n",
       "<table border=\"1\" class=\"dataframe\">\n",
       "  <thead>\n",
       "    <tr style=\"text-align: right;\">\n",
       "      <th></th>\n",
       "      <th>X1</th>\n",
       "      <th>X2</th>\n",
       "      <th>Classe</th>\n",
       "    </tr>\n",
       "  </thead>\n",
       "  <tbody>\n",
       "    <tr>\n",
       "      <th>0</th>\n",
       "      <td>0.204</td>\n",
       "      <td>0.834</td>\n",
       "      <td>0</td>\n",
       "    </tr>\n",
       "    <tr>\n",
       "      <th>1</th>\n",
       "      <td>0.222</td>\n",
       "      <td>0.730</td>\n",
       "      <td>0</td>\n",
       "    </tr>\n",
       "    <tr>\n",
       "      <th>2</th>\n",
       "      <td>0.298</td>\n",
       "      <td>0.822</td>\n",
       "      <td>0</td>\n",
       "    </tr>\n",
       "    <tr>\n",
       "      <th>3</th>\n",
       "      <td>0.450</td>\n",
       "      <td>0.842</td>\n",
       "      <td>0</td>\n",
       "    </tr>\n",
       "    <tr>\n",
       "      <th>4</th>\n",
       "      <td>0.412</td>\n",
       "      <td>0.732</td>\n",
       "      <td>0</td>\n",
       "    </tr>\n",
       "  </tbody>\n",
       "</table>\n",
       "</div>"
      ],
      "text/plain": [
       "      X1     X2  Classe\n",
       "0  0.204  0.834       0\n",
       "1  0.222  0.730       0\n",
       "2  0.298  0.822       0\n",
       "3  0.450  0.842       0\n",
       "4  0.412  0.732       0"
      ]
     },
     "execution_count": 51,
     "metadata": {},
     "output_type": "execute_result"
    }
   ],
   "source": [
    "df = pd.read_csv('./data.csv')\n",
    "df.head()"
   ]
  },
  {
   "cell_type": "markdown",
   "id": "b1cb7cacbc0cde77",
   "metadata": {
    "collapsed": false
   },
   "source": [
    "Tách X và Y"
   ]
  },
  {
   "cell_type": "code",
   "execution_count": 52,
   "id": "325059b71f576597",
   "metadata": {
    "ExecuteTime": {
     "end_time": "2023-09-06T05:06:54.254198357Z",
     "start_time": "2023-09-06T05:06:54.237812233Z"
    },
    "collapsed": false
   },
   "outputs": [
    {
     "data": {
      "text/plain": [
       "(23, 2)"
      ]
     },
     "execution_count": 52,
     "metadata": {},
     "output_type": "execute_result"
    }
   ],
   "source": [
    "X = df[['X1', 'X2']].values\n",
    "X.shape"
   ]
  },
  {
   "cell_type": "code",
   "execution_count": 53,
   "id": "a91cf921892a9f9c",
   "metadata": {
    "ExecuteTime": {
     "end_time": "2023-09-06T05:06:54.384643883Z",
     "start_time": "2023-09-06T05:06:54.291909387Z"
    },
    "collapsed": false
   },
   "outputs": [
    {
     "data": {
      "text/plain": [
       "(23, 1)"
      ]
     },
     "execution_count": 53,
     "metadata": {},
     "output_type": "execute_result"
    }
   ],
   "source": [
    "Y = df[['Classe']].values\n",
    "Y.shape"
   ]
  },
  {
   "cell_type": "markdown",
   "id": "6d028ea8f898d4bc",
   "metadata": {
    "collapsed": false
   },
   "source": [
    "Chuyển Y về dạng one-hot"
   ]
  },
  {
   "cell_type": "code",
   "execution_count": 54,
   "id": "8be0719c731d6a5",
   "metadata": {
    "ExecuteTime": {
     "end_time": "2023-09-06T05:06:54.386226840Z",
     "start_time": "2023-09-06T05:06:54.292755188Z"
    },
    "collapsed": false
   },
   "outputs": [
    {
     "data": {
      "text/plain": [
       "(23, 2)"
      ]
     },
     "execution_count": 54,
     "metadata": {},
     "output_type": "execute_result"
    }
   ],
   "source": [
    "one = OneHotEncoder()\n",
    "\n",
    "y_encoded = one.fit_transform(Y).toarray()\n",
    "y_encoded.shape"
   ]
  },
  {
   "cell_type": "markdown",
   "id": "e243ee1d16bb174a",
   "metadata": {
    "collapsed": false
   },
   "source": [
    "Tách dữ liệu train và test"
   ]
  },
  {
   "cell_type": "code",
   "execution_count": 55,
   "id": "9eb2d782fd3f6a4",
   "metadata": {
    "ExecuteTime": {
     "end_time": "2023-09-06T05:06:54.387210441Z",
     "start_time": "2023-09-06T05:06:54.293422813Z"
    },
    "collapsed": false
   },
   "outputs": [],
   "source": [
    "x_train, x_test, y_train, y_test = train_test_split(X, y_encoded, test_size=0.2)"
   ]
  },
  {
   "cell_type": "markdown",
   "id": "546b060846bcf1e5",
   "metadata": {
    "collapsed": false
   },
   "source": [
    "### 2.3 Khai báo các layers, hàm predict và hàm loss"
   ]
  },
  {
   "cell_type": "code",
   "execution_count": 56,
   "id": "2f66cad7c207eda3",
   "metadata": {
    "ExecuteTime": {
     "end_time": "2023-09-06T05:06:54.409259343Z",
     "start_time": "2023-09-06T05:06:54.293992694Z"
    },
    "collapsed": false
   },
   "outputs": [],
   "source": [
    "@tf.function\n",
    "def layer1(X, W, B):\n",
    "    return tf.nn.relu(tf.matmul(X, W) + B)\n",
    "\n",
    "\n",
    "@tf.function\n",
    "def layer2(X, W, B):\n",
    "    return tf.nn.sigmoid(tf.matmul(X, W) + B)\n",
    "\n",
    "\n",
    "@tf.function\n",
    "def predict(X, W1, B1, W2, B2):\n",
    "    return layer2(layer1(X, W1, B1), W2, B2)\n",
    "\n",
    "\n",
    "@tf.function\n",
    "def loss(y_hat, y):\n",
    "    return - tf.reduce_mean(y * tf.math.log(y_hat) + (1 - y) * tf.math.log(1 - y_hat))"
   ]
  },
  {
   "cell_type": "markdown",
   "id": "8f0f2b3aefbc50f6",
   "metadata": {
    "collapsed": false
   },
   "source": [
    "### 2.4 Train mô hình"
   ]
  },
  {
   "cell_type": "code",
   "execution_count": 57,
   "id": "98d9a79cbb5b4193",
   "metadata": {
    "ExecuteTime": {
     "end_time": "2023-09-06T05:07:44.806337601Z",
     "start_time": "2023-09-06T05:06:54.335873332Z"
    },
    "collapsed": false
   },
   "outputs": [
    {
     "name": "stdout",
     "output_type": "stream",
     "text": [
      "Epoch: 0, Loss: 0.8390517830848694\n",
      "Epoch: 100, Loss: 0.7276891469955444\n",
      "Epoch: 200, Loss: 0.7143039703369141\n",
      "Epoch: 300, Loss: 0.7069379687309265\n",
      "Epoch: 400, Loss: 0.7022985219955444\n",
      "Epoch: 500, Loss: 0.6991238594055176\n",
      "Epoch: 600, Loss: 0.6968280076980591\n",
      "Epoch: 700, Loss: 0.6951014995574951\n",
      "Epoch: 800, Loss: 0.6937652230262756\n",
      "Epoch: 900, Loss: 0.6927077770233154\n"
     ]
    }
   ],
   "source": [
    "x_train = tf.convert_to_tensor(x_train, dtype=tf.float32)\n",
    "y_train = tf.convert_to_tensor(y_train, dtype=tf.float32)\n",
    "\n",
    "x_test = tf.convert_to_tensor(x_test, dtype=tf.float32)\n",
    "y_test = tf.convert_to_tensor(y_test, dtype=tf.float32)\n",
    "\n",
    "W1 = tf.Variable(tf.random.normal((2, 2), dtype=tf.float32))\n",
    "B1 = tf.Variable(tf.random.normal((1, 2), dtype=tf.float32))\n",
    "\n",
    "W2 = tf.Variable(tf.random.normal((2, 2), dtype=tf.float32))\n",
    "B2 = tf.Variable(tf.random.normal((1, 2), dtype=tf.float32))\n",
    "\n",
    "learning_rate = 0.1\n",
    "epochs = 1000\n",
    "\n",
    "loss_history = []\n",
    "\n",
    "for epoch in range(epochs):\n",
    "    with tf.GradientTape() as tape:\n",
    "        y_hat = predict(x_train, W1, B1, W2, B2)\n",
    "        loss_value = loss(y_hat, y_train)\n",
    "        loss_history.append(loss_value)\n",
    "\n",
    "    if epoch % 100 == 0:\n",
    "        print(\"Epoch: {}, Loss: {}\".format(epoch, loss_value))\n",
    "\n",
    "    grads = tape.gradient(loss_value, [W1, B1, W2, B2])\n",
    "    W1.assign_sub(learning_rate * grads[0])\n",
    "    B1.assign_sub(learning_rate * grads[1])\n",
    "    W2.assign_sub(learning_rate * grads[2])\n",
    "    B2.assign_sub(learning_rate * grads[3])"
   ]
  },
  {
   "cell_type": "markdown",
   "id": "64688bdf8d5d1c3c",
   "metadata": {
    "collapsed": false
   },
   "source": [
    "### 2.5 Đánh giá mô hình"
   ]
  },
  {
   "cell_type": "code",
   "execution_count": 58,
   "id": "cd5140698900ac7b",
   "metadata": {
    "ExecuteTime": {
     "end_time": "2023-09-06T05:07:44.894246993Z",
     "start_time": "2023-09-06T05:07:44.815126495Z"
    },
    "collapsed": false
   },
   "outputs": [
    {
     "name": "stdout",
     "output_type": "stream",
     "text": [
      "Accuracy: 0.0\n"
     ]
    }
   ],
   "source": [
    "y_hat = predict(x_test, W1, B1, W2, B2)\n",
    "y_hat = np.argmax(y_hat, axis=1)\n",
    "\n",
    "y_test_decoded = np.argmax(y_test, axis=1)\n",
    "\n",
    "acc = np.mean(y_hat == y_test_decoded)\n",
    "\n",
    "print(\"Accuracy: {}\".format(acc))"
   ]
  },
  {
   "cell_type": "code",
   "execution_count": 59,
   "id": "b16e088d0c89034a",
   "metadata": {
    "ExecuteTime": {
     "end_time": "2023-09-06T05:07:45.263786558Z",
     "start_time": "2023-09-06T05:07:44.932918401Z"
    },
    "collapsed": false
   },
   "outputs": [
    {
     "data": {
      "text/plain": [
       "[<matplotlib.lines.Line2D at 0x7fa47ca5fd00>]"
      ]
     },
     "execution_count": 59,
     "metadata": {},
     "output_type": "execute_result"
    },
    {
     "data": {
      "image/png": "[encoded data removed]",
      "text/plain": [
       "<Figure size 640x480 with 1 Axes>"
      ]
     },
     "metadata": {},
     "output_type": "display_data"
    }
   ],
   "source": [
    "from matplotlib import pyplot as plt\n",
    "\n",
    "plt.plot(loss_history)"
   ]
  },
  {
   "cell_type": "markdown",
   "id": "cdbade154f5dc2fc",
   "metadata": {
    "collapsed": false
   },
   "source": [
    "## 3. Thực hành 5\n",
    "\n",
    "- Xây dựng một mạng nơ ron MLP xử lý tập dữ liệu: [https://archive.ics.uci.edu/ml/machine-learningdatabases/character-trajectories](https://archive.ics.uci.edu/ml/machine-learningdatabases/character-trajectories)\n",
    "- Chia dữ liệu thành 2 phần 80% - 20%, dùng 80% huấn và 20% còn lại để đánh giá\n",
    "\n",
    "### 3.1 Import thư viện"
   ]
  },
  {
   "cell_type": "code",
   "execution_count": 60,
   "id": "248c216b245e8945",
   "metadata": {
    "ExecuteTime": {
     "end_time": "2023-09-08T11:56:46.252795646Z",
     "start_time": "2023-09-08T11:56:46.203869806Z"
    },
    "collapsed": false
   },
   "outputs": [],
   "source": [
    "import numpy as np\n",
    "import tensorflow as tf\n",
    "import pandas as pd\n",
    "\n",
    "from scipy.io import loadmat\n",
    "from sklearn.model_selection import train_test_split\n",
    "from sklearn.preprocessing import OneHotEncoder\n",
    "\n",
    "mat_file = loadmat('./mixoutALL_shifted.mat')"
   ]
  },
  {
   "cell_type": "markdown",
   "id": "1991b0d3f8552754",
   "metadata": {
    "collapsed": false
   },
   "source": [
    "### 3.2 Xử lý dữ liệu"
   ]
  },
  {
   "cell_type": "markdown",
   "id": "339b22ef",
   "metadata": {},
   "source": [
    "Xem x, y, z như tọa độ của một điểm trong không gian 3 chiều, ta tính khoảng các từ điểm này đến gốc tọa độ"
   ]
  },
  {
   "cell_type": "code",
   "execution_count": 61,
   "id": "1f0ea6d19498e3cc",
   "metadata": {
    "ExecuteTime": {
     "end_time": "2023-09-08T12:46:57.815309811Z",
     "start_time": "2023-09-08T12:46:57.743849289Z"
    },
    "collapsed": false
   },
   "outputs": [
    {
     "data": {
      "text/html": [
       "<div>\n",
       "<style scoped>\n",
       "    .dataframe tbody tr th:only-of-type {\n",
       "        vertical-align: middle;\n",
       "    }\n",
       "\n",
       "    .dataframe tbody tr th {\n",
       "        vertical-align: top;\n",
       "    }\n",
       "\n",
       "    .dataframe thead th {\n",
       "        text-align: right;\n",
       "    }\n",
       "</style>\n",
       "<table border=\"1\" class=\"dataframe\">\n",
       "  <thead>\n",
       "    <tr style=\"text-align: right;\">\n",
       "      <th></th>\n",
       "      <th>0</th>\n",
       "      <th>1</th>\n",
       "      <th>2</th>\n",
       "      <th>3</th>\n",
       "      <th>4</th>\n",
       "      <th>5</th>\n",
       "      <th>6</th>\n",
       "      <th>7</th>\n",
       "      <th>8</th>\n",
       "      <th>9</th>\n",
       "      <th>...</th>\n",
       "      <th>195</th>\n",
       "      <th>196</th>\n",
       "      <th>197</th>\n",
       "      <th>198</th>\n",
       "      <th>199</th>\n",
       "      <th>200</th>\n",
       "      <th>201</th>\n",
       "      <th>202</th>\n",
       "      <th>203</th>\n",
       "      <th>204</th>\n",
       "    </tr>\n",
       "  </thead>\n",
       "  <tbody>\n",
       "    <tr>\n",
       "      <th>0</th>\n",
       "      <td>0.0</td>\n",
       "      <td>0.0</td>\n",
       "      <td>0.0</td>\n",
       "      <td>0.597959</td>\n",
       "      <td>0.744284</td>\n",
       "      <td>0.829920</td>\n",
       "      <td>0.857604</td>\n",
       "      <td>0.846489</td>\n",
       "      <td>0.816081</td>\n",
       "      <td>0.780590</td>\n",
       "      <td>...</td>\n",
       "      <td>0.0</td>\n",
       "      <td>0.0</td>\n",
       "      <td>0.0</td>\n",
       "      <td>0.0</td>\n",
       "      <td>0.0</td>\n",
       "      <td>0.0</td>\n",
       "      <td>0.0</td>\n",
       "      <td>0.0</td>\n",
       "      <td>0.0</td>\n",
       "      <td>0.0</td>\n",
       "    </tr>\n",
       "    <tr>\n",
       "      <th>1</th>\n",
       "      <td>0.0</td>\n",
       "      <td>0.0</td>\n",
       "      <td>0.0</td>\n",
       "      <td>0.565986</td>\n",
       "      <td>0.750087</td>\n",
       "      <td>0.890253</td>\n",
       "      <td>0.972216</td>\n",
       "      <td>1.002991</td>\n",
       "      <td>1.002084</td>\n",
       "      <td>0.989906</td>\n",
       "      <td>...</td>\n",
       "      <td>0.0</td>\n",
       "      <td>0.0</td>\n",
       "      <td>0.0</td>\n",
       "      <td>0.0</td>\n",
       "      <td>0.0</td>\n",
       "      <td>0.0</td>\n",
       "      <td>0.0</td>\n",
       "      <td>0.0</td>\n",
       "      <td>0.0</td>\n",
       "      <td>0.0</td>\n",
       "    </tr>\n",
       "    <tr>\n",
       "      <th>2</th>\n",
       "      <td>0.0</td>\n",
       "      <td>0.0</td>\n",
       "      <td>0.0</td>\n",
       "      <td>0.620364</td>\n",
       "      <td>0.794987</td>\n",
       "      <td>0.925596</td>\n",
       "      <td>1.013903</td>\n",
       "      <td>1.069936</td>\n",
       "      <td>1.097143</td>\n",
       "      <td>1.095549</td>\n",
       "      <td>...</td>\n",
       "      <td>0.0</td>\n",
       "      <td>0.0</td>\n",
       "      <td>0.0</td>\n",
       "      <td>0.0</td>\n",
       "      <td>0.0</td>\n",
       "      <td>0.0</td>\n",
       "      <td>0.0</td>\n",
       "      <td>0.0</td>\n",
       "      <td>0.0</td>\n",
       "      <td>0.0</td>\n",
       "    </tr>\n",
       "    <tr>\n",
       "      <th>3</th>\n",
       "      <td>0.0</td>\n",
       "      <td>0.0</td>\n",
       "      <td>0.0</td>\n",
       "      <td>0.000000</td>\n",
       "      <td>0.000000</td>\n",
       "      <td>0.000000</td>\n",
       "      <td>0.000000</td>\n",
       "      <td>0.000000</td>\n",
       "      <td>0.961889</td>\n",
       "      <td>1.221480</td>\n",
       "      <td>...</td>\n",
       "      <td>0.0</td>\n",
       "      <td>0.0</td>\n",
       "      <td>0.0</td>\n",
       "      <td>0.0</td>\n",
       "      <td>0.0</td>\n",
       "      <td>0.0</td>\n",
       "      <td>0.0</td>\n",
       "      <td>0.0</td>\n",
       "      <td>0.0</td>\n",
       "      <td>0.0</td>\n",
       "    </tr>\n",
       "    <tr>\n",
       "      <th>4</th>\n",
       "      <td>0.0</td>\n",
       "      <td>0.0</td>\n",
       "      <td>0.0</td>\n",
       "      <td>0.000000</td>\n",
       "      <td>0.000000</td>\n",
       "      <td>0.000000</td>\n",
       "      <td>0.000000</td>\n",
       "      <td>0.000000</td>\n",
       "      <td>0.816197</td>\n",
       "      <td>1.061265</td>\n",
       "      <td>...</td>\n",
       "      <td>0.0</td>\n",
       "      <td>0.0</td>\n",
       "      <td>0.0</td>\n",
       "      <td>0.0</td>\n",
       "      <td>0.0</td>\n",
       "      <td>0.0</td>\n",
       "      <td>0.0</td>\n",
       "      <td>0.0</td>\n",
       "      <td>0.0</td>\n",
       "      <td>0.0</td>\n",
       "    </tr>\n",
       "  </tbody>\n",
       "</table>\n",
       "<p>5 rows × 205 columns</p>\n",
       "</div>"
      ],
      "text/plain": [
       "   0    1    2         3         4         5         6         7         8    \\\n",
       "0  0.0  0.0  0.0  0.597959  0.744284  0.829920  0.857604  0.846489  0.816081   \n",
       "1  0.0  0.0  0.0  0.565986  0.750087  0.890253  0.972216  1.002991  1.002084   \n",
       "2  0.0  0.0  0.0  0.620364  0.794987  0.925596  1.013903  1.069936  1.097143   \n",
       "3  0.0  0.0  0.0  0.000000  0.000000  0.000000  0.000000  0.000000  0.961889   \n",
       "4  0.0  0.0  0.0  0.000000  0.000000  0.000000  0.000000  0.000000  0.816197   \n",
       "\n",
       "        9    ...  195  196  197  198  199  200  201  202  203  204  \n",
       "0  0.780590  ...  0.0  0.0  0.0  0.0  0.0  0.0  0.0  0.0  0.0  0.0  \n",
       "1  0.989906  ...  0.0  0.0  0.0  0.0  0.0  0.0  0.0  0.0  0.0  0.0  \n",
       "2  1.095549  ...  0.0  0.0  0.0  0.0  0.0  0.0  0.0  0.0  0.0  0.0  \n",
       "3  1.221480  ...  0.0  0.0  0.0  0.0  0.0  0.0  0.0  0.0  0.0  0.0  \n",
       "4  1.061265  ...  0.0  0.0  0.0  0.0  0.0  0.0  0.0  0.0  0.0  0.0  \n",
       "\n",
       "[5 rows x 205 columns]"
      ]
     },
     "execution_count": 61,
     "metadata": {},
     "output_type": "execute_result"
    }
   ],
   "source": [
    "X = mat_file['mixout'][0]\n",
    "\n",
    "X = X.tolist()\n",
    "\n",
    "X = [(x[0]**2 + x[1]**2 + x[2]**2) ** (1/2) for x in X]\n",
    "\n",
    "X = [x.tolist() + [0.0] * (205 - len(x)) for x in X]\n",
    "\n",
    "X = np.asarray(X)\n",
    "\n",
    "pd.DataFrame(X).head()"
   ]
  },
  {
   "cell_type": "code",
   "execution_count": 62,
   "id": "c12b6fc4656b3c41",
   "metadata": {
    "ExecuteTime": {
     "end_time": "2023-09-08T12:31:54.194115113Z",
     "start_time": "2023-09-08T12:31:54.179021823Z"
    },
    "collapsed": false
   },
   "outputs": [
    {
     "data": {
      "text/html": [
       "<div>\n",
       "<style scoped>\n",
       "    .dataframe tbody tr th:only-of-type {\n",
       "        vertical-align: middle;\n",
       "    }\n",
       "\n",
       "    .dataframe tbody tr th {\n",
       "        vertical-align: top;\n",
       "    }\n",
       "\n",
       "    .dataframe thead th {\n",
       "        text-align: right;\n",
       "    }\n",
       "</style>\n",
       "<table border=\"1\" class=\"dataframe\">\n",
       "  <thead>\n",
       "    <tr style=\"text-align: right;\">\n",
       "      <th></th>\n",
       "      <th>0</th>\n",
       "      <th>1</th>\n",
       "      <th>2</th>\n",
       "      <th>3</th>\n",
       "      <th>4</th>\n",
       "      <th>5</th>\n",
       "      <th>6</th>\n",
       "      <th>7</th>\n",
       "      <th>8</th>\n",
       "      <th>9</th>\n",
       "      <th>10</th>\n",
       "      <th>11</th>\n",
       "      <th>12</th>\n",
       "      <th>13</th>\n",
       "      <th>14</th>\n",
       "      <th>15</th>\n",
       "      <th>16</th>\n",
       "      <th>17</th>\n",
       "      <th>18</th>\n",
       "      <th>19</th>\n",
       "    </tr>\n",
       "  </thead>\n",
       "  <tbody>\n",
       "    <tr>\n",
       "      <th>0</th>\n",
       "      <td>1.0</td>\n",
       "      <td>0.0</td>\n",
       "      <td>0.0</td>\n",
       "      <td>0.0</td>\n",
       "      <td>0.0</td>\n",
       "      <td>0.0</td>\n",
       "      <td>0.0</td>\n",
       "      <td>0.0</td>\n",
       "      <td>0.0</td>\n",
       "      <td>0.0</td>\n",
       "      <td>0.0</td>\n",
       "      <td>0.0</td>\n",
       "      <td>0.0</td>\n",
       "      <td>0.0</td>\n",
       "      <td>0.0</td>\n",
       "      <td>0.0</td>\n",
       "      <td>0.0</td>\n",
       "      <td>0.0</td>\n",
       "      <td>0.0</td>\n",
       "      <td>0.0</td>\n",
       "    </tr>\n",
       "    <tr>\n",
       "      <th>1</th>\n",
       "      <td>1.0</td>\n",
       "      <td>0.0</td>\n",
       "      <td>0.0</td>\n",
       "      <td>0.0</td>\n",
       "      <td>0.0</td>\n",
       "      <td>0.0</td>\n",
       "      <td>0.0</td>\n",
       "      <td>0.0</td>\n",
       "      <td>0.0</td>\n",
       "      <td>0.0</td>\n",
       "      <td>0.0</td>\n",
       "      <td>0.0</td>\n",
       "      <td>0.0</td>\n",
       "      <td>0.0</td>\n",
       "      <td>0.0</td>\n",
       "      <td>0.0</td>\n",
       "      <td>0.0</td>\n",
       "      <td>0.0</td>\n",
       "      <td>0.0</td>\n",
       "      <td>0.0</td>\n",
       "    </tr>\n",
       "    <tr>\n",
       "      <th>2</th>\n",
       "      <td>1.0</td>\n",
       "      <td>0.0</td>\n",
       "      <td>0.0</td>\n",
       "      <td>0.0</td>\n",
       "      <td>0.0</td>\n",
       "      <td>0.0</td>\n",
       "      <td>0.0</td>\n",
       "      <td>0.0</td>\n",
       "      <td>0.0</td>\n",
       "      <td>0.0</td>\n",
       "      <td>0.0</td>\n",
       "      <td>0.0</td>\n",
       "      <td>0.0</td>\n",
       "      <td>0.0</td>\n",
       "      <td>0.0</td>\n",
       "      <td>0.0</td>\n",
       "      <td>0.0</td>\n",
       "      <td>0.0</td>\n",
       "      <td>0.0</td>\n",
       "      <td>0.0</td>\n",
       "    </tr>\n",
       "    <tr>\n",
       "      <th>3</th>\n",
       "      <td>1.0</td>\n",
       "      <td>0.0</td>\n",
       "      <td>0.0</td>\n",
       "      <td>0.0</td>\n",
       "      <td>0.0</td>\n",
       "      <td>0.0</td>\n",
       "      <td>0.0</td>\n",
       "      <td>0.0</td>\n",
       "      <td>0.0</td>\n",
       "      <td>0.0</td>\n",
       "      <td>0.0</td>\n",
       "      <td>0.0</td>\n",
       "      <td>0.0</td>\n",
       "      <td>0.0</td>\n",
       "      <td>0.0</td>\n",
       "      <td>0.0</td>\n",
       "      <td>0.0</td>\n",
       "      <td>0.0</td>\n",
       "      <td>0.0</td>\n",
       "      <td>0.0</td>\n",
       "    </tr>\n",
       "    <tr>\n",
       "      <th>4</th>\n",
       "      <td>1.0</td>\n",
       "      <td>0.0</td>\n",
       "      <td>0.0</td>\n",
       "      <td>0.0</td>\n",
       "      <td>0.0</td>\n",
       "      <td>0.0</td>\n",
       "      <td>0.0</td>\n",
       "      <td>0.0</td>\n",
       "      <td>0.0</td>\n",
       "      <td>0.0</td>\n",
       "      <td>0.0</td>\n",
       "      <td>0.0</td>\n",
       "      <td>0.0</td>\n",
       "      <td>0.0</td>\n",
       "      <td>0.0</td>\n",
       "      <td>0.0</td>\n",
       "      <td>0.0</td>\n",
       "      <td>0.0</td>\n",
       "      <td>0.0</td>\n",
       "      <td>0.0</td>\n",
       "    </tr>\n",
       "  </tbody>\n",
       "</table>\n",
       "</div>"
      ],
      "text/plain": [
       "    0    1    2    3    4    5    6    7    8    9    10   11   12   13   14  \\\n",
       "0  1.0  0.0  0.0  0.0  0.0  0.0  0.0  0.0  0.0  0.0  0.0  0.0  0.0  0.0  0.0   \n",
       "1  1.0  0.0  0.0  0.0  0.0  0.0  0.0  0.0  0.0  0.0  0.0  0.0  0.0  0.0  0.0   \n",
       "2  1.0  0.0  0.0  0.0  0.0  0.0  0.0  0.0  0.0  0.0  0.0  0.0  0.0  0.0  0.0   \n",
       "3  1.0  0.0  0.0  0.0  0.0  0.0  0.0  0.0  0.0  0.0  0.0  0.0  0.0  0.0  0.0   \n",
       "4  1.0  0.0  0.0  0.0  0.0  0.0  0.0  0.0  0.0  0.0  0.0  0.0  0.0  0.0  0.0   \n",
       "\n",
       "    15   16   17   18   19  \n",
       "0  0.0  0.0  0.0  0.0  0.0  \n",
       "1  0.0  0.0  0.0  0.0  0.0  \n",
       "2  0.0  0.0  0.0  0.0  0.0  \n",
       "3  0.0  0.0  0.0  0.0  0.0  \n",
       "4  0.0  0.0  0.0  0.0  0.0  "
      ]
     },
     "execution_count": 62,
     "metadata": {},
     "output_type": "execute_result"
    }
   ],
   "source": [
    "Y = mat_file['consts']['charlabels'][0][0][0]\n",
    "\n",
    "Y = [[y] for y in Y]\n",
    "Y = np.asarray(Y)\n",
    "\n",
    "one = OneHotEncoder()\n",
    "\n",
    "Y = one.fit_transform(Y).toarray()\n",
    "\n",
    "pd.DataFrame(Y).head()"
   ]
  },
  {
   "cell_type": "code",
   "execution_count": 63,
   "id": "6e4ed8b2b46d42aa",
   "metadata": {
    "ExecuteTime": {
     "end_time": "2023-09-08T12:31:56.765492706Z",
     "start_time": "2023-09-08T12:31:56.751930358Z"
    },
    "collapsed": false
   },
   "outputs": [],
   "source": [
    "x_train, x_test, y_train, y_test = train_test_split(X, Y, test_size=0.2)"
   ]
  },
  {
   "cell_type": "markdown",
   "id": "242346e5df94efe2",
   "metadata": {
    "collapsed": false
   },
   "source": [
    "### 3.3 Khai báo các layers, hàm predict và hàm loss\n",
    "\n",
    "```mermaid\n",
    "flowchart LR\n",
    "    subgraph layer1 [layer1]\n",
    "        matmul1((matmul)) --> add1((+))\n",
    "        add1 --> relu1((relu))\n",
    "    end\n",
    "\n",
    "    subgraph layer2 [layer2]\n",
    "        matmul2((matmul)) --> add2((+))\n",
    "        add2 --> relu2((relu))\n",
    "    end\n",
    "\n",
    "    subgraph layer3 [layer3]\n",
    "        matmul3((matmul)) --> add3((+))\n",
    "        add3 --> softmax3((softmax))\n",
    "    end\n",
    "\n",
    "    X((X)) --> matmul1\n",
    "    W1((W1)) --> matmul1\n",
    "    B1((B1)) --> add1\n",
    "\n",
    "    relu1 --> matmul2\n",
    "    W2((W2)) --> matmul2\n",
    "    B2((B2)) --> add2\n",
    "\n",
    "    relu2 --> matmul3\n",
    "    W3((W3)) --> matmul3\n",
    "    B3((B3)) --> add3\n",
    "\n",
    "    softmax3 --> y_pred((y_pred))\n",
    "```"
   ]
  },
  {
   "cell_type": "code",
   "execution_count": 64,
   "id": "ae73eef1e8ffa52b",
   "metadata": {
    "ExecuteTime": {
     "end_time": "2023-09-08T12:31:58.910447964Z",
     "start_time": "2023-09-08T12:31:58.893992318Z"
    },
    "collapsed": false
   },
   "outputs": [],
   "source": [
    "@tf.function\n",
    "def layer1(X, W, B):\n",
    "    return tf.nn.relu(tf.matmul(X, W) + B)\n",
    "\n",
    "\n",
    "@tf.function\n",
    "def layer2(X, W, B):\n",
    "    return tf.nn.sigmoid(tf.matmul(X, W) + B)\n",
    "\n",
    "@tf.function\n",
    "def layer3(X, W, B):\n",
    "    return tf.nn.softmax(tf.matmul(X, W) + B)\n",
    "\n",
    "\n",
    "@tf.function\n",
    "def predict(X, W1, B1, W2, B2, W3, B3):\n",
    "    return layer3(layer2(layer1(X, W1, B1), W2, B2), W3, B3)\n",
    "\n",
    "\n",
    "@tf.function\n",
    "def loss(y_hat, y):\n",
    "    epsillon = tf.constant(1e-7, dtype=tf.float32)\n",
    "    return -tf.reduce_mean(tf.reduce_sum(y * tf.math.log(y_hat + epsillon), axis=1))"
   ]
  },
  {
   "cell_type": "markdown",
   "id": "be7d5f2e151110cc",
   "metadata": {
    "collapsed": false
   },
   "source": [
    "### 3.4 Train mô hình"
   ]
  },
  {
   "cell_type": "code",
   "execution_count": 65,
   "id": "e6016aa975f1e92e",
   "metadata": {
    "ExecuteTime": {
     "end_time": "2023-09-08T12:32:00.900601055Z",
     "start_time": "2023-09-08T12:32:00.857035998Z"
    },
    "collapsed": false
   },
   "outputs": [],
   "source": [
    "x_train = tf.convert_to_tensor(x_train, dtype=tf.float32)\n",
    "y_train = tf.convert_to_tensor(y_train, dtype=tf.float32)\n",
    "\n",
    "x_test = tf.convert_to_tensor(x_test, dtype=tf.float32)\n",
    "y_test = tf.convert_to_tensor(y_test, dtype=tf.float32)"
   ]
  },
  {
   "cell_type": "code",
   "execution_count": 66,
   "id": "255e7b048ca8a1cf",
   "metadata": {
    "ExecuteTime": {
     "end_time": "2023-09-08T12:35:08.216196853Z",
     "start_time": "2023-09-08T12:35:06.330139101Z"
    },
    "collapsed": false
   },
   "outputs": [
    {
     "name": "stdout",
     "output_type": "stream",
     "text": [
      "Epoch: 0, Loss: 5.495841979980469\n",
      "Epoch: 1000, Loss: 1.0724273920059204\n",
      "Epoch: 2000, Loss: 0.7169781923294067\n",
      "Epoch: 3000, Loss: 0.5738096833229065\n",
      "Epoch: 4000, Loss: 0.4982617497444153\n",
      "Epoch: 5000, Loss: 0.44345054030418396\n",
      "Epoch: 6000, Loss: 0.395187646150589\n",
      "Epoch: 7000, Loss: 0.36296457052230835\n",
      "Epoch: 8000, Loss: 0.33608296513557434\n",
      "Epoch: 9000, Loss: 0.30956998467445374\n"
     ]
    }
   ],
   "source": [
    "W1 = tf.Variable(tf.random.normal((X.shape[1], Y.shape[1]), dtype=tf.float32))\n",
    "B1 = tf.Variable(tf.random.normal((1, Y.shape[1]), dtype=tf.float32))\n",
    "\n",
    "W2 = tf.Variable(tf.random.normal((Y.shape[1], Y.shape[1]), dtype=tf.float32))\n",
    "B2 = tf.Variable(tf.random.normal((1, Y.shape[1]), dtype=tf.float32))\n",
    "\n",
    "W3 = tf.Variable(tf.random.normal((Y.shape[1], Y.shape[1]), dtype=tf.float32))\n",
    "B3 = tf.Variable(tf.random.normal((1, Y.shape[1]), dtype=tf.float32))\n",
    "\n",
    "learning_rate = 0.1\n",
    "epochs = 10000\n",
    "\n",
    "loss_history = []\n",
    "\n",
    "for epoch in range(epochs):\n",
    "    with tf.GradientTape() as tape:\n",
    "        y_hat = predict(x_train, W1, B1, W2, B2, W3, B3)\n",
    "        loss_value = loss(y_hat, y_train)\n",
    "        loss_history.append(loss_value)\n",
    "\n",
    "    if epoch % 1000 == 0:\n",
    "        print(\"Epoch: {}, Loss: {}\".format(epoch, loss_value))\n",
    "\n",
    "    grads = tape.gradient(loss_value, [W1, B1, W2, B2, W3, B3])\n",
    "    W1.assign_sub(learning_rate * grads[0])\n",
    "    B1.assign_sub(learning_rate * grads[1])\n",
    "    W2.assign_sub(learning_rate * grads[2])\n",
    "    B2.assign_sub(learning_rate * grads[3])\n",
    "    W3.assign_sub(learning_rate * grads[4])\n",
    "    B3.assign_sub(learning_rate * grads[5])"
   ]
  },
  {
   "cell_type": "markdown",
   "id": "aae2fb8abd509d9d",
   "metadata": {
    "collapsed": false
   },
   "source": [
    "### 3.5 Đánh giá mô hình"
   ]
  },
  {
   "cell_type": "code",
   "execution_count": 67,
   "id": "28b8c9e44ac2abb1",
   "metadata": {
    "ExecuteTime": {
     "end_time": "2023-09-08T12:35:13.453010830Z",
     "start_time": "2023-09-08T12:35:13.449704824Z"
    },
    "collapsed": false
   },
   "outputs": [
    {
     "name": "stdout",
     "output_type": "stream",
     "text": [
      "Accuracy: 0.8566433566433567\n"
     ]
    }
   ],
   "source": [
    "y_hat = predict(x_test, W1, B1, W2, B2, W3, B3)\n",
    "\n",
    "y_hat = np.argmax(y_hat, axis=1)\n",
    "\n",
    "y_test_decoded = np.argmax(y_test, axis=1)\n",
    "\n",
    "acc = np.mean(y_hat == y_test_decoded)\n",
    "\n",
    "print(\"Accuracy: {}\".format(acc))"
   ]
  },
  {
   "cell_type": "code",
   "execution_count": 68,
   "id": "a2b957fa9119ecf",
   "metadata": {
    "ExecuteTime": {
     "end_time": "2023-09-08T12:35:38.097361042Z",
     "start_time": "2023-09-08T12:35:37.981242599Z"
    },
    "collapsed": false
   },
   "outputs": [
    {
     "data": {
      "text/plain": [
       "[<matplotlib.lines.Line2D at 0x7fa47f037880>]"
      ]
     },
     "execution_count": 68,
     "metadata": {},
     "output_type": "execute_result"
    },
    {
     "data": {
      "image/png": "[encoded data removed]",
      "text/plain": [
       "<Figure size 640x480 with 1 Axes>"
      ]
     },
     "metadata": {},
     "output_type": "display_data"
    }
   ],
   "source": [
    "from matplotlib import pyplot as plt\n",
    "\n",
    "plt.plot(loss_history)"
   ]
  }
 ],
 "metadata": {
  "kernelspec": {
   "display_name": "Python 3",
   "language": "python",
   "name": "python3"
  },
  "language_info": {
   "codemirror_mode": {
    "name": "ipython",
    "version": 3
   },
   "file_extension": ".py",
   "mimetype": "text/x-python",
   "name": "python",
   "nbconvert_exporter": "python",
   "pygments_lexer": "ipython3",
   "version": "3.10.12"
  }
 },
 "nbformat": 4,
 "nbformat_minor": 5
}
