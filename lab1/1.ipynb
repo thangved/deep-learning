{
 "cells": [
  {
   "cell_type": "markdown",
   "source": [
    "# Lab 1\n",
    "\n",
    "- Họ tên: Kim Minh Thắng\n",
    "- Mã số sinh viên: B2007210\n",
    "\n",
    "## Bài 1\n",
    "\n",
    "### Yêu cầu\n",
    "\n",
    "Xây dựng mô hình:\n",
    "- 1 Tầng (Dense) gồm 1 neuron\n",
    "- input_shape: (4,)\n",
    "- use_bias: `True`\n",
    "- activation: `sigmoid`\n",
    "\n",
    "Biên dịch mô hình:\n",
    "- optimizer = `adam`\n",
    "- loss: `binary_crossentropy`\n",
    "- metrics: `['accuracy']`\n",
    "\n",
    "### Bài làm\n",
    "\n",
    "#### Đọc và xử lý dữ liệu\n",
    "\n",
    "Load dữ liệu từ file `Iris.csv` và giữ lại 100 dòng đầu tiên."
   ],
   "metadata": {
    "collapsed": false
   },
   "id": "50d8fa74af094323"
  },
  {
   "cell_type": "code",
   "execution_count": 57,
   "id": "initial_id",
   "metadata": {
    "collapsed": true,
    "ExecuteTime": {
     "end_time": "2023-08-14T04:10:45.129310787Z",
     "start_time": "2023-08-14T04:10:45.073174175Z"
    }
   },
   "outputs": [],
   "source": [
    "import pandas as pd\n",
    "import numpy as np"
   ]
  },
  {
   "cell_type": "code",
   "execution_count": 58,
   "outputs": [],
   "source": [
    "df = pd.read_csv(\"./Iris.csv\")"
   ],
   "metadata": {
    "collapsed": false,
    "ExecuteTime": {
     "end_time": "2023-08-14T04:10:45.131089911Z",
     "start_time": "2023-08-14T04:10:45.078434426Z"
    }
   },
   "id": "9a72e34824cc3dc6"
  },
  {
   "cell_type": "code",
   "execution_count": 59,
   "outputs": [
    {
     "data": {
      "text/plain": "     Id  SepalLengthCm  SepalWidthCm  PetalLengthCm  PetalWidthCm  \\\n0     1            5.1           3.5            1.4           0.2   \n1     2            4.9           3.0            1.4           0.2   \n2     3            4.7           3.2            1.3           0.2   \n3     4            4.6           3.1            1.5           0.2   \n4     5            5.0           3.6            1.4           0.2   \n..  ...            ...           ...            ...           ...   \n95   96            5.7           3.0            4.2           1.2   \n96   97            5.7           2.9            4.2           1.3   \n97   98            6.2           2.9            4.3           1.3   \n98   99            5.1           2.5            3.0           1.1   \n99  100            5.7           2.8            4.1           1.3   \n\n            Species  \n0       Iris-setosa  \n1       Iris-setosa  \n2       Iris-setosa  \n3       Iris-setosa  \n4       Iris-setosa  \n..              ...  \n95  Iris-versicolor  \n96  Iris-versicolor  \n97  Iris-versicolor  \n98  Iris-versicolor  \n99  Iris-versicolor  \n\n[100 rows x 6 columns]",
      "text/html": "<div>\n<style scoped>\n    .dataframe tbody tr th:only-of-type {\n        vertical-align: middle;\n    }\n\n    .dataframe tbody tr th {\n        vertical-align: top;\n    }\n\n    .dataframe thead th {\n        text-align: right;\n    }\n</style>\n<table border=\"1\" class=\"dataframe\">\n  <thead>\n    <tr style=\"text-align: right;\">\n      <th></th>\n      <th>Id</th>\n      <th>SepalLengthCm</th>\n      <th>SepalWidthCm</th>\n      <th>PetalLengthCm</th>\n      <th>PetalWidthCm</th>\n      <th>Species</th>\n    </tr>\n  </thead>\n  <tbody>\n    <tr>\n      <th>0</th>\n      <td>1</td>\n      <td>5.1</td>\n      <td>3.5</td>\n      <td>1.4</td>\n      <td>0.2</td>\n      <td>Iris-setosa</td>\n    </tr>\n    <tr>\n      <th>1</th>\n      <td>2</td>\n      <td>4.9</td>\n      <td>3.0</td>\n      <td>1.4</td>\n      <td>0.2</td>\n      <td>Iris-setosa</td>\n    </tr>\n    <tr>\n      <th>2</th>\n      <td>3</td>\n      <td>4.7</td>\n      <td>3.2</td>\n      <td>1.3</td>\n      <td>0.2</td>\n      <td>Iris-setosa</td>\n    </tr>\n    <tr>\n      <th>3</th>\n      <td>4</td>\n      <td>4.6</td>\n      <td>3.1</td>\n      <td>1.5</td>\n      <td>0.2</td>\n      <td>Iris-setosa</td>\n    </tr>\n    <tr>\n      <th>4</th>\n      <td>5</td>\n      <td>5.0</td>\n      <td>3.6</td>\n      <td>1.4</td>\n      <td>0.2</td>\n      <td>Iris-setosa</td>\n    </tr>\n    <tr>\n      <th>...</th>\n      <td>...</td>\n      <td>...</td>\n      <td>...</td>\n      <td>...</td>\n      <td>...</td>\n      <td>...</td>\n    </tr>\n    <tr>\n      <th>95</th>\n      <td>96</td>\n      <td>5.7</td>\n      <td>3.0</td>\n      <td>4.2</td>\n      <td>1.2</td>\n      <td>Iris-versicolor</td>\n    </tr>\n    <tr>\n      <th>96</th>\n      <td>97</td>\n      <td>5.7</td>\n      <td>2.9</td>\n      <td>4.2</td>\n      <td>1.3</td>\n      <td>Iris-versicolor</td>\n    </tr>\n    <tr>\n      <th>97</th>\n      <td>98</td>\n      <td>6.2</td>\n      <td>2.9</td>\n      <td>4.3</td>\n      <td>1.3</td>\n      <td>Iris-versicolor</td>\n    </tr>\n    <tr>\n      <th>98</th>\n      <td>99</td>\n      <td>5.1</td>\n      <td>2.5</td>\n      <td>3.0</td>\n      <td>1.1</td>\n      <td>Iris-versicolor</td>\n    </tr>\n    <tr>\n      <th>99</th>\n      <td>100</td>\n      <td>5.7</td>\n      <td>2.8</td>\n      <td>4.1</td>\n      <td>1.3</td>\n      <td>Iris-versicolor</td>\n    </tr>\n  </tbody>\n</table>\n<p>100 rows × 6 columns</p>\n</div>"
     },
     "execution_count": 59,
     "metadata": {},
     "output_type": "execute_result"
    }
   ],
   "source": [
    "df = df.head(100)\n",
    "df"
   ],
   "metadata": {
    "collapsed": false,
    "ExecuteTime": {
     "end_time": "2023-08-14T04:10:45.171349762Z",
     "start_time": "2023-08-14T04:10:45.092018491Z"
    }
   },
   "id": "8f439f06d8007b4f"
  },
  {
   "cell_type": "markdown",
   "source": [
    "Tách các cột đặc trưng và nhãn"
   ],
   "metadata": {
    "collapsed": false
   },
   "id": "1e06851a5ec2df21"
  },
  {
   "cell_type": "code",
   "execution_count": 60,
   "outputs": [
    {
     "data": {
      "text/plain": "array([[5.1, 3.5, 1.4, 0.2],\n       [4.9, 3. , 1.4, 0.2],\n       [4.7, 3.2, 1.3, 0.2],\n       [4.6, 3.1, 1.5, 0.2],\n       [5. , 3.6, 1.4, 0.2],\n       [5.4, 3.9, 1.7, 0.4],\n       [4.6, 3.4, 1.4, 0.3],\n       [5. , 3.4, 1.5, 0.2],\n       [4.4, 2.9, 1.4, 0.2],\n       [4.9, 3.1, 1.5, 0.1],\n       [5.4, 3.7, 1.5, 0.2],\n       [4.8, 3.4, 1.6, 0.2],\n       [4.8, 3. , 1.4, 0.1],\n       [4.3, 3. , 1.1, 0.1],\n       [5.8, 4. , 1.2, 0.2],\n       [5.7, 4.4, 1.5, 0.4],\n       [5.4, 3.9, 1.3, 0.4],\n       [5.1, 3.5, 1.4, 0.3],\n       [5.7, 3.8, 1.7, 0.3],\n       [5.1, 3.8, 1.5, 0.3],\n       [5.4, 3.4, 1.7, 0.2],\n       [5.1, 3.7, 1.5, 0.4],\n       [4.6, 3.6, 1. , 0.2],\n       [5.1, 3.3, 1.7, 0.5],\n       [4.8, 3.4, 1.9, 0.2],\n       [5. , 3. , 1.6, 0.2],\n       [5. , 3.4, 1.6, 0.4],\n       [5.2, 3.5, 1.5, 0.2],\n       [5.2, 3.4, 1.4, 0.2],\n       [4.7, 3.2, 1.6, 0.2],\n       [4.8, 3.1, 1.6, 0.2],\n       [5.4, 3.4, 1.5, 0.4],\n       [5.2, 4.1, 1.5, 0.1],\n       [5.5, 4.2, 1.4, 0.2],\n       [4.9, 3.1, 1.5, 0.1],\n       [5. , 3.2, 1.2, 0.2],\n       [5.5, 3.5, 1.3, 0.2],\n       [4.9, 3.1, 1.5, 0.1],\n       [4.4, 3. , 1.3, 0.2],\n       [5.1, 3.4, 1.5, 0.2],\n       [5. , 3.5, 1.3, 0.3],\n       [4.5, 2.3, 1.3, 0.3],\n       [4.4, 3.2, 1.3, 0.2],\n       [5. , 3.5, 1.6, 0.6],\n       [5.1, 3.8, 1.9, 0.4],\n       [4.8, 3. , 1.4, 0.3],\n       [5.1, 3.8, 1.6, 0.2],\n       [4.6, 3.2, 1.4, 0.2],\n       [5.3, 3.7, 1.5, 0.2],\n       [5. , 3.3, 1.4, 0.2],\n       [7. , 3.2, 4.7, 1.4],\n       [6.4, 3.2, 4.5, 1.5],\n       [6.9, 3.1, 4.9, 1.5],\n       [5.5, 2.3, 4. , 1.3],\n       [6.5, 2.8, 4.6, 1.5],\n       [5.7, 2.8, 4.5, 1.3],\n       [6.3, 3.3, 4.7, 1.6],\n       [4.9, 2.4, 3.3, 1. ],\n       [6.6, 2.9, 4.6, 1.3],\n       [5.2, 2.7, 3.9, 1.4],\n       [5. , 2. , 3.5, 1. ],\n       [5.9, 3. , 4.2, 1.5],\n       [6. , 2.2, 4. , 1. ],\n       [6.1, 2.9, 4.7, 1.4],\n       [5.6, 2.9, 3.6, 1.3],\n       [6.7, 3.1, 4.4, 1.4],\n       [5.6, 3. , 4.5, 1.5],\n       [5.8, 2.7, 4.1, 1. ],\n       [6.2, 2.2, 4.5, 1.5],\n       [5.6, 2.5, 3.9, 1.1],\n       [5.9, 3.2, 4.8, 1.8],\n       [6.1, 2.8, 4. , 1.3],\n       [6.3, 2.5, 4.9, 1.5],\n       [6.1, 2.8, 4.7, 1.2],\n       [6.4, 2.9, 4.3, 1.3],\n       [6.6, 3. , 4.4, 1.4],\n       [6.8, 2.8, 4.8, 1.4],\n       [6.7, 3. , 5. , 1.7],\n       [6. , 2.9, 4.5, 1.5],\n       [5.7, 2.6, 3.5, 1. ],\n       [5.5, 2.4, 3.8, 1.1],\n       [5.5, 2.4, 3.7, 1. ],\n       [5.8, 2.7, 3.9, 1.2],\n       [6. , 2.7, 5.1, 1.6],\n       [5.4, 3. , 4.5, 1.5],\n       [6. , 3.4, 4.5, 1.6],\n       [6.7, 3.1, 4.7, 1.5],\n       [6.3, 2.3, 4.4, 1.3],\n       [5.6, 3. , 4.1, 1.3],\n       [5.5, 2.5, 4. , 1.3],\n       [5.5, 2.6, 4.4, 1.2],\n       [6.1, 3. , 4.6, 1.4],\n       [5.8, 2.6, 4. , 1.2],\n       [5. , 2.3, 3.3, 1. ],\n       [5.6, 2.7, 4.2, 1.3],\n       [5.7, 3. , 4.2, 1.2],\n       [5.7, 2.9, 4.2, 1.3],\n       [6.2, 2.9, 4.3, 1.3],\n       [5.1, 2.5, 3. , 1.1],\n       [5.7, 2.8, 4.1, 1.3]])"
     },
     "execution_count": 60,
     "metadata": {},
     "output_type": "execute_result"
    }
   ],
   "source": [
    "X = df[['SepalLengthCm', 'SepalWidthCm', 'PetalLengthCm', 'PetalWidthCm']]\n",
    "X = np.asarray(X)\n",
    "X"
   ],
   "metadata": {
    "collapsed": false,
    "ExecuteTime": {
     "end_time": "2023-08-14T04:10:45.173051558Z",
     "start_time": "2023-08-14T04:10:45.094968778Z"
    }
   },
   "id": "bf7f8649d63e4b1"
  },
  {
   "cell_type": "markdown",
   "source": [
    "Chuyển nhãn về dạng số"
   ],
   "metadata": {
    "collapsed": false
   },
   "id": "391347c097d04105"
  },
  {
   "cell_type": "code",
   "execution_count": 61,
   "outputs": [
    {
     "data": {
      "text/plain": "array([1, 1, 1, 1, 1, 1, 1, 1, 1, 1, 1, 1, 1, 1, 1, 1, 1, 1, 1, 1, 1, 1,\n       1, 1, 1, 1, 1, 1, 1, 1, 1, 1, 1, 1, 1, 1, 1, 1, 1, 1, 1, 1, 1, 1,\n       1, 1, 1, 1, 1, 1, 0, 0, 0, 0, 0, 0, 0, 0, 0, 0, 0, 0, 0, 0, 0, 0,\n       0, 0, 0, 0, 0, 0, 0, 0, 0, 0, 0, 0, 0, 0, 0, 0, 0, 0, 0, 0, 0, 0,\n       0, 0, 0, 0, 0, 0, 0, 0, 0, 0, 0, 0])"
     },
     "execution_count": 61,
     "metadata": {},
     "output_type": "execute_result"
    }
   ],
   "source": [
    "Y = df['Species']\n",
    "Y = [1 if y == 'Iris-setosa' else 0 for y in Y]\n",
    "Y = np.asarray(Y)\n",
    "Y"
   ],
   "metadata": {
    "collapsed": false,
    "ExecuteTime": {
     "end_time": "2023-08-14T04:10:45.179479225Z",
     "start_time": "2023-08-14T04:10:45.103587485Z"
    }
   },
   "id": "25c7f3ad4690e959"
  },
  {
   "cell_type": "markdown",
   "source": [
    "Tách dataset thành dữ liệu train và test với tỉ lệ `80:20`"
   ],
   "metadata": {
    "collapsed": false
   },
   "id": "60a1b86e0f40f8bc"
  },
  {
   "cell_type": "code",
   "execution_count": 62,
   "outputs": [],
   "source": [
    "from sklearn.model_selection import train_test_split"
   ],
   "metadata": {
    "collapsed": false,
    "ExecuteTime": {
     "end_time": "2023-08-14T04:10:45.194626133Z",
     "start_time": "2023-08-14T04:10:45.103741162Z"
    }
   },
   "id": "fc8543ab1d3b7c41"
  },
  {
   "cell_type": "code",
   "execution_count": 63,
   "outputs": [],
   "source": [
    "X_train, X_test, Y_train, Y_test = train_test_split(X, Y, test_size=0.2)"
   ],
   "metadata": {
    "collapsed": false,
    "ExecuteTime": {
     "end_time": "2023-08-14T04:10:45.199211708Z",
     "start_time": "2023-08-14T04:10:45.150411797Z"
    }
   },
   "id": "230e04a286e0d114"
  },
  {
   "cell_type": "code",
   "execution_count": 64,
   "outputs": [],
   "source": [
    "from keras.models import Sequential\n",
    "from keras.layers import Dense"
   ],
   "metadata": {
    "collapsed": false,
    "ExecuteTime": {
     "end_time": "2023-08-14T04:10:45.199503809Z",
     "start_time": "2023-08-14T04:10:45.150541036Z"
    }
   },
   "id": "cd44f07394630c37"
  },
  {
   "cell_type": "markdown",
   "source": [
    "#### Tạo model và biên dịch"
   ],
   "metadata": {
    "collapsed": false
   },
   "id": "6b4ff1524fe9b022"
  },
  {
   "cell_type": "code",
   "execution_count": 65,
   "outputs": [
    {
     "name": "stdout",
     "output_type": "stream",
     "text": [
      "Model: \"sequential_4\"\n",
      "_________________________________________________________________\n",
      " Layer (type)                Output Shape              Param #   \n",
      "=================================================================\n",
      " dense_4 (Dense)             (None, 1)                 5         \n",
      "                                                                 \n",
      "=================================================================\n",
      "Total params: 5 (20.00 Byte)\n",
      "Trainable params: 5 (20.00 Byte)\n",
      "Non-trainable params: 0 (0.00 Byte)\n",
      "_________________________________________________________________\n"
     ]
    }
   ],
   "source": [
    "model = Sequential()\n",
    "model.add(Dense(1, input_shape=(4,), activation='sigmoid'))\n",
    "model.compile(optimizer='adam', loss='binary_crossentropy', metrics=['accuracy'])\n",
    "model.summary()"
   ],
   "metadata": {
    "collapsed": false,
    "ExecuteTime": {
     "end_time": "2023-08-14T04:10:45.199984853Z",
     "start_time": "2023-08-14T04:10:45.150589389Z"
    }
   },
   "id": "98c9316a551f8891"
  },
  {
   "cell_type": "markdown",
   "source": [
    "#### Train model"
   ],
   "metadata": {
    "collapsed": false
   },
   "id": "d8d3839eda8e5f9a"
  },
  {
   "cell_type": "code",
   "execution_count": 66,
   "outputs": [
    {
     "name": "stdout",
     "output_type": "stream",
     "text": [
      "Epoch 1/150\n",
      "4/4 [==============================] - 0s 29ms/step - loss: 0.9826 - accuracy: 0.3625 - val_loss: 0.8401 - val_accuracy: 0.5000\n",
      "Epoch 2/150\n",
      "4/4 [==============================] - 0s 6ms/step - loss: 0.9753 - accuracy: 0.3625 - val_loss: 0.8366 - val_accuracy: 0.5000\n",
      "Epoch 3/150\n",
      "4/4 [==============================] - 0s 7ms/step - loss: 0.9684 - accuracy: 0.3500 - val_loss: 0.8329 - val_accuracy: 0.5000\n",
      "Epoch 4/150\n",
      "4/4 [==============================] - 0s 7ms/step - loss: 0.9622 - accuracy: 0.3500 - val_loss: 0.8295 - val_accuracy: 0.5000\n",
      "Epoch 5/150\n",
      "4/4 [==============================] - 0s 7ms/step - loss: 0.9560 - accuracy: 0.3375 - val_loss: 0.8261 - val_accuracy: 0.5000\n",
      "Epoch 6/150\n",
      "4/4 [==============================] - 0s 6ms/step - loss: 0.9499 - accuracy: 0.3375 - val_loss: 0.8226 - val_accuracy: 0.5000\n",
      "Epoch 7/150\n",
      "4/4 [==============================] - 0s 6ms/step - loss: 0.9431 - accuracy: 0.3375 - val_loss: 0.8190 - val_accuracy: 0.5000\n",
      "Epoch 8/150\n",
      "4/4 [==============================] - 0s 6ms/step - loss: 0.9372 - accuracy: 0.3375 - val_loss: 0.8155 - val_accuracy: 0.5000\n",
      "Epoch 9/150\n",
      "4/4 [==============================] - 0s 6ms/step - loss: 0.9311 - accuracy: 0.3250 - val_loss: 0.8120 - val_accuracy: 0.4500\n",
      "Epoch 10/150\n",
      "4/4 [==============================] - 0s 6ms/step - loss: 0.9247 - accuracy: 0.3125 - val_loss: 0.8083 - val_accuracy: 0.4500\n",
      "Epoch 11/150\n",
      "4/4 [==============================] - 0s 6ms/step - loss: 0.9190 - accuracy: 0.3125 - val_loss: 0.8048 - val_accuracy: 0.4500\n",
      "Epoch 12/150\n",
      "4/4 [==============================] - 0s 6ms/step - loss: 0.9131 - accuracy: 0.3125 - val_loss: 0.8014 - val_accuracy: 0.4500\n",
      "Epoch 13/150\n",
      "4/4 [==============================] - 0s 6ms/step - loss: 0.9073 - accuracy: 0.3125 - val_loss: 0.7979 - val_accuracy: 0.4500\n",
      "Epoch 14/150\n",
      "4/4 [==============================] - 0s 6ms/step - loss: 0.9013 - accuracy: 0.3000 - val_loss: 0.7943 - val_accuracy: 0.4500\n",
      "Epoch 15/150\n",
      "4/4 [==============================] - 0s 6ms/step - loss: 0.8956 - accuracy: 0.2750 - val_loss: 0.7908 - val_accuracy: 0.4000\n",
      "Epoch 16/150\n",
      "4/4 [==============================] - 0s 6ms/step - loss: 0.8903 - accuracy: 0.2750 - val_loss: 0.7874 - val_accuracy: 0.4000\n",
      "Epoch 17/150\n",
      "4/4 [==============================] - 0s 6ms/step - loss: 0.8843 - accuracy: 0.2750 - val_loss: 0.7837 - val_accuracy: 0.4000\n",
      "Epoch 18/150\n",
      "4/4 [==============================] - 0s 6ms/step - loss: 0.8787 - accuracy: 0.2625 - val_loss: 0.7800 - val_accuracy: 0.4000\n",
      "Epoch 19/150\n",
      "4/4 [==============================] - 0s 6ms/step - loss: 0.8734 - accuracy: 0.2625 - val_loss: 0.7762 - val_accuracy: 0.4500\n",
      "Epoch 20/150\n",
      "4/4 [==============================] - 0s 6ms/step - loss: 0.8679 - accuracy: 0.2625 - val_loss: 0.7724 - val_accuracy: 0.4500\n",
      "Epoch 21/150\n",
      "4/4 [==============================] - 0s 6ms/step - loss: 0.8626 - accuracy: 0.2625 - val_loss: 0.7685 - val_accuracy: 0.4500\n",
      "Epoch 22/150\n",
      "4/4 [==============================] - 0s 6ms/step - loss: 0.8573 - accuracy: 0.2625 - val_loss: 0.7646 - val_accuracy: 0.4500\n",
      "Epoch 23/150\n",
      "4/4 [==============================] - 0s 6ms/step - loss: 0.8523 - accuracy: 0.2625 - val_loss: 0.7610 - val_accuracy: 0.4500\n",
      "Epoch 24/150\n",
      "4/4 [==============================] - 0s 6ms/step - loss: 0.8470 - accuracy: 0.2625 - val_loss: 0.7571 - val_accuracy: 0.4500\n",
      "Epoch 25/150\n",
      "4/4 [==============================] - 0s 6ms/step - loss: 0.8419 - accuracy: 0.2625 - val_loss: 0.7532 - val_accuracy: 0.4500\n",
      "Epoch 26/150\n",
      "4/4 [==============================] - 0s 8ms/step - loss: 0.8372 - accuracy: 0.2625 - val_loss: 0.7498 - val_accuracy: 0.4500\n",
      "Epoch 27/150\n",
      "4/4 [==============================] - 0s 6ms/step - loss: 0.8321 - accuracy: 0.2625 - val_loss: 0.7462 - val_accuracy: 0.4500\n",
      "Epoch 28/150\n",
      "4/4 [==============================] - 0s 6ms/step - loss: 0.8271 - accuracy: 0.2625 - val_loss: 0.7424 - val_accuracy: 0.4500\n",
      "Epoch 29/150\n",
      "4/4 [==============================] - 0s 8ms/step - loss: 0.8222 - accuracy: 0.2625 - val_loss: 0.7384 - val_accuracy: 0.4500\n",
      "Epoch 30/150\n",
      "4/4 [==============================] - 0s 7ms/step - loss: 0.8176 - accuracy: 0.2625 - val_loss: 0.7348 - val_accuracy: 0.4500\n",
      "Epoch 31/150\n",
      "4/4 [==============================] - 0s 6ms/step - loss: 0.8128 - accuracy: 0.2625 - val_loss: 0.7309 - val_accuracy: 0.4500\n",
      "Epoch 32/150\n",
      "4/4 [==============================] - 0s 8ms/step - loss: 0.8082 - accuracy: 0.2875 - val_loss: 0.7270 - val_accuracy: 0.4500\n",
      "Epoch 33/150\n",
      "4/4 [==============================] - 0s 7ms/step - loss: 0.8036 - accuracy: 0.2875 - val_loss: 0.7233 - val_accuracy: 0.4500\n",
      "Epoch 34/150\n",
      "4/4 [==============================] - 0s 6ms/step - loss: 0.7989 - accuracy: 0.2875 - val_loss: 0.7197 - val_accuracy: 0.5000\n",
      "Epoch 35/150\n",
      "4/4 [==============================] - 0s 6ms/step - loss: 0.7943 - accuracy: 0.2875 - val_loss: 0.7160 - val_accuracy: 0.5000\n",
      "Epoch 36/150\n",
      "4/4 [==============================] - 0s 6ms/step - loss: 0.7899 - accuracy: 0.3125 - val_loss: 0.7120 - val_accuracy: 0.5000\n",
      "Epoch 37/150\n",
      "4/4 [==============================] - 0s 6ms/step - loss: 0.7856 - accuracy: 0.3500 - val_loss: 0.7088 - val_accuracy: 0.5000\n",
      "Epoch 38/150\n",
      "4/4 [==============================] - 0s 6ms/step - loss: 0.7809 - accuracy: 0.3500 - val_loss: 0.7051 - val_accuracy: 0.5000\n",
      "Epoch 39/150\n",
      "4/4 [==============================] - 0s 6ms/step - loss: 0.7766 - accuracy: 0.3500 - val_loss: 0.7016 - val_accuracy: 0.5000\n",
      "Epoch 40/150\n",
      "4/4 [==============================] - 0s 6ms/step - loss: 0.7721 - accuracy: 0.3500 - val_loss: 0.6977 - val_accuracy: 0.5000\n",
      "Epoch 41/150\n",
      "4/4 [==============================] - 0s 6ms/step - loss: 0.7677 - accuracy: 0.3500 - val_loss: 0.6939 - val_accuracy: 0.5500\n",
      "Epoch 42/150\n",
      "4/4 [==============================] - 0s 6ms/step - loss: 0.7637 - accuracy: 0.3625 - val_loss: 0.6905 - val_accuracy: 0.5500\n",
      "Epoch 43/150\n",
      "4/4 [==============================] - 0s 6ms/step - loss: 0.7592 - accuracy: 0.3625 - val_loss: 0.6868 - val_accuracy: 0.5500\n",
      "Epoch 44/150\n",
      "4/4 [==============================] - 0s 6ms/step - loss: 0.7551 - accuracy: 0.3875 - val_loss: 0.6828 - val_accuracy: 0.5500\n",
      "Epoch 45/150\n",
      "4/4 [==============================] - 0s 7ms/step - loss: 0.7508 - accuracy: 0.4000 - val_loss: 0.6792 - val_accuracy: 0.6000\n",
      "Epoch 46/150\n",
      "4/4 [==============================] - 0s 6ms/step - loss: 0.7467 - accuracy: 0.4000 - val_loss: 0.6756 - val_accuracy: 0.6000\n",
      "Epoch 47/150\n",
      "4/4 [==============================] - 0s 6ms/step - loss: 0.7426 - accuracy: 0.4000 - val_loss: 0.6723 - val_accuracy: 0.6000\n",
      "Epoch 48/150\n",
      "4/4 [==============================] - 0s 7ms/step - loss: 0.7386 - accuracy: 0.4000 - val_loss: 0.6690 - val_accuracy: 0.6000\n",
      "Epoch 49/150\n",
      "4/4 [==============================] - 0s 6ms/step - loss: 0.7345 - accuracy: 0.4000 - val_loss: 0.6654 - val_accuracy: 0.6000\n",
      "Epoch 50/150\n",
      "4/4 [==============================] - 0s 6ms/step - loss: 0.7304 - accuracy: 0.4125 - val_loss: 0.6620 - val_accuracy: 0.6000\n",
      "Epoch 51/150\n",
      "4/4 [==============================] - 0s 6ms/step - loss: 0.7264 - accuracy: 0.4250 - val_loss: 0.6583 - val_accuracy: 0.6000\n",
      "Epoch 52/150\n",
      "4/4 [==============================] - 0s 6ms/step - loss: 0.7225 - accuracy: 0.4250 - val_loss: 0.6548 - val_accuracy: 0.6000\n",
      "Epoch 53/150\n",
      "4/4 [==============================] - 0s 6ms/step - loss: 0.7186 - accuracy: 0.4375 - val_loss: 0.6516 - val_accuracy: 0.6000\n",
      "Epoch 54/150\n",
      "4/4 [==============================] - 0s 6ms/step - loss: 0.7147 - accuracy: 0.4375 - val_loss: 0.6481 - val_accuracy: 0.6000\n",
      "Epoch 55/150\n",
      "4/4 [==============================] - 0s 6ms/step - loss: 0.7108 - accuracy: 0.4375 - val_loss: 0.6445 - val_accuracy: 0.6500\n",
      "Epoch 56/150\n",
      "4/4 [==============================] - 0s 6ms/step - loss: 0.7070 - accuracy: 0.4375 - val_loss: 0.6410 - val_accuracy: 0.6500\n",
      "Epoch 57/150\n",
      "4/4 [==============================] - 0s 6ms/step - loss: 0.7032 - accuracy: 0.4375 - val_loss: 0.6379 - val_accuracy: 0.6500\n",
      "Epoch 58/150\n",
      "4/4 [==============================] - 0s 6ms/step - loss: 0.6994 - accuracy: 0.4500 - val_loss: 0.6343 - val_accuracy: 0.7000\n",
      "Epoch 59/150\n",
      "4/4 [==============================] - 0s 6ms/step - loss: 0.6956 - accuracy: 0.4625 - val_loss: 0.6309 - val_accuracy: 0.7000\n",
      "Epoch 60/150\n",
      "4/4 [==============================] - 0s 6ms/step - loss: 0.6920 - accuracy: 0.4625 - val_loss: 0.6278 - val_accuracy: 0.7000\n",
      "Epoch 61/150\n",
      "4/4 [==============================] - 0s 6ms/step - loss: 0.6882 - accuracy: 0.4875 - val_loss: 0.6245 - val_accuracy: 0.7000\n",
      "Epoch 62/150\n",
      "4/4 [==============================] - 0s 6ms/step - loss: 0.6845 - accuracy: 0.5125 - val_loss: 0.6211 - val_accuracy: 0.7000\n",
      "Epoch 63/150\n",
      "4/4 [==============================] - 0s 7ms/step - loss: 0.6809 - accuracy: 0.5125 - val_loss: 0.6180 - val_accuracy: 0.7000\n",
      "Epoch 64/150\n",
      "4/4 [==============================] - 0s 6ms/step - loss: 0.6772 - accuracy: 0.5500 - val_loss: 0.6145 - val_accuracy: 0.7000\n",
      "Epoch 65/150\n",
      "4/4 [==============================] - 0s 6ms/step - loss: 0.6736 - accuracy: 0.5500 - val_loss: 0.6113 - val_accuracy: 0.7000\n",
      "Epoch 66/150\n",
      "4/4 [==============================] - 0s 6ms/step - loss: 0.6700 - accuracy: 0.5625 - val_loss: 0.6081 - val_accuracy: 0.7000\n",
      "Epoch 67/150\n",
      "4/4 [==============================] - 0s 7ms/step - loss: 0.6665 - accuracy: 0.5875 - val_loss: 0.6051 - val_accuracy: 0.7000\n",
      "Epoch 68/150\n",
      "4/4 [==============================] - 0s 7ms/step - loss: 0.6629 - accuracy: 0.6000 - val_loss: 0.6019 - val_accuracy: 0.7500\n",
      "Epoch 69/150\n",
      "4/4 [==============================] - 0s 6ms/step - loss: 0.6594 - accuracy: 0.6375 - val_loss: 0.5983 - val_accuracy: 0.7500\n",
      "Epoch 70/150\n",
      "4/4 [==============================] - 0s 6ms/step - loss: 0.6558 - accuracy: 0.6375 - val_loss: 0.5953 - val_accuracy: 0.8000\n",
      "Epoch 71/150\n",
      "4/4 [==============================] - 0s 6ms/step - loss: 0.6523 - accuracy: 0.6375 - val_loss: 0.5922 - val_accuracy: 0.8000\n",
      "Epoch 72/150\n",
      "4/4 [==============================] - 0s 6ms/step - loss: 0.6490 - accuracy: 0.6500 - val_loss: 0.5893 - val_accuracy: 0.8000\n",
      "Epoch 73/150\n",
      "4/4 [==============================] - 0s 7ms/step - loss: 0.6455 - accuracy: 0.6750 - val_loss: 0.5859 - val_accuracy: 0.8000\n",
      "Epoch 74/150\n",
      "4/4 [==============================] - 0s 6ms/step - loss: 0.6422 - accuracy: 0.7125 - val_loss: 0.5831 - val_accuracy: 0.8500\n",
      "Epoch 75/150\n",
      "4/4 [==============================] - 0s 6ms/step - loss: 0.6387 - accuracy: 0.7250 - val_loss: 0.5800 - val_accuracy: 0.8500\n",
      "Epoch 76/150\n",
      "4/4 [==============================] - 0s 6ms/step - loss: 0.6355 - accuracy: 0.7375 - val_loss: 0.5771 - val_accuracy: 0.8500\n",
      "Epoch 77/150\n",
      "4/4 [==============================] - 0s 6ms/step - loss: 0.6319 - accuracy: 0.7375 - val_loss: 0.5739 - val_accuracy: 0.8500\n",
      "Epoch 78/150\n",
      "4/4 [==============================] - 0s 6ms/step - loss: 0.6286 - accuracy: 0.7375 - val_loss: 0.5706 - val_accuracy: 0.8500\n",
      "Epoch 79/150\n",
      "4/4 [==============================] - 0s 6ms/step - loss: 0.6253 - accuracy: 0.7375 - val_loss: 0.5675 - val_accuracy: 0.8500\n",
      "Epoch 80/150\n",
      "4/4 [==============================] - 0s 6ms/step - loss: 0.6220 - accuracy: 0.7375 - val_loss: 0.5643 - val_accuracy: 0.8500\n",
      "Epoch 81/150\n",
      "4/4 [==============================] - 0s 6ms/step - loss: 0.6187 - accuracy: 0.7375 - val_loss: 0.5614 - val_accuracy: 0.8500\n",
      "Epoch 82/150\n",
      "4/4 [==============================] - 0s 6ms/step - loss: 0.6154 - accuracy: 0.7375 - val_loss: 0.5584 - val_accuracy: 0.8500\n",
      "Epoch 83/150\n",
      "4/4 [==============================] - 0s 6ms/step - loss: 0.6124 - accuracy: 0.7500 - val_loss: 0.5559 - val_accuracy: 0.8500\n",
      "Epoch 84/150\n",
      "4/4 [==============================] - 0s 6ms/step - loss: 0.6090 - accuracy: 0.7500 - val_loss: 0.5528 - val_accuracy: 0.8500\n",
      "Epoch 85/150\n",
      "4/4 [==============================] - 0s 6ms/step - loss: 0.6058 - accuracy: 0.7625 - val_loss: 0.5497 - val_accuracy: 0.8500\n",
      "Epoch 86/150\n",
      "4/4 [==============================] - 0s 6ms/step - loss: 0.6026 - accuracy: 0.7875 - val_loss: 0.5468 - val_accuracy: 0.8500\n",
      "Epoch 87/150\n",
      "4/4 [==============================] - 0s 6ms/step - loss: 0.5996 - accuracy: 0.7875 - val_loss: 0.5439 - val_accuracy: 0.9000\n",
      "Epoch 88/150\n",
      "4/4 [==============================] - 0s 7ms/step - loss: 0.5964 - accuracy: 0.7875 - val_loss: 0.5409 - val_accuracy: 0.9000\n",
      "Epoch 89/150\n",
      "4/4 [==============================] - 0s 6ms/step - loss: 0.5933 - accuracy: 0.7875 - val_loss: 0.5380 - val_accuracy: 0.9000\n",
      "Epoch 90/150\n",
      "4/4 [==============================] - 0s 7ms/step - loss: 0.5903 - accuracy: 0.7875 - val_loss: 0.5356 - val_accuracy: 0.9000\n",
      "Epoch 91/150\n",
      "4/4 [==============================] - 0s 6ms/step - loss: 0.5872 - accuracy: 0.8000 - val_loss: 0.5325 - val_accuracy: 0.9000\n",
      "Epoch 92/150\n",
      "4/4 [==============================] - 0s 6ms/step - loss: 0.5842 - accuracy: 0.8125 - val_loss: 0.5301 - val_accuracy: 0.9000\n",
      "Epoch 93/150\n",
      "4/4 [==============================] - 0s 6ms/step - loss: 0.5811 - accuracy: 0.8250 - val_loss: 0.5272 - val_accuracy: 0.9000\n",
      "Epoch 94/150\n",
      "4/4 [==============================] - 0s 6ms/step - loss: 0.5781 - accuracy: 0.8250 - val_loss: 0.5244 - val_accuracy: 0.9000\n",
      "Epoch 95/150\n",
      "4/4 [==============================] - 0s 6ms/step - loss: 0.5751 - accuracy: 0.8250 - val_loss: 0.5218 - val_accuracy: 0.9000\n",
      "Epoch 96/150\n",
      "4/4 [==============================] - 0s 6ms/step - loss: 0.5722 - accuracy: 0.8375 - val_loss: 0.5192 - val_accuracy: 0.9000\n",
      "Epoch 97/150\n",
      "4/4 [==============================] - 0s 6ms/step - loss: 0.5692 - accuracy: 0.8500 - val_loss: 0.5166 - val_accuracy: 0.9000\n",
      "Epoch 98/150\n",
      "4/4 [==============================] - 0s 6ms/step - loss: 0.5662 - accuracy: 0.8625 - val_loss: 0.5139 - val_accuracy: 0.9000\n",
      "Epoch 99/150\n",
      "4/4 [==============================] - 0s 6ms/step - loss: 0.5634 - accuracy: 0.8625 - val_loss: 0.5114 - val_accuracy: 0.9000\n",
      "Epoch 100/150\n",
      "4/4 [==============================] - 0s 6ms/step - loss: 0.5605 - accuracy: 0.8750 - val_loss: 0.5089 - val_accuracy: 0.9000\n",
      "Epoch 101/150\n",
      "4/4 [==============================] - 0s 6ms/step - loss: 0.5575 - accuracy: 0.8750 - val_loss: 0.5061 - val_accuracy: 0.9000\n",
      "Epoch 102/150\n",
      "4/4 [==============================] - 0s 7ms/step - loss: 0.5547 - accuracy: 0.8875 - val_loss: 0.5033 - val_accuracy: 0.9000\n",
      "Epoch 103/150\n",
      "4/4 [==============================] - 0s 7ms/step - loss: 0.5518 - accuracy: 0.9000 - val_loss: 0.5006 - val_accuracy: 0.9000\n",
      "Epoch 104/150\n",
      "4/4 [==============================] - 0s 6ms/step - loss: 0.5490 - accuracy: 0.9000 - val_loss: 0.4981 - val_accuracy: 0.9000\n",
      "Epoch 105/150\n",
      "4/4 [==============================] - 0s 6ms/step - loss: 0.5464 - accuracy: 0.9000 - val_loss: 0.4950 - val_accuracy: 0.9000\n",
      "Epoch 106/150\n",
      "4/4 [==============================] - 0s 6ms/step - loss: 0.5435 - accuracy: 0.9125 - val_loss: 0.4927 - val_accuracy: 0.9000\n",
      "Epoch 107/150\n",
      "4/4 [==============================] - 0s 6ms/step - loss: 0.5407 - accuracy: 0.9250 - val_loss: 0.4902 - val_accuracy: 0.9000\n",
      "Epoch 108/150\n",
      "4/4 [==============================] - 0s 6ms/step - loss: 0.5379 - accuracy: 0.9375 - val_loss: 0.4877 - val_accuracy: 0.9000\n",
      "Epoch 109/150\n",
      "4/4 [==============================] - 0s 6ms/step - loss: 0.5352 - accuracy: 0.9375 - val_loss: 0.4851 - val_accuracy: 0.9000\n",
      "Epoch 110/150\n",
      "4/4 [==============================] - 0s 6ms/step - loss: 0.5325 - accuracy: 0.9375 - val_loss: 0.4824 - val_accuracy: 0.9000\n",
      "Epoch 111/150\n",
      "4/4 [==============================] - 0s 7ms/step - loss: 0.5297 - accuracy: 0.9375 - val_loss: 0.4800 - val_accuracy: 0.9000\n",
      "Epoch 112/150\n",
      "4/4 [==============================] - 0s 6ms/step - loss: 0.5271 - accuracy: 0.9375 - val_loss: 0.4775 - val_accuracy: 0.9500\n",
      "Epoch 113/150\n",
      "4/4 [==============================] - 0s 7ms/step - loss: 0.5244 - accuracy: 0.9375 - val_loss: 0.4752 - val_accuracy: 0.9500\n",
      "Epoch 114/150\n",
      "4/4 [==============================] - 0s 8ms/step - loss: 0.5218 - accuracy: 0.9375 - val_loss: 0.4727 - val_accuracy: 0.9500\n",
      "Epoch 115/150\n",
      "4/4 [==============================] - 0s 6ms/step - loss: 0.5192 - accuracy: 0.9375 - val_loss: 0.4706 - val_accuracy: 1.0000\n",
      "Epoch 116/150\n",
      "4/4 [==============================] - 0s 6ms/step - loss: 0.5165 - accuracy: 0.9375 - val_loss: 0.4682 - val_accuracy: 1.0000\n",
      "Epoch 117/150\n",
      "4/4 [==============================] - 0s 6ms/step - loss: 0.5139 - accuracy: 0.9375 - val_loss: 0.4657 - val_accuracy: 1.0000\n",
      "Epoch 118/150\n",
      "4/4 [==============================] - 0s 6ms/step - loss: 0.5113 - accuracy: 0.9500 - val_loss: 0.4634 - val_accuracy: 1.0000\n",
      "Epoch 119/150\n",
      "4/4 [==============================] - 0s 6ms/step - loss: 0.5088 - accuracy: 0.9500 - val_loss: 0.4608 - val_accuracy: 1.0000\n",
      "Epoch 120/150\n",
      "4/4 [==============================] - 0s 6ms/step - loss: 0.5062 - accuracy: 0.9500 - val_loss: 0.4586 - val_accuracy: 1.0000\n",
      "Epoch 121/150\n",
      "4/4 [==============================] - 0s 6ms/step - loss: 0.5036 - accuracy: 0.9500 - val_loss: 0.4562 - val_accuracy: 1.0000\n",
      "Epoch 122/150\n",
      "4/4 [==============================] - 0s 6ms/step - loss: 0.5012 - accuracy: 0.9500 - val_loss: 0.4541 - val_accuracy: 1.0000\n",
      "Epoch 123/150\n",
      "4/4 [==============================] - 0s 6ms/step - loss: 0.4987 - accuracy: 0.9500 - val_loss: 0.4518 - val_accuracy: 1.0000\n",
      "Epoch 124/150\n",
      "4/4 [==============================] - 0s 6ms/step - loss: 0.4962 - accuracy: 0.9500 - val_loss: 0.4493 - val_accuracy: 1.0000\n",
      "Epoch 125/150\n",
      "4/4 [==============================] - 0s 6ms/step - loss: 0.4938 - accuracy: 0.9500 - val_loss: 0.4473 - val_accuracy: 1.0000\n",
      "Epoch 126/150\n",
      "4/4 [==============================] - 0s 6ms/step - loss: 0.4912 - accuracy: 0.9500 - val_loss: 0.4449 - val_accuracy: 1.0000\n",
      "Epoch 127/150\n",
      "4/4 [==============================] - 0s 7ms/step - loss: 0.4887 - accuracy: 0.9500 - val_loss: 0.4427 - val_accuracy: 1.0000\n",
      "Epoch 128/150\n",
      "4/4 [==============================] - 0s 6ms/step - loss: 0.4863 - accuracy: 0.9625 - val_loss: 0.4403 - val_accuracy: 1.0000\n",
      "Epoch 129/150\n",
      "4/4 [==============================] - 0s 6ms/step - loss: 0.4839 - accuracy: 0.9625 - val_loss: 0.4381 - val_accuracy: 1.0000\n",
      "Epoch 130/150\n",
      "4/4 [==============================] - 0s 6ms/step - loss: 0.4815 - accuracy: 0.9625 - val_loss: 0.4358 - val_accuracy: 1.0000\n",
      "Epoch 131/150\n",
      "4/4 [==============================] - 0s 6ms/step - loss: 0.4791 - accuracy: 0.9625 - val_loss: 0.4334 - val_accuracy: 1.0000\n",
      "Epoch 132/150\n",
      "4/4 [==============================] - 0s 6ms/step - loss: 0.4768 - accuracy: 0.9625 - val_loss: 0.4313 - val_accuracy: 1.0000\n",
      "Epoch 133/150\n",
      "4/4 [==============================] - 0s 6ms/step - loss: 0.4744 - accuracy: 0.9750 - val_loss: 0.4290 - val_accuracy: 1.0000\n",
      "Epoch 134/150\n",
      "4/4 [==============================] - 0s 7ms/step - loss: 0.4720 - accuracy: 0.9750 - val_loss: 0.4270 - val_accuracy: 1.0000\n",
      "Epoch 135/150\n",
      "4/4 [==============================] - 0s 7ms/step - loss: 0.4697 - accuracy: 0.9750 - val_loss: 0.4250 - val_accuracy: 1.0000\n",
      "Epoch 136/150\n",
      "4/4 [==============================] - 0s 7ms/step - loss: 0.4674 - accuracy: 0.9750 - val_loss: 0.4229 - val_accuracy: 1.0000\n",
      "Epoch 137/150\n",
      "4/4 [==============================] - 0s 6ms/step - loss: 0.4651 - accuracy: 0.9750 - val_loss: 0.4206 - val_accuracy: 1.0000\n",
      "Epoch 138/150\n",
      "4/4 [==============================] - 0s 6ms/step - loss: 0.4627 - accuracy: 0.9750 - val_loss: 0.4186 - val_accuracy: 1.0000\n",
      "Epoch 139/150\n",
      "4/4 [==============================] - 0s 6ms/step - loss: 0.4605 - accuracy: 0.9750 - val_loss: 0.4166 - val_accuracy: 1.0000\n",
      "Epoch 140/150\n",
      "4/4 [==============================] - 0s 6ms/step - loss: 0.4582 - accuracy: 0.9750 - val_loss: 0.4143 - val_accuracy: 1.0000\n",
      "Epoch 141/150\n",
      "4/4 [==============================] - 0s 6ms/step - loss: 0.4560 - accuracy: 0.9750 - val_loss: 0.4122 - val_accuracy: 1.0000\n",
      "Epoch 142/150\n",
      "4/4 [==============================] - 0s 7ms/step - loss: 0.4537 - accuracy: 0.9750 - val_loss: 0.4102 - val_accuracy: 1.0000\n",
      "Epoch 143/150\n",
      "4/4 [==============================] - 0s 6ms/step - loss: 0.4515 - accuracy: 0.9750 - val_loss: 0.4082 - val_accuracy: 1.0000\n",
      "Epoch 144/150\n",
      "4/4 [==============================] - 0s 6ms/step - loss: 0.4493 - accuracy: 0.9750 - val_loss: 0.4062 - val_accuracy: 1.0000\n",
      "Epoch 145/150\n",
      "4/4 [==============================] - 0s 7ms/step - loss: 0.4471 - accuracy: 0.9750 - val_loss: 0.4040 - val_accuracy: 1.0000\n",
      "Epoch 146/150\n",
      "4/4 [==============================] - 0s 6ms/step - loss: 0.4449 - accuracy: 0.9750 - val_loss: 0.4020 - val_accuracy: 1.0000\n",
      "Epoch 147/150\n",
      "4/4 [==============================] - 0s 6ms/step - loss: 0.4428 - accuracy: 0.9750 - val_loss: 0.4002 - val_accuracy: 1.0000\n",
      "Epoch 148/150\n",
      "4/4 [==============================] - 0s 6ms/step - loss: 0.4406 - accuracy: 0.9750 - val_loss: 0.3981 - val_accuracy: 1.0000\n",
      "Epoch 149/150\n",
      "4/4 [==============================] - 0s 6ms/step - loss: 0.4385 - accuracy: 0.9750 - val_loss: 0.3961 - val_accuracy: 1.0000\n",
      "Epoch 150/150\n",
      "4/4 [==============================] - 0s 6ms/step - loss: 0.4363 - accuracy: 0.9750 - val_loss: 0.3943 - val_accuracy: 1.0000\n"
     ]
    }
   ],
   "source": [
    "his = model.fit(X_train, Y_train, epochs=150, batch_size=20, validation_data=(X_test, Y_test))"
   ],
   "metadata": {
    "collapsed": false,
    "ExecuteTime": {
     "end_time": "2023-08-14T04:10:48.697055360Z",
     "start_time": "2023-08-14T04:10:45.150661009Z"
    }
   },
   "id": "f718e55e91b9a3de"
  },
  {
   "cell_type": "markdown",
   "source": [
    "#### Đánh giá model"
   ],
   "metadata": {
    "collapsed": false
   },
   "id": "9503e7ebd1219152"
  },
  {
   "cell_type": "code",
   "execution_count": 67,
   "outputs": [],
   "source": [
    "import matplotlib.pyplot as plt"
   ],
   "metadata": {
    "collapsed": false,
    "ExecuteTime": {
     "end_time": "2023-08-14T04:10:48.737840737Z",
     "start_time": "2023-08-14T04:10:48.698079708Z"
    }
   },
   "id": "ba88e18ee523977d"
  },
  {
   "cell_type": "code",
   "execution_count": 68,
   "outputs": [
    {
     "data": {
      "text/plain": "[<matplotlib.lines.Line2D at 0x7fe392840310>]"
     },
     "execution_count": 68,
     "metadata": {},
     "output_type": "execute_result"
    },
    {
     "data": {
      "text/plain": "<Figure size 640x480 with 1 Axes>",
      "image/png": "[encoded data removed]"
     },
     "metadata": {},
     "output_type": "display_data"
    }
   ],
   "source": [
    "plt.plot(his.history['loss'])"
   ],
   "metadata": {
    "collapsed": false,
    "ExecuteTime": {
     "end_time": "2023-08-14T04:10:49.017945032Z",
     "start_time": "2023-08-14T04:10:48.700956795Z"
    }
   },
   "id": "e5bd640f1161ca22"
  },
  {
   "cell_type": "code",
   "execution_count": 69,
   "outputs": [
    {
     "data": {
      "text/plain": "[<matplotlib.lines.Line2D at 0x7fe391e76cb0>]"
     },
     "execution_count": 69,
     "metadata": {},
     "output_type": "execute_result"
    },
    {
     "data": {
      "text/plain": "<Figure size 640x480 with 1 Axes>",
      "image/png": "[encoded data removed]"
     },
     "metadata": {},
     "output_type": "display_data"
    }
   ],
   "source": [
    "plt.plot(his.history['accuracy'])"
   ],
   "metadata": {
    "collapsed": false,
    "ExecuteTime": {
     "end_time": "2023-08-14T04:10:49.166151Z",
     "start_time": "2023-08-14T04:10:49.008928265Z"
    }
   },
   "id": "9a8335daa9990e7c"
  },
  {
   "cell_type": "code",
   "execution_count": 70,
   "outputs": [
    {
     "data": {
      "text/plain": "[<matplotlib.lines.Line2D at 0x7fe391e4fbe0>]"
     },
     "execution_count": 70,
     "metadata": {},
     "output_type": "execute_result"
    },
    {
     "data": {
      "text/plain": "<Figure size 640x480 with 1 Axes>",
      "image/png": "[encoded data removed]"
     },
     "metadata": {},
     "output_type": "display_data"
    }
   ],
   "source": [
    "plt.plot(his.history['val_loss'])"
   ],
   "metadata": {
    "collapsed": false,
    "ExecuteTime": {
     "end_time": "2023-08-14T04:10:49.281614750Z",
     "start_time": "2023-08-14T04:10:49.158385606Z"
    }
   },
   "id": "72c8bc43633fe9dd"
  },
  {
   "cell_type": "code",
   "execution_count": 71,
   "outputs": [
    {
     "data": {
      "text/plain": "[<matplotlib.lines.Line2D at 0x7fe392440100>]"
     },
     "execution_count": 71,
     "metadata": {},
     "output_type": "execute_result"
    },
    {
     "data": {
      "text/plain": "<Figure size 640x480 with 1 Axes>",
      "image/png": "[encoded data removed]"
     },
     "metadata": {},
     "output_type": "display_data"
    }
   ],
   "source": [
    "plt.plot(his.history['val_accuracy'])"
   ],
   "metadata": {
    "collapsed": false,
    "ExecuteTime": {
     "end_time": "2023-08-14T04:10:49.411026363Z",
     "start_time": "2023-08-14T04:10:49.266387600Z"
    }
   },
   "id": "c31a149dde4608ef"
  }
 ],
 "metadata": {
  "kernelspec": {
   "display_name": "Python 3",
   "language": "python",
   "name": "python3"
  },
  "language_info": {
   "codemirror_mode": {
    "name": "ipython",
    "version": 2
   },
   "file_extension": ".py",
   "mimetype": "text/x-python",
   "name": "python",
   "nbconvert_exporter": "python",
   "pygments_lexer": "ipython2",
   "version": "2.7.6"
  }
 },
 "nbformat": 4,
 "nbformat_minor": 5
}
