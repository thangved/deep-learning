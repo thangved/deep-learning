{
 "cells": [
  {
   "cell_type": "markdown",
   "id": "50d8fa74af094323",
   "metadata": {
    "collapsed": false
   },
   "source": [
    "# Báo cáo: Phân loại iris bằng mạng Perceptron đơn tầng\n",
    "\n",
    "- Họ tên: Kim Minh Thắng\n",
    "- Mã số sinh viên: B2007210\n",
    "\n",
    "## Bài 1\n",
    "\n",
    "### Yêu cầu\n",
    "\n",
    "Xây dựng mô hình:\n",
    "- 1 Tầng (Dense) gồm 1 neuron\n",
    "- input_shape: (4,)\n",
    "- use_bias: `True`\n",
    "- activation: `sigmoid`\n",
    "\n",
    "Biên dịch mô hình:\n",
    "- optimizer = `adam`\n",
    "- loss: `binary_crossentropy`\n",
    "- metrics: `['accuracy']`\n",
    "\n",
    "### Bài làm\n",
    "\n",
    "#### Đọc và xử lý dữ liệu\n",
    "\n",
    "Load dữ liệu từ file `Iris.csv` và giữ lại 100 dòng đầu tiên."
   ]
  },
  {
   "cell_type": "code",
   "execution_count": 28,
   "id": "initial_id",
   "metadata": {
    "collapsed": true,
    "ExecuteTime": {
     "end_time": "2023-08-15T03:48:20.104785329Z",
     "start_time": "2023-08-15T03:48:20.019126645Z"
    }
   },
   "outputs": [],
   "source": [
    "import pandas as pd\n",
    "import numpy as np"
   ]
  },
  {
   "cell_type": "code",
   "execution_count": 29,
   "id": "9a72e34824cc3dc6",
   "metadata": {
    "collapsed": false,
    "ExecuteTime": {
     "end_time": "2023-08-15T03:48:20.123771912Z",
     "start_time": "2023-08-15T03:48:20.026076368Z"
    }
   },
   "outputs": [],
   "source": [
    "df = pd.read_csv(\"./Iris.csv\")"
   ]
  },
  {
   "cell_type": "code",
   "execution_count": 30,
   "id": "8f439f06d8007b4f",
   "metadata": {
    "collapsed": false,
    "ExecuteTime": {
     "end_time": "2023-08-15T03:48:20.249180152Z",
     "start_time": "2023-08-15T03:48:20.041065622Z"
    }
   },
   "outputs": [
    {
     "data": {
      "text/plain": "     Id  SepalLengthCm  SepalWidthCm  PetalLengthCm  PetalWidthCm  \\\n0     1            5.1           3.5            1.4           0.2   \n1     2            4.9           3.0            1.4           0.2   \n2     3            4.7           3.2            1.3           0.2   \n3     4            4.6           3.1            1.5           0.2   \n4     5            5.0           3.6            1.4           0.2   \n..  ...            ...           ...            ...           ...   \n95   96            5.7           3.0            4.2           1.2   \n96   97            5.7           2.9            4.2           1.3   \n97   98            6.2           2.9            4.3           1.3   \n98   99            5.1           2.5            3.0           1.1   \n99  100            5.7           2.8            4.1           1.3   \n\n            Species  \n0       Iris-setosa  \n1       Iris-setosa  \n2       Iris-setosa  \n3       Iris-setosa  \n4       Iris-setosa  \n..              ...  \n95  Iris-versicolor  \n96  Iris-versicolor  \n97  Iris-versicolor  \n98  Iris-versicolor  \n99  Iris-versicolor  \n\n[100 rows x 6 columns]",
      "text/html": "<div>\n<style scoped>\n    .dataframe tbody tr th:only-of-type {\n        vertical-align: middle;\n    }\n\n    .dataframe tbody tr th {\n        vertical-align: top;\n    }\n\n    .dataframe thead th {\n        text-align: right;\n    }\n</style>\n<table border=\"1\" class=\"dataframe\">\n  <thead>\n    <tr style=\"text-align: right;\">\n      <th></th>\n      <th>Id</th>\n      <th>SepalLengthCm</th>\n      <th>SepalWidthCm</th>\n      <th>PetalLengthCm</th>\n      <th>PetalWidthCm</th>\n      <th>Species</th>\n    </tr>\n  </thead>\n  <tbody>\n    <tr>\n      <th>0</th>\n      <td>1</td>\n      <td>5.1</td>\n      <td>3.5</td>\n      <td>1.4</td>\n      <td>0.2</td>\n      <td>Iris-setosa</td>\n    </tr>\n    <tr>\n      <th>1</th>\n      <td>2</td>\n      <td>4.9</td>\n      <td>3.0</td>\n      <td>1.4</td>\n      <td>0.2</td>\n      <td>Iris-setosa</td>\n    </tr>\n    <tr>\n      <th>2</th>\n      <td>3</td>\n      <td>4.7</td>\n      <td>3.2</td>\n      <td>1.3</td>\n      <td>0.2</td>\n      <td>Iris-setosa</td>\n    </tr>\n    <tr>\n      <th>3</th>\n      <td>4</td>\n      <td>4.6</td>\n      <td>3.1</td>\n      <td>1.5</td>\n      <td>0.2</td>\n      <td>Iris-setosa</td>\n    </tr>\n    <tr>\n      <th>4</th>\n      <td>5</td>\n      <td>5.0</td>\n      <td>3.6</td>\n      <td>1.4</td>\n      <td>0.2</td>\n      <td>Iris-setosa</td>\n    </tr>\n    <tr>\n      <th>...</th>\n      <td>...</td>\n      <td>...</td>\n      <td>...</td>\n      <td>...</td>\n      <td>...</td>\n      <td>...</td>\n    </tr>\n    <tr>\n      <th>95</th>\n      <td>96</td>\n      <td>5.7</td>\n      <td>3.0</td>\n      <td>4.2</td>\n      <td>1.2</td>\n      <td>Iris-versicolor</td>\n    </tr>\n    <tr>\n      <th>96</th>\n      <td>97</td>\n      <td>5.7</td>\n      <td>2.9</td>\n      <td>4.2</td>\n      <td>1.3</td>\n      <td>Iris-versicolor</td>\n    </tr>\n    <tr>\n      <th>97</th>\n      <td>98</td>\n      <td>6.2</td>\n      <td>2.9</td>\n      <td>4.3</td>\n      <td>1.3</td>\n      <td>Iris-versicolor</td>\n    </tr>\n    <tr>\n      <th>98</th>\n      <td>99</td>\n      <td>5.1</td>\n      <td>2.5</td>\n      <td>3.0</td>\n      <td>1.1</td>\n      <td>Iris-versicolor</td>\n    </tr>\n    <tr>\n      <th>99</th>\n      <td>100</td>\n      <td>5.7</td>\n      <td>2.8</td>\n      <td>4.1</td>\n      <td>1.3</td>\n      <td>Iris-versicolor</td>\n    </tr>\n  </tbody>\n</table>\n<p>100 rows × 6 columns</p>\n</div>"
     },
     "execution_count": 30,
     "metadata": {},
     "output_type": "execute_result"
    }
   ],
   "source": [
    "df = df.head(100)\n",
    "df"
   ]
  },
  {
   "cell_type": "markdown",
   "id": "1e06851a5ec2df21",
   "metadata": {
    "collapsed": false
   },
   "source": [
    "Tách các cột đặc trưng và nhãn"
   ]
  },
  {
   "cell_type": "code",
   "execution_count": 31,
   "id": "bf7f8649d63e4b1",
   "metadata": {
    "collapsed": false,
    "ExecuteTime": {
     "end_time": "2023-08-15T03:48:20.275529408Z",
     "start_time": "2023-08-15T03:48:20.047279181Z"
    }
   },
   "outputs": [],
   "source": [
    "X = df[['SepalLengthCm', 'SepalWidthCm', 'PetalLengthCm', 'PetalWidthCm']]\n",
    "X = np.asarray(X)"
   ]
  },
  {
   "cell_type": "markdown",
   "id": "391347c097d04105",
   "metadata": {
    "collapsed": false
   },
   "source": [
    "Chuyển nhãn về dạng số"
   ]
  },
  {
   "cell_type": "code",
   "execution_count": 32,
   "id": "25c7f3ad4690e959",
   "metadata": {
    "collapsed": false,
    "ExecuteTime": {
     "end_time": "2023-08-15T03:48:20.278414109Z",
     "start_time": "2023-08-15T03:48:20.051391769Z"
    }
   },
   "outputs": [],
   "source": [
    "d = dict()\n",
    "d['Iris-setosa'] = 0\n",
    "d['Iris-versicolor'] = 1\n",
    "\n",
    "Y = df['Species']\n",
    "Y = [d[y] for y in Y]\n",
    "Y = np.asarray(Y)"
   ]
  },
  {
   "cell_type": "markdown",
   "id": "60a1b86e0f40f8bc",
   "metadata": {
    "collapsed": false
   },
   "source": [
    "Tách dataset thành dữ liệu train và test với tỉ lệ `80:20`"
   ]
  },
  {
   "cell_type": "code",
   "execution_count": 33,
   "id": "fc8543ab1d3b7c41",
   "metadata": {
    "collapsed": false,
    "ExecuteTime": {
     "end_time": "2023-08-15T03:48:20.281233608Z",
     "start_time": "2023-08-15T03:48:20.058835814Z"
    }
   },
   "outputs": [],
   "source": [
    "from sklearn.model_selection import train_test_split"
   ]
  },
  {
   "cell_type": "code",
   "execution_count": 34,
   "id": "230e04a286e0d114",
   "metadata": {
    "collapsed": false,
    "ExecuteTime": {
     "end_time": "2023-08-15T03:48:20.309982579Z",
     "start_time": "2023-08-15T03:48:20.059052952Z"
    }
   },
   "outputs": [],
   "source": [
    "X_train, X_test, Y_train, Y_test = train_test_split(X, Y, test_size=0.2)"
   ]
  },
  {
   "cell_type": "markdown",
   "id": "6b4ff1524fe9b022",
   "metadata": {
    "collapsed": false
   },
   "source": [
    "#### Tạo model và biên dịch"
   ]
  },
  {
   "cell_type": "code",
   "execution_count": 35,
   "id": "98c9316a551f8891",
   "metadata": {
    "collapsed": false,
    "ExecuteTime": {
     "end_time": "2023-08-15T03:48:20.352309994Z",
     "start_time": "2023-08-15T03:48:20.067672827Z"
    }
   },
   "outputs": [],
   "source": [
    "from keras.models import Sequential\n",
    "from keras.layers import Dense\n",
    "\n",
    "model = Sequential()\n",
    "model.add(Dense(1, input_shape=(4,), activation='sigmoid'))\n",
    "model.compile(optimizer='adam', loss='binary_crossentropy', metrics=['accuracy'])"
   ]
  },
  {
   "cell_type": "markdown",
   "id": "d8d3839eda8e5f9a",
   "metadata": {
    "collapsed": false
   },
   "source": [
    "#### Train model"
   ]
  },
  {
   "cell_type": "code",
   "execution_count": 36,
   "id": "f718e55e91b9a3de",
   "metadata": {
    "collapsed": false,
    "ExecuteTime": {
     "end_time": "2023-08-15T03:48:23.484731812Z",
     "start_time": "2023-08-15T03:48:20.109855222Z"
    }
   },
   "outputs": [],
   "source": [
    "his = model.fit(X_train, Y_train, epochs=150, batch_size=20, validation_data=(X_test, Y_test), verbose=0)"
   ]
  },
  {
   "cell_type": "markdown",
   "id": "9503e7ebd1219152",
   "metadata": {
    "collapsed": false
   },
   "source": [
    "#### Đánh giá model"
   ]
  },
  {
   "cell_type": "code",
   "execution_count": 37,
   "id": "b9a7cf906feeb5a",
   "metadata": {
    "collapsed": false,
    "ExecuteTime": {
     "end_time": "2023-08-15T03:48:23.553401694Z",
     "start_time": "2023-08-15T03:48:23.469812702Z"
    }
   },
   "outputs": [],
   "source": [
    "score = model.evaluate(X_test, Y_test, verbose=0)"
   ]
  },
  {
   "cell_type": "code",
   "execution_count": 38,
   "id": "ca4c41e669937d36",
   "metadata": {
    "collapsed": false,
    "ExecuteTime": {
     "end_time": "2023-08-15T03:48:23.600528580Z",
     "start_time": "2023-08-15T03:48:23.532459957Z"
    }
   },
   "outputs": [
    {
     "name": "stdout",
     "output_type": "stream",
     "text": [
      "Loss:  0.8840756416320801\n",
      "Accuracy:  0.0\n"
     ]
    }
   ],
   "source": [
    "print('Loss: ', score[0])\n",
    "print('Accuracy: ', score[1])"
   ]
  },
  {
   "cell_type": "code",
   "execution_count": 39,
   "outputs": [],
   "source": [
    "import matplotlib.pyplot as plt"
   ],
   "metadata": {
    "collapsed": false,
    "ExecuteTime": {
     "end_time": "2023-08-15T03:48:23.600868513Z",
     "start_time": "2023-08-15T03:48:23.573835825Z"
    }
   },
   "id": "a0765bd1d4a32cae"
  },
  {
   "cell_type": "code",
   "execution_count": 40,
   "outputs": [
    {
     "data": {
      "text/plain": "[<matplotlib.lines.Line2D at 0x7f8339611390>]"
     },
     "execution_count": 40,
     "metadata": {},
     "output_type": "execute_result"
    },
    {
     "data": {
      "text/plain": "<Figure size 640x480 with 1 Axes>",
      "image/png": "[encoded data removed]"
     },
     "metadata": {},
     "output_type": "display_data"
    }
   ],
   "source": [
    "plt.plot(his.history['accuracy'])"
   ],
   "metadata": {
    "collapsed": false,
    "ExecuteTime": {
     "end_time": "2023-08-15T03:48:23.731956749Z",
     "start_time": "2023-08-15T03:48:23.573989984Z"
    }
   },
   "id": "b3a79d2351a8cefd"
  },
  {
   "cell_type": "code",
   "execution_count": 41,
   "outputs": [
    {
     "data": {
      "text/plain": "[<matplotlib.lines.Line2D at 0x7f833956de40>]"
     },
     "execution_count": 41,
     "metadata": {},
     "output_type": "execute_result"
    },
    {
     "data": {
      "text/plain": "<Figure size 640x480 with 1 Axes>",
      "image/png": "[encoded data removed]"
     },
     "metadata": {},
     "output_type": "display_data"
    }
   ],
   "source": [
    "plt.plot(his.history['loss'])"
   ],
   "metadata": {
    "collapsed": false,
    "ExecuteTime": {
     "end_time": "2023-08-15T03:48:23.858627588Z",
     "start_time": "2023-08-15T03:48:23.717831789Z"
    }
   },
   "id": "6b4674f3ee407d6a"
  },
  {
   "cell_type": "markdown",
   "id": "732d64af0a9c6bfc",
   "metadata": {
    "collapsed": false
   },
   "source": [
    "## Bài 2\n",
    "\n",
    "### Yêu cầu\n",
    "\n",
    "Xây dựng mô hình:\n",
    "- 1 Tầng (Dense) gồm 3 neuron\n",
    "- input_shape: (4,)\n",
    "- use_bias: `True`\n",
    "- activation: `softmax`\n",
    "\n",
    "Biên dịch mô hình:\n",
    "- optimizer = `adam`\n",
    "- loss: `square_categorical_crossentropy`\n",
    "- metrics: `['accuracy']`\n",
    "\n",
    "### Bài làm\n",
    "\n",
    "#### Đọc và xử lý dữ liệu\n",
    "\n",
    "Load dữ liệu từ file `Iris.csv`"
   ]
  },
  {
   "cell_type": "code",
   "execution_count": 42,
   "id": "13dc95a1897230dd",
   "metadata": {
    "collapsed": false,
    "ExecuteTime": {
     "end_time": "2023-08-15T03:48:23.858881166Z",
     "start_time": "2023-08-15T03:48:23.857931972Z"
    }
   },
   "outputs": [],
   "source": [
    "import pandas as pd\n",
    "import numpy as np"
   ]
  },
  {
   "cell_type": "code",
   "execution_count": 43,
   "id": "7d7b66dc65e4d666",
   "metadata": {
    "collapsed": false,
    "ExecuteTime": {
     "end_time": "2023-08-15T03:48:23.859740672Z",
     "start_time": "2023-08-15T03:48:23.858133953Z"
    }
   },
   "outputs": [
    {
     "data": {
      "text/plain": "      Id  SepalLengthCm  SepalWidthCm  PetalLengthCm  PetalWidthCm  \\\n0      1            5.1           3.5            1.4           0.2   \n1      2            4.9           3.0            1.4           0.2   \n2      3            4.7           3.2            1.3           0.2   \n3      4            4.6           3.1            1.5           0.2   \n4      5            5.0           3.6            1.4           0.2   \n..   ...            ...           ...            ...           ...   \n145  146            6.7           3.0            5.2           2.3   \n146  147            6.3           2.5            5.0           1.9   \n147  148            6.5           3.0            5.2           2.0   \n148  149            6.2           3.4            5.4           2.3   \n149  150            5.9           3.0            5.1           1.8   \n\n            Species  \n0       Iris-setosa  \n1       Iris-setosa  \n2       Iris-setosa  \n3       Iris-setosa  \n4       Iris-setosa  \n..              ...  \n145  Iris-virginica  \n146  Iris-virginica  \n147  Iris-virginica  \n148  Iris-virginica  \n149  Iris-virginica  \n\n[150 rows x 6 columns]",
      "text/html": "<div>\n<style scoped>\n    .dataframe tbody tr th:only-of-type {\n        vertical-align: middle;\n    }\n\n    .dataframe tbody tr th {\n        vertical-align: top;\n    }\n\n    .dataframe thead th {\n        text-align: right;\n    }\n</style>\n<table border=\"1\" class=\"dataframe\">\n  <thead>\n    <tr style=\"text-align: right;\">\n      <th></th>\n      <th>Id</th>\n      <th>SepalLengthCm</th>\n      <th>SepalWidthCm</th>\n      <th>PetalLengthCm</th>\n      <th>PetalWidthCm</th>\n      <th>Species</th>\n    </tr>\n  </thead>\n  <tbody>\n    <tr>\n      <th>0</th>\n      <td>1</td>\n      <td>5.1</td>\n      <td>3.5</td>\n      <td>1.4</td>\n      <td>0.2</td>\n      <td>Iris-setosa</td>\n    </tr>\n    <tr>\n      <th>1</th>\n      <td>2</td>\n      <td>4.9</td>\n      <td>3.0</td>\n      <td>1.4</td>\n      <td>0.2</td>\n      <td>Iris-setosa</td>\n    </tr>\n    <tr>\n      <th>2</th>\n      <td>3</td>\n      <td>4.7</td>\n      <td>3.2</td>\n      <td>1.3</td>\n      <td>0.2</td>\n      <td>Iris-setosa</td>\n    </tr>\n    <tr>\n      <th>3</th>\n      <td>4</td>\n      <td>4.6</td>\n      <td>3.1</td>\n      <td>1.5</td>\n      <td>0.2</td>\n      <td>Iris-setosa</td>\n    </tr>\n    <tr>\n      <th>4</th>\n      <td>5</td>\n      <td>5.0</td>\n      <td>3.6</td>\n      <td>1.4</td>\n      <td>0.2</td>\n      <td>Iris-setosa</td>\n    </tr>\n    <tr>\n      <th>...</th>\n      <td>...</td>\n      <td>...</td>\n      <td>...</td>\n      <td>...</td>\n      <td>...</td>\n      <td>...</td>\n    </tr>\n    <tr>\n      <th>145</th>\n      <td>146</td>\n      <td>6.7</td>\n      <td>3.0</td>\n      <td>5.2</td>\n      <td>2.3</td>\n      <td>Iris-virginica</td>\n    </tr>\n    <tr>\n      <th>146</th>\n      <td>147</td>\n      <td>6.3</td>\n      <td>2.5</td>\n      <td>5.0</td>\n      <td>1.9</td>\n      <td>Iris-virginica</td>\n    </tr>\n    <tr>\n      <th>147</th>\n      <td>148</td>\n      <td>6.5</td>\n      <td>3.0</td>\n      <td>5.2</td>\n      <td>2.0</td>\n      <td>Iris-virginica</td>\n    </tr>\n    <tr>\n      <th>148</th>\n      <td>149</td>\n      <td>6.2</td>\n      <td>3.4</td>\n      <td>5.4</td>\n      <td>2.3</td>\n      <td>Iris-virginica</td>\n    </tr>\n    <tr>\n      <th>149</th>\n      <td>150</td>\n      <td>5.9</td>\n      <td>3.0</td>\n      <td>5.1</td>\n      <td>1.8</td>\n      <td>Iris-virginica</td>\n    </tr>\n  </tbody>\n</table>\n<p>150 rows × 6 columns</p>\n</div>"
     },
     "execution_count": 43,
     "metadata": {},
     "output_type": "execute_result"
    }
   ],
   "source": [
    "df = pd.read_csv(\"./Iris.csv\")\n",
    "df"
   ]
  },
  {
   "cell_type": "markdown",
   "id": "120716582c4ed9d1",
   "metadata": {
    "collapsed": false
   },
   "source": [
    "Tách các cột đặc trưng và nhãn"
   ]
  },
  {
   "cell_type": "code",
   "execution_count": 44,
   "id": "1992047bc3730bf4",
   "metadata": {
    "collapsed": false,
    "ExecuteTime": {
     "end_time": "2023-08-15T03:48:23.859947674Z",
     "start_time": "2023-08-15T03:48:23.858234941Z"
    }
   },
   "outputs": [],
   "source": [
    "X = df[['SepalLengthCm', 'SepalWidthCm', 'PetalLengthCm', 'PetalWidthCm']]\n",
    "X = np.asarray(X)"
   ]
  },
  {
   "cell_type": "code",
   "execution_count": 45,
   "id": "214710d66a28e1e",
   "metadata": {
    "collapsed": false,
    "ExecuteTime": {
     "end_time": "2023-08-15T03:48:23.860066889Z",
     "start_time": "2023-08-15T03:48:23.858315170Z"
    }
   },
   "outputs": [],
   "source": [
    "d = dict()\n",
    "d['Iris-setosa'] = 0\n",
    "d['Iris-versicolor'] = 1\n",
    "d['Iris-virginica'] = 2\n",
    "\n",
    "Y = df['Species']\n",
    "Y = [d[y] for y in Y]\n",
    "Y = np.asarray(Y)"
   ]
  },
  {
   "cell_type": "markdown",
   "id": "7ec6b12291483f0b",
   "metadata": {
    "collapsed": false
   },
   "source": [
    "Tách dataset thành dữ liệu train và test với tỉ lệ `80:20`"
   ]
  },
  {
   "cell_type": "code",
   "execution_count": 46,
   "id": "7623a133d0b64611",
   "metadata": {
    "collapsed": false,
    "ExecuteTime": {
     "end_time": "2023-08-15T03:48:23.860185709Z",
     "start_time": "2023-08-15T03:48:23.858447758Z"
    }
   },
   "outputs": [],
   "source": [
    "from sklearn.model_selection import train_test_split"
   ]
  },
  {
   "cell_type": "code",
   "execution_count": 47,
   "id": "298ef3b381e3e107",
   "metadata": {
    "collapsed": false,
    "ExecuteTime": {
     "end_time": "2023-08-15T03:48:23.860283658Z",
     "start_time": "2023-08-15T03:48:23.858508319Z"
    }
   },
   "outputs": [],
   "source": [
    "X_train, X_test, Y_train, Y_test = train_test_split(X, Y, test_size=0.2)"
   ]
  },
  {
   "cell_type": "markdown",
   "id": "55c66dc69693cfce",
   "metadata": {
    "collapsed": false
   },
   "source": [
    "#### Tạo model và biên dịch"
   ]
  },
  {
   "cell_type": "code",
   "execution_count": 48,
   "id": "26d6d27b27488d5a",
   "metadata": {
    "collapsed": false,
    "ExecuteTime": {
     "end_time": "2023-08-15T03:48:23.922615314Z",
     "start_time": "2023-08-15T03:48:23.858557640Z"
    }
   },
   "outputs": [],
   "source": [
    "from keras.models import Sequential\n",
    "from keras.layers import Dense\n",
    "\n",
    "model = Sequential()\n",
    "model.add(Dense(3, input_shape=(4,), activation='softmax'))\n",
    "model.compile(optimizer='adam', loss='sparse_categorical_crossentropy', metrics=['accuracy'])"
   ]
  },
  {
   "cell_type": "markdown",
   "id": "e312f9362662186b",
   "metadata": {
    "collapsed": false
   },
   "source": [
    "#### Train model"
   ]
  },
  {
   "cell_type": "code",
   "execution_count": 49,
   "id": "9ef086ab1686368f",
   "metadata": {
    "collapsed": false,
    "ExecuteTime": {
     "end_time": "2023-08-15T03:48:28.136636858Z",
     "start_time": "2023-08-15T03:48:23.905798477Z"
    }
   },
   "outputs": [],
   "source": [
    "his = model.fit(X_train, Y_train, epochs=150, batch_size=20, validation_data=(X_test, Y_test), verbose=0)"
   ]
  },
  {
   "cell_type": "markdown",
   "id": "93de7d685027588d",
   "metadata": {
    "collapsed": false
   },
   "source": [
    "#### Đánh giá model"
   ]
  },
  {
   "cell_type": "code",
   "execution_count": 50,
   "id": "9b4e4eb02e4ded56",
   "metadata": {
    "collapsed": false,
    "ExecuteTime": {
     "end_time": "2023-08-15T03:48:28.188650435Z",
     "start_time": "2023-08-15T03:48:28.136860376Z"
    }
   },
   "outputs": [],
   "source": [
    "score = model.evaluate(X_test, Y_test, verbose=0)"
   ]
  },
  {
   "cell_type": "code",
   "execution_count": 51,
   "id": "f075b36f3b1a1302",
   "metadata": {
    "collapsed": false,
    "ExecuteTime": {
     "end_time": "2023-08-15T03:48:28.196002460Z",
     "start_time": "2023-08-15T03:48:28.190474652Z"
    }
   },
   "outputs": [
    {
     "name": "stdout",
     "output_type": "stream",
     "text": [
      "Loss:  0.5853260159492493\n",
      "Accuracy:  0.800000011920929\n"
     ]
    }
   ],
   "source": [
    "print('Loss: ', score[0])\n",
    "print('Accuracy: ', score[1])"
   ]
  },
  {
   "cell_type": "code",
   "execution_count": 52,
   "outputs": [],
   "source": [
    "import matplotlib.pyplot as plt"
   ],
   "metadata": {
    "collapsed": false,
    "ExecuteTime": {
     "end_time": "2023-08-15T03:48:28.196217590Z",
     "start_time": "2023-08-15T03:48:28.193937765Z"
    }
   },
   "id": "505f8b26864934c3"
  },
  {
   "cell_type": "code",
   "execution_count": 53,
   "outputs": [
    {
     "data": {
      "text/plain": "[<matplotlib.lines.Line2D at 0x7f83704720b0>]"
     },
     "execution_count": 53,
     "metadata": {},
     "output_type": "execute_result"
    },
    {
     "data": {
      "text/plain": "<Figure size 640x480 with 1 Axes>",
      "image/png": "[encoded data removed]"
     },
     "metadata": {},
     "output_type": "display_data"
    }
   ],
   "source": [
    "plt.plot(his.history['accuracy'])"
   ],
   "metadata": {
    "collapsed": false,
    "ExecuteTime": {
     "end_time": "2023-08-15T03:48:28.374433268Z",
     "start_time": "2023-08-15T03:48:28.196602144Z"
    }
   },
   "id": "31219a21206e84e2"
  },
  {
   "cell_type": "code",
   "execution_count": 54,
   "outputs": [
    {
     "data": {
      "text/plain": "[<matplotlib.lines.Line2D at 0x7f838062c5b0>]"
     },
     "execution_count": 54,
     "metadata": {},
     "output_type": "execute_result"
    },
    {
     "data": {
      "text/plain": "<Figure size 640x480 with 1 Axes>",
      "image/png": "[encoded data removed]"
     },
     "metadata": {},
     "output_type": "display_data"
    }
   ],
   "source": [
    "plt.plot(his.history['loss'])"
   ],
   "metadata": {
    "collapsed": false,
    "ExecuteTime": {
     "end_time": "2023-08-15T03:48:28.567452961Z",
     "start_time": "2023-08-15T03:48:28.365789715Z"
    }
   },
   "id": "8d64bf67cbc048e4"
  }
 ],
 "metadata": {
  "kernelspec": {
   "display_name": "Python 3",
   "language": "python",
   "name": "python3"
  },
  "language_info": {
   "codemirror_mode": {
    "name": "ipython",
    "version": 2
   },
   "file_extension": ".py",
   "mimetype": "text/x-python",
   "name": "python",
   "nbconvert_exporter": "python",
   "pygments_lexer": "ipython2",
   "version": "2.7.6"
  }
 },
 "nbformat": 4,
 "nbformat_minor": 5
}
